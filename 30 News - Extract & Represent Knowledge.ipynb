{
 "cells": [
  {
   "cell_type": "markdown",
   "metadata": {},
   "source": [
    "# 30 News - Represent & Extract Knowledge"
   ]
  },
  {
   "cell_type": "markdown",
   "metadata": {},
   "source": [
    "---"
   ]
  },
  {
   "cell_type": "markdown",
   "metadata": {},
   "source": [
    "### Project Participant"
   ]
  },
  {
   "cell_type": "markdown",
   "metadata": {},
   "source": [
    "* Mentor: Hatim CHAHDI\n",
    "* E-mail: hatim.chahdi@intervenants.efrei.fr"
   ]
  },
  {
   "cell_type": "markdown",
   "metadata": {},
   "source": [
    "* EFREI Paris\n",
    "* Master 2 Class of 2019\n",
    "* Business Intelligence (Group 1)"
   ]
  },
  {
   "cell_type": "markdown",
   "metadata": {},
   "source": [
    "* Student 1: CAI Yutong\n",
    "* Student ID: 20140589\n",
    "* E-mail: yutong.cai@efrei.net"
   ]
  },
  {
   "cell_type": "markdown",
   "metadata": {},
   "source": [
    "* Student 2: WANG Shimeng\n",
    "* Student ID: 20140607\n",
    "* E-mail:shimeng.wang@efrei.net"
   ]
  },
  {
   "cell_type": "markdown",
   "metadata": {},
   "source": [
    "### Project Description\n",
    "The objectives of this project are \"Represent knowledge using RDF, RDFS and OWL\" and \"Extract knowledge from text using Naîve Bayes and SVM\". First we collected 30 news of various categories on the CNN and BBC websites (these types are the same as the news types in the fetch_20newsgroups dataset). In order to categorize these news texts, we used two classification algorithms, Naîve Bayes and SVM, and we used the fetch_20newsgroups dataset as our model training set. To get a better classifier, we used NLTK for text preprocessing and used Grid Search to find better model hyperparameters during training. We tried a lot of methods to build RDF files in Python. Finally we chose to build our RDF files using RDFLib, and RDFLib provides a simpler way to do SPARQL query."
   ]
  },
  {
   "cell_type": "markdown",
   "metadata": {},
   "source": [
    "---"
   ]
  },
  {
   "cell_type": "markdown",
   "metadata": {},
   "source": [
    "## PART 1. Import and Display Self-built Dataset"
   ]
  },
  {
   "cell_type": "markdown",
   "metadata": {},
   "source": [
    "### 1.0. Self-built Dataset Description"
   ]
  },
  {
   "cell_type": "markdown",
   "metadata": {},
   "source": [
    "A total of 30 news articles in the data set are used to test the training results of \"fetch_20newsgroups\" on the model. All news was selected from the BBC and CNN news, which are divided into the following ten categories, each with three news articles.\n",
    "* 2.'comp.os.ms-windows.misc'\n",
    "* 6.'misc.forsale'\n",
    "* 7.'rec.autos'\n",
    "* 8.'rec.motorcycles'\n",
    "* 9.'rec.sport.baseball'\n",
    "* 10.'rec.sport.hockey'\n",
    "* 15.'soc.religion.christian'\n",
    "* 16.'talk.politics.guns'\n",
    "* 17.'talk.politics.mideast'\n",
    "* 18.'talk.politics.misc'"
   ]
  },
  {
   "cell_type": "markdown",
   "metadata": {},
   "source": [
    "### 1.1 Import Self-built Dataset"
   ]
  },
  {
   "cell_type": "code",
   "execution_count": 1,
   "metadata": {},
   "outputs": [],
   "source": [
    "import pandas as pd\n",
    "\n",
    "df_news30 = pd.read_csv('news30.csv')"
   ]
  },
  {
   "cell_type": "markdown",
   "metadata": {},
   "source": [
    "### 1.2 Display Self-built Dataset"
   ]
  },
  {
   "cell_type": "code",
   "execution_count": 2,
   "metadata": {
    "scrolled": false
   },
   "outputs": [
    {
     "data": {
      "text/html": [
       "<div>\n",
       "<style scoped>\n",
       "    .dataframe tbody tr th:only-of-type {\n",
       "        vertical-align: middle;\n",
       "    }\n",
       "\n",
       "    .dataframe tbody tr th {\n",
       "        vertical-align: top;\n",
       "    }\n",
       "\n",
       "    .dataframe thead th {\n",
       "        text-align: right;\n",
       "    }\n",
       "</style>\n",
       "<table border=\"1\" class=\"dataframe\">\n",
       "  <thead>\n",
       "    <tr style=\"text-align: right;\">\n",
       "      <th></th>\n",
       "      <th>category</th>\n",
       "      <th>title</th>\n",
       "      <th>author</th>\n",
       "      <th>newspaper</th>\n",
       "      <th>time</th>\n",
       "      <th>content</th>\n",
       "    </tr>\n",
       "  </thead>\n",
       "  <tbody>\n",
       "    <tr>\n",
       "      <th>0</th>\n",
       "      <td>2</td>\n",
       "      <td>Windows 10 release</td>\n",
       "      <td>Unknown</td>\n",
       "      <td>BBC News</td>\n",
       "      <td>12-Nov-18</td>\n",
       "      <td>The much delayed Windows 10 October 2018 updat...</td>\n",
       "    </tr>\n",
       "    <tr>\n",
       "      <th>1</th>\n",
       "      <td>2</td>\n",
       "      <td>Microsoft ends retail sales of Windows 7 and 8</td>\n",
       "      <td>Unknown</td>\n",
       "      <td>BBC News</td>\n",
       "      <td>3-Nov-14</td>\n",
       "      <td>Microsoft has officially stopped selling retai...</td>\n",
       "    </tr>\n",
       "    <tr>\n",
       "      <th>2</th>\n",
       "      <td>2</td>\n",
       "      <td>Microsoft gives up on Windows 10 Mobile</td>\n",
       "      <td>Leo Kelion</td>\n",
       "      <td>BBC News</td>\n",
       "      <td>9-Oct-17</td>\n",
       "      <td>Microsoft appears to have abandoned its smartp...</td>\n",
       "    </tr>\n",
       "    <tr>\n",
       "      <th>3</th>\n",
       "      <td>6</td>\n",
       "      <td>Kodak sale of flexographic packaging business</td>\n",
       "      <td>Ciara Linnane</td>\n",
       "      <td>CNN News</td>\n",
       "      <td>12-Nov-18</td>\n",
       "      <td>Eastman Kodak Co.'s shares KODK, +18.45% soare...</td>\n",
       "    </tr>\n",
       "    <tr>\n",
       "      <th>4</th>\n",
       "      <td>6</td>\n",
       "      <td>Private messages from 81,000 hacked Facebook a...</td>\n",
       "      <td>Andrei Zakharov</td>\n",
       "      <td>BBC News</td>\n",
       "      <td>2-Nov-18</td>\n",
       "      <td>Hackers appear to have compromised and publish...</td>\n",
       "    </tr>\n",
       "  </tbody>\n",
       "</table>\n",
       "</div>"
      ],
      "text/plain": [
       "   category                                              title  \\\n",
       "0         2                                 Windows 10 release   \n",
       "1         2     Microsoft ends retail sales of Windows 7 and 8   \n",
       "2         2            Microsoft gives up on Windows 10 Mobile   \n",
       "3         6      Kodak sale of flexographic packaging business   \n",
       "4         6  Private messages from 81,000 hacked Facebook a...   \n",
       "\n",
       "            author newspaper       time  \\\n",
       "0          Unknown  BBC News  12-Nov-18   \n",
       "1          Unknown  BBC News   3-Nov-14   \n",
       "2       Leo Kelion  BBC News   9-Oct-17   \n",
       "3    Ciara Linnane  CNN News  12-Nov-18   \n",
       "4  Andrei Zakharov  BBC News   2-Nov-18   \n",
       "\n",
       "                                             content  \n",
       "0  The much delayed Windows 10 October 2018 updat...  \n",
       "1  Microsoft has officially stopped selling retai...  \n",
       "2  Microsoft appears to have abandoned its smartp...  \n",
       "3  Eastman Kodak Co.'s shares KODK, +18.45% soare...  \n",
       "4  Hackers appear to have compromised and publish...  "
      ]
     },
     "execution_count": 2,
     "metadata": {},
     "output_type": "execute_result"
    }
   ],
   "source": [
    "df_news30.head()"
   ]
  },
  {
   "cell_type": "markdown",
   "metadata": {},
   "source": [
    "#### 1.2.1. View Dataset Shape"
   ]
  },
  {
   "cell_type": "code",
   "execution_count": 3,
   "metadata": {
    "scrolled": true
   },
   "outputs": [
    {
     "data": {
      "text/plain": [
       "(30, 6)"
      ]
     },
     "execution_count": 3,
     "metadata": {},
     "output_type": "execute_result"
    }
   ],
   "source": [
    "df_news30.shape"
   ]
  },
  {
   "cell_type": "markdown",
   "metadata": {},
   "source": [
    "#### 1.2.2. View Column Names"
   ]
  },
  {
   "cell_type": "code",
   "execution_count": 4,
   "metadata": {},
   "outputs": [
    {
     "data": {
      "text/plain": [
       "Index(['category', 'title', 'author', 'newspaper', 'time', 'content'], dtype='object')"
      ]
     },
     "execution_count": 4,
     "metadata": {},
     "output_type": "execute_result"
    }
   ],
   "source": [
    "df_news30.columns"
   ]
  },
  {
   "cell_type": "markdown",
   "metadata": {},
   "source": [
    "#### 1.2.3. View Target Names"
   ]
  },
  {
   "cell_type": "code",
   "execution_count": 5,
   "metadata": {
    "scrolled": true
   },
   "outputs": [
    {
     "data": {
      "text/plain": [
       "array([ 2,  6,  7,  8,  9, 10, 15, 16, 17, 18])"
      ]
     },
     "execution_count": 5,
     "metadata": {},
     "output_type": "execute_result"
    }
   ],
   "source": [
    "df_news30.category.unique()"
   ]
  },
  {
   "cell_type": "markdown",
   "metadata": {},
   "source": [
    "---"
   ]
  },
  {
   "cell_type": "markdown",
   "metadata": {},
   "source": [
    "## PART 2. Text Classification Using Machine Learning Algorithms"
   ]
  },
  {
   "cell_type": "markdown",
   "metadata": {},
   "source": [
    "### 2.0. Reference material\n",
    "\n",
    "* Removing stop words with NLTK in Python: https://www.geeksforgeeks.org/removing-stop-words-nltk-python/\n",
    "* Relationship between CountVectorizer, TfidfTransformer, TfidfVectorizer: http://www.voidcn.com/article/p-qedmavfk-bmq.html\n",
    "* CountVectorizer & TfidfVectorizer in Scikit-learn: https://blog.csdn.net/the_lastest/article/details/79093407\n",
    "* Python string and list conversion: https://www.cnblogs.com/wills666/p/7007740.html\n",
    "* Python np.array and list conversion: https://blog.csdn.net/baiyu9821179/article/details/53365476\n",
    "* Python numpy array indexing: https://www.cnblogs.com/McKean/p/6412164.html\n",
    "* Use GridSearch to adjust parameters: https://blog.csdn.net/weixin_36541072/article/details/70052493\n",
    "* Save and load Sklearn model: https://blog.csdn.net/qq_32005671/article/details/72774306\n",
    "* Draw bar graph with matplotlib: https://www.cnblogs.com/cymwill/p/6808178.html\n",
    "* Plt axis setting: https://www.jb51.net/article/129823.htm\n",
    "* Double bar graph add value label: http://www.manongjc.com/article/2278.html\n",
    "* Number formatted output: https://www.cnblogs.com/Raymon-Geng/p/5784290.html"
   ]
  },
  {
   "cell_type": "markdown",
   "metadata": {},
   "source": [
    "### 2.1. NLTK Function Setting"
   ]
  },
  {
   "cell_type": "code",
   "execution_count": 6,
   "metadata": {},
   "outputs": [
    {
     "name": "stdout",
     "output_type": "stream",
     "text": [
      "[nltk_data] Downloading package stopwords to\n",
      "[nltk_data]     /Users/caiyutong/nltk_data...\n",
      "[nltk_data]   Package stopwords is already up-to-date!\n",
      "[nltk_data] Downloading package punkt to /Users/caiyutong/nltk_data...\n",
      "[nltk_data]   Package punkt is already up-to-date!\n"
     ]
    },
    {
     "data": {
      "text/plain": [
       "True"
      ]
     },
     "execution_count": 6,
     "metadata": {},
     "output_type": "execute_result"
    }
   ],
   "source": [
    "import nltk\n",
    "\n",
    "nltk.download('stopwords')\n",
    "nltk.download('punkt')"
   ]
  },
  {
   "cell_type": "code",
   "execution_count": 7,
   "metadata": {},
   "outputs": [],
   "source": [
    "from nltk.corpus import stopwords\n",
    "\n",
    "stop_words = set(stopwords.words('english'))"
   ]
  },
  {
   "cell_type": "code",
   "execution_count": 8,
   "metadata": {},
   "outputs": [],
   "source": [
    "from nltk.tokenize import word_tokenize\n",
    "\n",
    "def NltkTransform(input_array):\n",
    "    \n",
    "    words_list = []\n",
    "\n",
    "    for words in input_array:\n",
    "        word_tokens = word_tokenize(words)\n",
    "        filtered_sentence = [w for w in word_tokens if not w in stop_words]\n",
    "        words_list.append(' '.join(filtered_sentence))\n",
    "    \n",
    "    nltk_array = np.array(words_list)\n",
    "    \n",
    "    return nltk_array"
   ]
  },
  {
   "cell_type": "markdown",
   "metadata": {},
   "source": [
    "### 2.2. Import Training & Testing Dataset"
   ]
  },
  {
   "cell_type": "code",
   "execution_count": 9,
   "metadata": {},
   "outputs": [],
   "source": [
    "from sklearn.datasets import fetch_20newsgroups\n",
    "\n",
    "news = fetch_20newsgroups(subset='all')"
   ]
  },
  {
   "cell_type": "code",
   "execution_count": 10,
   "metadata": {},
   "outputs": [],
   "source": [
    "import numpy as np\n",
    "\n",
    "# X = news.data\n",
    "# y = news.target\n",
    "\n",
    "X = NltkTransform(news.data)\n",
    "y = news.target"
   ]
  },
  {
   "cell_type": "markdown",
   "metadata": {},
   "source": [
    "### 2.3. Separation Dataset"
   ]
  },
  {
   "cell_type": "code",
   "execution_count": 11,
   "metadata": {},
   "outputs": [],
   "source": [
    "from sklearn.model_selection import train_test_split\n",
    "\n",
    "X_train, X_test, y_train, y_test = train_test_split(X, y, test_size=0.25, random_state=33)"
   ]
  },
  {
   "cell_type": "markdown",
   "metadata": {},
   "source": [
    "### 2.4. Build Pipeline & Model Training / Grid Search Model Training"
   ]
  },
  {
   "cell_type": "markdown",
   "metadata": {},
   "source": [
    "* The machine learning model has been saved in file, you don't need to train the model again.\n",
    "* If you want to save time, please skip this section (2.4) and start with the code in section 2.5."
   ]
  },
  {
   "cell_type": "markdown",
   "metadata": {},
   "source": [
    "#### 2.4.1. Build Pipeline for MultinomialNB & Model Training"
   ]
  },
  {
   "cell_type": "code",
   "execution_count": null,
   "metadata": {},
   "outputs": [],
   "source": [
    "from sklearn.pipeline import Pipeline\n",
    "from sklearn.feature_extraction.text import CountVectorizer\n",
    "from sklearn.feature_extraction.text import TfidfTransformer\n",
    "from sklearn.naive_bayes import MultinomialNB\n",
    "\n",
    "mnb_clf = Pipeline([\n",
    "    ('vect', CountVectorizer()), \n",
    "    ('tfidf', TfidfTransformer()), \n",
    "    ('mnb', MultinomialNB())\n",
    "])\n",
    "\n",
    "mnb_clf = mnb_clf.fit(X_train, y_train)"
   ]
  },
  {
   "cell_type": "code",
   "execution_count": null,
   "metadata": {},
   "outputs": [],
   "source": [
    "from sklearn.externals import joblib\n",
    "# Save machine learning model\n",
    "joblib.dump(mnb_clf, \"mnb_clf.m\")"
   ]
  },
  {
   "cell_type": "markdown",
   "metadata": {},
   "source": [
    "#### 2.4.2. Build Pipeline for LinearSVC & Model Training"
   ]
  },
  {
   "cell_type": "code",
   "execution_count": null,
   "metadata": {},
   "outputs": [],
   "source": [
    "from sklearn.pipeline import Pipeline\n",
    "from sklearn.feature_extraction.text import CountVectorizer\n",
    "from sklearn.feature_extraction.text import TfidfTransformer\n",
    "from sklearn.svm import LinearSVC\n",
    "\n",
    "svm_clf = Pipeline([\n",
    "    ('vect', CountVectorizer()), \n",
    "    ('tfidf', TfidfTransformer()), \n",
    "    ('svc', LinearSVC())\n",
    "])\n",
    "\n",
    "svm_clf = svm_clf.fit(X_train, y_train)"
   ]
  },
  {
   "cell_type": "code",
   "execution_count": null,
   "metadata": {},
   "outputs": [],
   "source": [
    "from sklearn.externals import joblib\n",
    "# Save machine learning model\n",
    "joblib.dump(svm_clf, \"svm_clf.m\")"
   ]
  },
  {
   "cell_type": "markdown",
   "metadata": {},
   "source": [
    "#### 2.4.3. Grid Search for MultinomialNB"
   ]
  },
  {
   "cell_type": "code",
   "execution_count": null,
   "metadata": {},
   "outputs": [],
   "source": [
    "print(sorted(mnb_clf.get_params().keys()))"
   ]
  },
  {
   "cell_type": "code",
   "execution_count": null,
   "metadata": {},
   "outputs": [],
   "source": [
    "from sklearn.model_selection import GridSearchCV\n",
    "\n",
    "parameters = {\n",
    "    'vect__ngram_range': [(1, 1), (1, 2)], \n",
    "    'tfidf__use_idf': (True, False), \n",
    "    'mnb__alpha': (1e-2, 1e-3)\n",
    "}"
   ]
  },
  {
   "cell_type": "code",
   "execution_count": null,
   "metadata": {},
   "outputs": [],
   "source": [
    "gs_mnb_clf = GridSearchCV(mnb_clf, parameters, n_jobs=-1)\n",
    "gs_mnb_clf = gs_mnb_clf.fit(X_train, y_train)"
   ]
  },
  {
   "cell_type": "code",
   "execution_count": null,
   "metadata": {},
   "outputs": [],
   "source": [
    "from sklearn.externals import joblib\n",
    "# Save machine learning model\n",
    "joblib.dump(gs_mnb_clf, \"gs_mnb_clf.m\")"
   ]
  },
  {
   "cell_type": "code",
   "execution_count": null,
   "metadata": {},
   "outputs": [],
   "source": [
    "print(gs_mnb_clf.best_score_)\n",
    "print(gs_mnb_clf.best_params_)"
   ]
  },
  {
   "cell_type": "code",
   "execution_count": null,
   "metadata": {},
   "outputs": [],
   "source": [
    "gs_best_mnb_clf = gs_mnb_clf.best_estimator_"
   ]
  },
  {
   "cell_type": "code",
   "execution_count": null,
   "metadata": {},
   "outputs": [],
   "source": [
    "from sklearn.externals import joblib\n",
    "# Save machine learning model\n",
    "joblib.dump(gs_best_mnb_clf, \"gs_best_mnb_clf.m\")"
   ]
  },
  {
   "cell_type": "markdown",
   "metadata": {},
   "source": [
    "#### 2.4.4. Grid Search for LinearSVC"
   ]
  },
  {
   "cell_type": "code",
   "execution_count": null,
   "metadata": {},
   "outputs": [],
   "source": [
    "print(sorted(svm_clf.get_params().keys()))"
   ]
  },
  {
   "cell_type": "code",
   "execution_count": null,
   "metadata": {},
   "outputs": [],
   "source": [
    "from sklearn.model_selection import GridSearchCV\n",
    "\n",
    "parameters = { \n",
    "    'vect__ngram_range': [(1, 1), (1, 2)], \n",
    "    'tfidf__use_idf': (True, False),\n",
    "    'svc__C':[0.1, 1, 10], \n",
    "} "
   ]
  },
  {
   "cell_type": "code",
   "execution_count": null,
   "metadata": {},
   "outputs": [],
   "source": [
    "gs_svm_clf = GridSearchCV(svm_clf, parameters, n_jobs=-1)\n",
    "gs_svm_clf = gs_svm_clf.fit(X_train, y_train)"
   ]
  },
  {
   "cell_type": "code",
   "execution_count": null,
   "metadata": {},
   "outputs": [],
   "source": [
    "from sklearn.externals import joblib\n",
    "# Save machine learning model\n",
    "joblib.dump(gs_svm_clf, \"gs_svm_clf.m\")"
   ]
  },
  {
   "cell_type": "code",
   "execution_count": null,
   "metadata": {},
   "outputs": [],
   "source": [
    "print(gs_svm_clf.best_score_)\n",
    "print(gs_svm_clf.best_params_)"
   ]
  },
  {
   "cell_type": "code",
   "execution_count": null,
   "metadata": {},
   "outputs": [],
   "source": [
    "gs_best_svm_clf = gs_svm_clf.best_estimator_"
   ]
  },
  {
   "cell_type": "code",
   "execution_count": null,
   "metadata": {},
   "outputs": [],
   "source": [
    "from sklearn.externals import joblib\n",
    "# Save machine learning model\n",
    "joblib.dump(gs_best_svm_clf, \"gs_best_svm_clf.m\")"
   ]
  },
  {
   "cell_type": "markdown",
   "metadata": {},
   "source": [
    "### 2.5. Evaluate the Model with Testing Data"
   ]
  },
  {
   "cell_type": "code",
   "execution_count": 12,
   "metadata": {},
   "outputs": [],
   "source": [
    "from sklearn.externals import joblib"
   ]
  },
  {
   "cell_type": "code",
   "execution_count": 13,
   "metadata": {},
   "outputs": [],
   "source": [
    "mnb_clf = joblib.load(\"mnb_clf.m\")"
   ]
  },
  {
   "cell_type": "code",
   "execution_count": 14,
   "metadata": {},
   "outputs": [],
   "source": [
    "svm_clf = joblib.load(\"svm_clf.m\")"
   ]
  },
  {
   "cell_type": "code",
   "execution_count": 15,
   "metadata": {},
   "outputs": [],
   "source": [
    "gs_best_mnb_clf = joblib.load(\"gs_best_mnb_clf.m\")"
   ]
  },
  {
   "cell_type": "code",
   "execution_count": 16,
   "metadata": {},
   "outputs": [],
   "source": [
    "gs_best_svm_clf = joblib.load(\"gs_best_svm_clf.m\")"
   ]
  },
  {
   "cell_type": "markdown",
   "metadata": {},
   "source": [
    "#### 2.5.1. MultinomialNB Model Evaluation"
   ]
  },
  {
   "cell_type": "code",
   "execution_count": 17,
   "metadata": {},
   "outputs": [],
   "source": [
    "mnb_y_predict = mnb_clf.predict(X_test)"
   ]
  },
  {
   "cell_type": "code",
   "execution_count": 18,
   "metadata": {},
   "outputs": [
    {
     "name": "stdout",
     "output_type": "stream",
     "text": [
      "Accuracy of MultinomialNB: 0.8769100169779287\n",
      "\n",
      "                          precision    recall  f1-score   support\n",
      "\n",
      "             alt.atheism       0.86      0.79      0.82       201\n",
      "           comp.graphics       0.84      0.79      0.82       250\n",
      " comp.os.ms-windows.misc       0.84      0.88      0.86       248\n",
      "comp.sys.ibm.pc.hardware       0.77      0.88      0.82       240\n",
      "   comp.sys.mac.hardware       0.93      0.87      0.90       242\n",
      "          comp.windows.x       0.95      0.88      0.92       263\n",
      "            misc.forsale       0.91      0.79      0.84       257\n",
      "               rec.autos       0.89      0.91      0.90       238\n",
      "         rec.motorcycles       0.98      0.94      0.96       276\n",
      "      rec.sport.baseball       0.97      0.93      0.95       251\n",
      "        rec.sport.hockey       0.88      0.99      0.93       233\n",
      "               sci.crypt       0.82      0.97      0.89       238\n",
      "         sci.electronics       0.91      0.86      0.88       249\n",
      "                 sci.med       0.97      0.92      0.95       245\n",
      "               sci.space       0.89      0.97      0.93       221\n",
      "  soc.religion.christian       0.65      0.96      0.78       232\n",
      "      talk.politics.guns       0.84      0.97      0.90       251\n",
      "   talk.politics.mideast       0.92      0.99      0.95       231\n",
      "      talk.politics.misc       0.98      0.73      0.84       188\n",
      "      talk.religion.misc       0.96      0.28      0.43       158\n",
      "\n",
      "             avg / total       0.89      0.88      0.87      4712\n",
      "\n"
     ]
    }
   ],
   "source": [
    "print(\"Accuracy of MultinomialNB:\", mnb_clf.score(X_test, y_test))\n",
    "print()\n",
    "\n",
    "from sklearn.metrics import classification_report\n",
    "print(classification_report(y_test, mnb_y_predict, target_names=news.target_names))"
   ]
  },
  {
   "cell_type": "markdown",
   "metadata": {},
   "source": [
    "#### 2.5.2. LinearSVC Model Evaluation"
   ]
  },
  {
   "cell_type": "code",
   "execution_count": 19,
   "metadata": {},
   "outputs": [],
   "source": [
    "svm_y_predict = svm_clf.predict(X_test)"
   ]
  },
  {
   "cell_type": "code",
   "execution_count": 20,
   "metadata": {},
   "outputs": [
    {
     "name": "stdout",
     "output_type": "stream",
     "text": [
      "Accuracy of LinearSVC: 0.9291171477079796\n",
      "\n",
      "                          precision    recall  f1-score   support\n",
      "\n",
      "             alt.atheism       0.93      0.89      0.91       201\n",
      "           comp.graphics       0.87      0.85      0.86       250\n",
      " comp.os.ms-windows.misc       0.89      0.90      0.90       248\n",
      "comp.sys.ibm.pc.hardware       0.83      0.84      0.83       240\n",
      "   comp.sys.mac.hardware       0.91      0.92      0.91       242\n",
      "          comp.windows.x       0.91      0.91      0.91       263\n",
      "            misc.forsale       0.88      0.90      0.89       257\n",
      "               rec.autos       0.93      0.93      0.93       238\n",
      "         rec.motorcycles       0.98      0.96      0.97       276\n",
      "      rec.sport.baseball       0.97      0.96      0.96       251\n",
      "        rec.sport.hockey       0.96      0.99      0.97       233\n",
      "               sci.crypt       0.96      0.97      0.96       238\n",
      "         sci.electronics       0.92      0.92      0.92       249\n",
      "                 sci.med       0.97      0.97      0.97       245\n",
      "               sci.space       0.97      0.97      0.97       221\n",
      "  soc.religion.christian       0.94      0.95      0.94       232\n",
      "      talk.politics.guns       0.95      0.98      0.97       251\n",
      "   talk.politics.mideast       0.98      0.99      0.99       231\n",
      "      talk.politics.misc       0.95      0.92      0.94       188\n",
      "      talk.religion.misc       0.90      0.84      0.87       158\n",
      "\n",
      "             avg / total       0.93      0.93      0.93      4712\n",
      "\n"
     ]
    }
   ],
   "source": [
    "print(\"Accuracy of LinearSVC:\", svm_clf.score(X_test, y_test))\n",
    "print()\n",
    "\n",
    "from sklearn.metrics import classification_report\n",
    "print(classification_report(y_test, svm_y_predict, target_names=news.target_names))"
   ]
  },
  {
   "cell_type": "markdown",
   "metadata": {},
   "source": [
    "#### 2.5.3. Best MultinomialNB Model Grid Search Evaluation"
   ]
  },
  {
   "cell_type": "code",
   "execution_count": 21,
   "metadata": {},
   "outputs": [],
   "source": [
    "gs_best_mnb_y_predict = gs_best_mnb_clf.predict(X_test)"
   ]
  },
  {
   "cell_type": "code",
   "execution_count": 22,
   "metadata": {},
   "outputs": [
    {
     "name": "stdout",
     "output_type": "stream",
     "text": [
      "Accuracy of Best Grid Search LinearSVC: 0.9157470288624788\n",
      "\n",
      "                          precision    recall  f1-score   support\n",
      "\n",
      "             alt.atheism       0.93      0.93      0.93       201\n",
      "           comp.graphics       0.77      0.82      0.79       250\n",
      " comp.os.ms-windows.misc       0.82      0.87      0.84       248\n",
      "comp.sys.ibm.pc.hardware       0.84      0.87      0.85       240\n",
      "   comp.sys.mac.hardware       0.90      0.90      0.90       242\n",
      "          comp.windows.x       0.90      0.87      0.88       263\n",
      "            misc.forsale       0.91      0.82      0.86       257\n",
      "               rec.autos       0.92      0.93      0.92       238\n",
      "         rec.motorcycles       0.98      0.95      0.96       276\n",
      "      rec.sport.baseball       0.97      0.94      0.96       251\n",
      "        rec.sport.hockey       0.94      0.98      0.96       233\n",
      "               sci.crypt       0.96      0.96      0.96       238\n",
      "         sci.electronics       0.91      0.93      0.92       249\n",
      "                 sci.med       0.93      0.94      0.93       245\n",
      "               sci.space       0.95      0.95      0.95       221\n",
      "  soc.religion.christian       0.92      0.96      0.94       232\n",
      "      talk.politics.guns       0.97      0.98      0.98       251\n",
      "   talk.politics.mideast       0.98      0.99      0.98       231\n",
      "      talk.politics.misc       0.94      0.93      0.94       188\n",
      "      talk.religion.misc       0.93      0.78      0.85       158\n",
      "\n",
      "             avg / total       0.92      0.92      0.92      4712\n",
      "\n"
     ]
    }
   ],
   "source": [
    "print(\"Accuracy of Best Grid Search LinearSVC:\", gs_best_mnb_clf.score(X_test, y_test))\n",
    "print()\n",
    "\n",
    "from sklearn.metrics import classification_report\n",
    "print(classification_report(y_test, gs_best_mnb_y_predict, target_names=news.target_names))"
   ]
  },
  {
   "cell_type": "markdown",
   "metadata": {},
   "source": [
    "#### 2.5.4. Best LinearSVC Model Grid Search Evaluation"
   ]
  },
  {
   "cell_type": "code",
   "execution_count": 23,
   "metadata": {},
   "outputs": [],
   "source": [
    "gs_best_svm_y_predict = gs_best_svm_clf.predict(X_test)"
   ]
  },
  {
   "cell_type": "code",
   "execution_count": 24,
   "metadata": {},
   "outputs": [
    {
     "name": "stdout",
     "output_type": "stream",
     "text": [
      "Accuracy of Best Grid Search LinearSVC: 0.9333616298811545\n",
      "\n",
      "                          precision    recall  f1-score   support\n",
      "\n",
      "             alt.atheism       0.94      0.91      0.92       201\n",
      "           comp.graphics       0.85      0.86      0.86       250\n",
      " comp.os.ms-windows.misc       0.91      0.91      0.91       248\n",
      "comp.sys.ibm.pc.hardware       0.84      0.85      0.85       240\n",
      "   comp.sys.mac.hardware       0.90      0.93      0.92       242\n",
      "          comp.windows.x       0.93      0.92      0.92       263\n",
      "            misc.forsale       0.88      0.92      0.90       257\n",
      "               rec.autos       0.94      0.93      0.94       238\n",
      "         rec.motorcycles       0.99      0.95      0.97       276\n",
      "      rec.sport.baseball       0.96      0.95      0.96       251\n",
      "        rec.sport.hockey       0.96      0.98      0.97       233\n",
      "               sci.crypt       0.96      0.97      0.97       238\n",
      "         sci.electronics       0.93      0.92      0.92       249\n",
      "                 sci.med       0.95      0.96      0.96       245\n",
      "               sci.space       0.96      0.97      0.96       221\n",
      "  soc.religion.christian       0.94      0.95      0.94       232\n",
      "      talk.politics.guns       0.96      0.98      0.97       251\n",
      "   talk.politics.mideast       0.99      0.99      0.99       231\n",
      "      talk.politics.misc       0.95      0.93      0.94       188\n",
      "      talk.religion.misc       0.93      0.86      0.89       158\n",
      "\n",
      "             avg / total       0.93      0.93      0.93      4712\n",
      "\n"
     ]
    }
   ],
   "source": [
    "print(\"Accuracy of Best Grid Search LinearSVC:\", gs_best_svm_clf.score(X_test, y_test))\n",
    "print()\n",
    "\n",
    "from sklearn.metrics import classification_report\n",
    "print(classification_report(y_test, gs_best_svm_y_predict, target_names=news.target_names))"
   ]
  },
  {
   "cell_type": "markdown",
   "metadata": {},
   "source": [
    "#### 2.5.5. Use Chart to Display Classification Accuracy"
   ]
  },
  {
   "cell_type": "code",
   "execution_count": 25,
   "metadata": {},
   "outputs": [
    {
     "data": {
      "text/plain": [
       "<Figure size 640x480 with 1 Axes>"
      ]
     },
     "metadata": {},
     "output_type": "display_data"
    }
   ],
   "source": [
    "import matplotlib.pyplot as plt\n",
    "\n",
    "accuracy_normal = [mnb_clf.score(X_test, y_test), svm_clf.score(X_test, y_test)]\n",
    "accuracy_gridsearch = [gs_best_mnb_clf.score(X_test, y_test), gs_best_svm_clf.score(X_test, y_test)]\n",
    "\n",
    "len_accuracy_list = 2\n",
    "x = np.arange(len_accuracy_list)\n",
    "\n",
    "group_width = 0.4\n",
    "bar_width = group_width / len_accuracy_list\n",
    "x = x - (group_width - bar_width) / 2\n",
    "\n",
    "bar_normal = plt.bar(x, accuracy_normal,  width=bar_width, label='Normal')\n",
    "bar_gridsearch = plt.bar(x + bar_width, accuracy_gridsearch, width=bar_width, label='Grid Search')\n",
    "\n",
    "def value_label(bars):\n",
    "    for bar in bars:\n",
    "        x = bar.get_x()\n",
    "        width = bar.get_width()\n",
    "        height = bar.get_height()\n",
    "        plt.text(x+width/2-0.08, 1.03*height, '%.4f' % float(height))\n",
    "\n",
    "value_label(bar_normal)\n",
    "value_label(bar_gridsearch)        \n",
    "\n",
    "plt.ylim(0, 1.1)\n",
    "plt.xticks(x + bar_width / 2, ['Naîve Bayes', 'SVM'])\n",
    "plt.ylabel(\"Accuracy\")\n",
    "plt.title(\"Model Classification Accuracy Comparison\")\n",
    "\n",
    "plt.legend()\n",
    "plt.show()"
   ]
  },
  {
   "cell_type": "markdown",
   "metadata": {},
   "source": [
    "### 2.6. Import Real Data (News30)"
   ]
  },
  {
   "cell_type": "code",
   "execution_count": 26,
   "metadata": {},
   "outputs": [],
   "source": [
    "news30_X = NltkTransform(np.array(df_news30['title'] +\" \"+ df_news30['content'])) # X_real = title + content\n",
    "news30_y = np.array(df_news30['category'])"
   ]
  },
  {
   "cell_type": "code",
   "execution_count": 27,
   "metadata": {},
   "outputs": [
    {
     "data": {
      "text/plain": [
       "array([ 2,  2,  2,  6,  6,  6,  7,  7,  7,  8,  8,  8,  9,  9,  9, 10, 10,\n",
       "       10, 15, 15, 15, 16, 16, 16, 17, 17, 17, 18, 18, 18])"
      ]
     },
     "execution_count": 27,
     "metadata": {},
     "output_type": "execute_result"
    }
   ],
   "source": [
    "news30_y"
   ]
  },
  {
   "cell_type": "markdown",
   "metadata": {},
   "source": [
    "### 2.7. Evaluate the Model with Real Data"
   ]
  },
  {
   "cell_type": "code",
   "execution_count": 28,
   "metadata": {},
   "outputs": [],
   "source": [
    "news30_target_names = ['comp.os.ms-windows.misc',\n",
    "                       'misc.forsale','rec.autos',\n",
    "                       'rec.motorcycles',\n",
    "                       'rec.sport.baseball',\n",
    "                       'rec.sport.hockey',\n",
    "                       'soc.religion.christian',\n",
    "                       'talk.politics.guns',\n",
    "                       'talk.politics.mideast',\n",
    "                       'talk.politics.misc']"
   ]
  },
  {
   "cell_type": "markdown",
   "metadata": {},
   "source": [
    "#### 2.7.1. MultinomialNB Model Evaluation"
   ]
  },
  {
   "cell_type": "code",
   "execution_count": 29,
   "metadata": {},
   "outputs": [],
   "source": [
    "mnb_news30_y_predict = mnb_clf.predict(news30_X)"
   ]
  },
  {
   "cell_type": "code",
   "execution_count": 30,
   "metadata": {},
   "outputs": [
    {
     "data": {
      "text/plain": [
       "array([ 2,  2,  2,  6, 11, 11, 11,  7,  9,  8, 15,  8,  9,  9,  9, 10, 10,\n",
       "       10, 15, 15, 15, 16, 16, 16, 17, 17, 17, 17, 18, 15])"
      ]
     },
     "execution_count": 30,
     "metadata": {},
     "output_type": "execute_result"
    }
   ],
   "source": [
    "mnb_news30_y_predict"
   ]
  },
  {
   "cell_type": "code",
   "execution_count": 31,
   "metadata": {},
   "outputs": [
    {
     "name": "stdout",
     "output_type": "stream",
     "text": [
      "Accuracy of MultinomialNB: 0.7666666666666667\n",
      "\n",
      "                         precision    recall  f1-score   support\n",
      "\n",
      "comp.os.ms-windows.misc       1.00      1.00      1.00         3\n",
      "           misc.forsale       1.00      0.33      0.50         3\n",
      "              rec.autos       1.00      0.33      0.50         3\n",
      "        rec.motorcycles       1.00      0.67      0.80         3\n",
      "     rec.sport.baseball       0.75      1.00      0.86         3\n",
      "       rec.sport.hockey       1.00      1.00      1.00         3\n",
      "              sci.crypt       0.00      0.00      0.00         0\n",
      " soc.religion.christian       0.60      1.00      0.75         3\n",
      "     talk.politics.guns       1.00      1.00      1.00         3\n",
      "  talk.politics.mideast       0.75      1.00      0.86         3\n",
      "     talk.politics.misc       1.00      0.33      0.50         3\n",
      "\n",
      "            avg / total       0.91      0.77      0.78        30\n",
      "\n"
     ]
    },
    {
     "name": "stderr",
     "output_type": "stream",
     "text": [
      "/Users/caiyutong/anaconda3/lib/python3.7/site-packages/sklearn/metrics/classification.py:1137: UndefinedMetricWarning: Recall and F-score are ill-defined and being set to 0.0 in labels with no true samples.\n",
      "  'recall', 'true', average, warn_for)\n"
     ]
    }
   ],
   "source": [
    "print(\"Accuracy of MultinomialNB:\", mnb_clf.score(news30_X, news30_y))\n",
    "print()\n",
    "\n",
    "from sklearn.metrics import classification_report\n",
    "print(classification_report(news30_y, mnb_news30_y_predict, \n",
    "                            target_names=np.array(news.target_names)[np.sort(np.unique(mnb_news30_y_predict))]))"
   ]
  },
  {
   "cell_type": "markdown",
   "metadata": {},
   "source": [
    "#### 2.7.2. LinearSVC Model Evaluation"
   ]
  },
  {
   "cell_type": "code",
   "execution_count": 32,
   "metadata": {},
   "outputs": [],
   "source": [
    "svm_news30_y_predict = svm_clf.predict(news30_X)"
   ]
  },
  {
   "cell_type": "code",
   "execution_count": 33,
   "metadata": {},
   "outputs": [
    {
     "data": {
      "text/plain": [
       "array([ 2,  2,  2,  6,  6,  6,  9,  7,  9,  8,  8,  8,  9,  9,  9, 10, 10,\n",
       "       10, 15, 15, 15, 16, 16, 16, 17, 17, 17, 18, 18, 18])"
      ]
     },
     "execution_count": 33,
     "metadata": {},
     "output_type": "execute_result"
    }
   ],
   "source": [
    "svm_news30_y_predict"
   ]
  },
  {
   "cell_type": "code",
   "execution_count": 34,
   "metadata": {},
   "outputs": [
    {
     "name": "stdout",
     "output_type": "stream",
     "text": [
      "Accuracy of LinearSVC: 0.9333333333333333\n",
      "\n",
      "                         precision    recall  f1-score   support\n",
      "\n",
      "comp.os.ms-windows.misc       1.00      1.00      1.00         3\n",
      "           misc.forsale       1.00      1.00      1.00         3\n",
      "              rec.autos       1.00      0.33      0.50         3\n",
      "        rec.motorcycles       1.00      1.00      1.00         3\n",
      "     rec.sport.baseball       0.60      1.00      0.75         3\n",
      "       rec.sport.hockey       1.00      1.00      1.00         3\n",
      " soc.religion.christian       1.00      1.00      1.00         3\n",
      "     talk.politics.guns       1.00      1.00      1.00         3\n",
      "  talk.politics.mideast       1.00      1.00      1.00         3\n",
      "     talk.politics.misc       1.00      1.00      1.00         3\n",
      "\n",
      "            avg / total       0.96      0.93      0.93        30\n",
      "\n"
     ]
    }
   ],
   "source": [
    "print(\"Accuracy of LinearSVC:\", svm_clf.score(news30_X, news30_y))\n",
    "print()\n",
    "\n",
    "from sklearn.metrics import classification_report\n",
    "print(classification_report(news30_y, svm_news30_y_predict, \n",
    "                            target_names=np.array(news.target_names)[np.sort(np.unique(svm_news30_y_predict))]))"
   ]
  },
  {
   "cell_type": "markdown",
   "metadata": {},
   "source": [
    "#### 2.7.3. Best MultinomialNB Model Grid Search Evaluation"
   ]
  },
  {
   "cell_type": "code",
   "execution_count": 35,
   "metadata": {},
   "outputs": [],
   "source": [
    "gs_best_mnb_news30_y_predict = gs_best_mnb_clf.predict(news30_X)"
   ]
  },
  {
   "cell_type": "code",
   "execution_count": 36,
   "metadata": {},
   "outputs": [
    {
     "data": {
      "text/plain": [
       "array([ 2,  2,  2,  6, 11, 18, 11,  7, 14,  8, 17,  8,  9,  9,  9, 10, 10,\n",
       "       10, 15, 15, 17, 16, 16, 16, 17, 17, 17, 17, 18, 18])"
      ]
     },
     "execution_count": 36,
     "metadata": {},
     "output_type": "execute_result"
    }
   ],
   "source": [
    "gs_best_mnb_news30_y_predict"
   ]
  },
  {
   "cell_type": "code",
   "execution_count": 37,
   "metadata": {},
   "outputs": [
    {
     "name": "stdout",
     "output_type": "stream",
     "text": [
      "Accuracy of MultinomialNB: 0.7666666666666667\n",
      "\n",
      "                         precision    recall  f1-score   support\n",
      "\n",
      "comp.os.ms-windows.misc       1.00      1.00      1.00         3\n",
      "           misc.forsale       1.00      0.33      0.50         3\n",
      "              rec.autos       1.00      0.33      0.50         3\n",
      "        rec.motorcycles       1.00      0.67      0.80         3\n",
      "     rec.sport.baseball       1.00      1.00      1.00         3\n",
      "       rec.sport.hockey       1.00      1.00      1.00         3\n",
      "              sci.crypt       0.00      0.00      0.00         0\n",
      "              sci.space       0.00      0.00      0.00         0\n",
      " soc.religion.christian       1.00      0.67      0.80         3\n",
      "     talk.politics.guns       1.00      1.00      1.00         3\n",
      "  talk.politics.mideast       0.50      1.00      0.67         3\n",
      "     talk.politics.misc       0.67      0.67      0.67         3\n",
      "\n",
      "            avg / total       0.92      0.77      0.79        30\n",
      "\n"
     ]
    },
    {
     "name": "stderr",
     "output_type": "stream",
     "text": [
      "/Users/caiyutong/anaconda3/lib/python3.7/site-packages/sklearn/metrics/classification.py:1137: UndefinedMetricWarning: Recall and F-score are ill-defined and being set to 0.0 in labels with no true samples.\n",
      "  'recall', 'true', average, warn_for)\n"
     ]
    }
   ],
   "source": [
    "print(\"Accuracy of MultinomialNB:\", gs_best_mnb_clf.score(news30_X, news30_y))\n",
    "print()\n",
    "\n",
    "from sklearn.metrics import classification_report\n",
    "print(classification_report(news30_y, gs_best_mnb_news30_y_predict, \n",
    "                            target_names=np.array(news.target_names)[np.sort(np.unique(gs_best_mnb_news30_y_predict))]))"
   ]
  },
  {
   "cell_type": "markdown",
   "metadata": {},
   "source": [
    "#### 2.7.4. Best LinearSVC Model Grid Search Evaluation"
   ]
  },
  {
   "cell_type": "code",
   "execution_count": 38,
   "metadata": {},
   "outputs": [],
   "source": [
    "gs_best_svm_news30_y_predict = gs_best_svm_clf.predict(news30_X)"
   ]
  },
  {
   "cell_type": "code",
   "execution_count": 39,
   "metadata": {},
   "outputs": [
    {
     "data": {
      "text/plain": [
       "array([ 2,  2,  2,  6,  6,  6,  7,  7,  9,  8,  8,  8,  9,  9,  9, 10, 10,\n",
       "       10, 15, 15, 15, 16, 16, 16, 17, 17, 17, 18, 18, 18])"
      ]
     },
     "execution_count": 39,
     "metadata": {},
     "output_type": "execute_result"
    }
   ],
   "source": [
    "gs_best_svm_news30_y_predict"
   ]
  },
  {
   "cell_type": "code",
   "execution_count": 40,
   "metadata": {
    "scrolled": true
   },
   "outputs": [
    {
     "name": "stdout",
     "output_type": "stream",
     "text": [
      "Accuracy of LinearSVC: 0.9666666666666667\n",
      "\n",
      "                         precision    recall  f1-score   support\n",
      "\n",
      "comp.os.ms-windows.misc       1.00      1.00      1.00         3\n",
      "           misc.forsale       1.00      1.00      1.00         3\n",
      "              rec.autos       1.00      0.67      0.80         3\n",
      "        rec.motorcycles       1.00      1.00      1.00         3\n",
      "     rec.sport.baseball       0.75      1.00      0.86         3\n",
      "       rec.sport.hockey       1.00      1.00      1.00         3\n",
      " soc.religion.christian       1.00      1.00      1.00         3\n",
      "     talk.politics.guns       1.00      1.00      1.00         3\n",
      "  talk.politics.mideast       1.00      1.00      1.00         3\n",
      "     talk.politics.misc       1.00      1.00      1.00         3\n",
      "\n",
      "            avg / total       0.97      0.97      0.97        30\n",
      "\n"
     ]
    }
   ],
   "source": [
    "print(\"Accuracy of LinearSVC:\", gs_best_svm_clf.score(news30_X, news30_y))\n",
    "print()\n",
    "\n",
    "from sklearn.metrics import classification_report\n",
    "print(classification_report(news30_y, gs_best_svm_news30_y_predict, \n",
    "                            target_names=np.array(news.target_names)[np.sort(np.unique(gs_best_svm_news30_y_predict))]))"
   ]
  },
  {
   "cell_type": "markdown",
   "metadata": {},
   "source": [
    "#### 2.7.5. Use Chart to Display Classification Accuracy"
   ]
  },
  {
   "cell_type": "code",
   "execution_count": 41,
   "metadata": {},
   "outputs": [
    {
     "data": {
      "image/png": "[encoded data removed]",
      "text/plain": [
       "<Figure size 432x288 with 1 Axes>"
      ]
     },
     "metadata": {
      "needs_background": "light"
     },
     "output_type": "display_data"
    }
   ],
   "source": [
    "import matplotlib.pyplot as plt\n",
    "\n",
    "accuracy_normal = [mnb_clf.score(news30_X, news30_y), svm_clf.score(news30_X, news30_y)]\n",
    "accuracy_gridsearch = [gs_best_mnb_clf.score(news30_X, news30_y), gs_best_svm_clf.score(news30_X, news30_y)]\n",
    "\n",
    "len_accuracy_list = 2\n",
    "x = np.arange(len_accuracy_list)\n",
    "\n",
    "group_width = 0.4\n",
    "bar_width = group_width / len_accuracy_list\n",
    "x = x - (group_width - bar_width) / 2\n",
    "\n",
    "bar_normal = plt.bar(x, accuracy_normal,  width=bar_width, label='Normal')\n",
    "bar_gridsearch = plt.bar(x + bar_width, accuracy_gridsearch, width=bar_width, label='Grid Search')\n",
    "\n",
    "def value_label(bars):\n",
    "    for bar in bars:\n",
    "        x = bar.get_x()\n",
    "        width = bar.get_width()\n",
    "        height = bar.get_height()\n",
    "        plt.text(x+width/2-0.08, 1.03*height, '%.4f' % float(height))\n",
    "\n",
    "value_label(bar_normal)\n",
    "value_label(bar_gridsearch)        \n",
    "\n",
    "plt.ylim(0, 1.1)\n",
    "plt.xticks(x + bar_width / 2, ['Naîve Bayes', 'SVM'])\n",
    "plt.ylabel(\"Accuracy\")\n",
    "plt.title(\"Model Classification Accuracy Comparison\")\n",
    "\n",
    "plt.legend()\n",
    "plt.show()"
   ]
  },
  {
   "cell_type": "markdown",
   "metadata": {},
   "source": [
    "### 2.8. Predict Function"
   ]
  },
  {
   "cell_type": "code",
   "execution_count": 42,
   "metadata": {},
   "outputs": [],
   "source": [
    "def predict_result(i):\n",
    "    print(news.target_names[int(gs_best_svm_clf.predict([news30_X[i]]))])"
   ]
  },
  {
   "cell_type": "code",
   "execution_count": 43,
   "metadata": {},
   "outputs": [
    {
     "name": "stdout",
     "output_type": "stream",
     "text": [
      "comp.os.ms-windows.misc\n"
     ]
    }
   ],
   "source": [
    "predict_result(0)"
   ]
  },
  {
   "cell_type": "markdown",
   "metadata": {},
   "source": [
    "---"
   ]
  },
  {
   "cell_type": "markdown",
   "metadata": {},
   "source": [
    "## PART 3. Build RDF & SPARQL Query"
   ]
  },
  {
   "cell_type": "markdown",
   "metadata": {},
   "source": [
    "### 3.0. Reference material\n",
    "* RdfLib Document: https://rdflib.readthedocs.io/en/stable/index.html\n",
    "* Use RDFLib Create & Query RDF: https://blog.csdn.net/vuscity/article/details/79869828"
   ]
  },
  {
   "cell_type": "markdown",
   "metadata": {},
   "source": [
    "### 3.1. Create RDF"
   ]
  },
  {
   "cell_type": "markdown",
   "metadata": {},
   "source": [
    "* Make sure you have installed RDFLib before running the following code.\n",
    "* If not, please use “pip install rdflib” for installation."
   ]
  },
  {
   "cell_type": "markdown",
   "metadata": {},
   "source": [
    "#### 3.1.1. Build RDF Graph"
   ]
  },
  {
   "cell_type": "code",
   "execution_count": 44,
   "metadata": {
    "scrolled": true
   },
   "outputs": [],
   "source": [
    "from rdflib import URIRef, Literal\n",
    "\n",
    "Article = []\n",
    "category = []\n",
    "title = []\n",
    "author = []\n",
    "newspaper = []\n",
    "time = []\n",
    "content = []\n",
    "\n",
    "for i in range(df_news30.shape[0]):\n",
    "    Article.append(URIRef(\"http://example.org/article/Article_\" + str(i)))\n",
    "    category.append(Literal(str(df_news30['category'][i])))\n",
    "    title.append(Literal(df_news30['title'][i]))\n",
    "    author.append(Literal(df_news30['author'][i]))\n",
    "    newspaper.append(Literal(df_news30['newspaper'][i]))\n",
    "    time.append(Literal(df_news30['time'][i]))\n",
    "    content.append(Literal(df_news30['content'][i]))"
   ]
  },
  {
   "cell_type": "code",
   "execution_count": 45,
   "metadata": {},
   "outputs": [
    {
     "name": "stdout",
     "output_type": "stream",
     "text": [
      "http://xmlns.com/foaf/0.1/Article\n",
      "http://xmlns.com/foaf/0.1/category\n",
      "http://xmlns.com/foaf/0.1/title\n",
      "http://xmlns.com/foaf/0.1/author\n",
      "http://xmlns.com/foaf/0.1/newspaper\n",
      "http://xmlns.com/foaf/0.1/time\n",
      "http://xmlns.com/foaf/0.1/content\n"
     ]
    }
   ],
   "source": [
    "from rdflib.namespace import FOAF\n",
    "\n",
    "print(FOAF.Article)\n",
    "print(FOAF.category)\n",
    "print(FOAF.title)\n",
    "print(FOAF.author)\n",
    "print(FOAF.newspaper)\n",
    "print(FOAF.time)\n",
    "print(FOAF.content)"
   ]
  },
  {
   "cell_type": "code",
   "execution_count": 46,
   "metadata": {},
   "outputs": [
    {
     "data": {
      "text/plain": [
       "b'<?xml version=\"1.0\" encoding=\"UTF-8\"?>\\n<rdf:RDF\\n   xmlns:ns1=\"http://xmlns.com/foaf/0.1/\"\\n   xmlns:rdf=\"http://www.w3.org/1999/02/22-rdf-syntax-ns#\"\\n>\\n  <rdf:Description rdf:about=\"http://example.org/article/Article_28\">\\n    <ns1:newspaper>CNN News</ns1:newspaper>\\n    <ns1:category>18</ns1:category>\\n    <ns1:title>Barack Obama asked the question everyone\\'s been wondering about the Republican Party</ns1:title>\\n    <ns1:content>(CNN)\"What happened to the Republican Party?\"\\nThat\\'s the question former President Barack Obama asked in a speech at the University of Illinois on Friday, taking direct aim at not only the presidency of Donald Trump but also at the broader Republican Party\\'s capitulation to him.\\nIt\\'s easy to dismiss Obama\\'s speech on Friday as nothing more than a disgruntled politician settling scores in an effort to motivate his side to turn out in the coming midterm elections. \"Barack Obama had 8 years to complete his hope &amp; change in America, and the only change agent has been President Trump,\" said White House director of strategic communications Mercedes Schlapp within moments of Obama concluding his speech.\\nAnd sure, that is, in part, what Obama is doing here. He is setting the stakes and reminding Democratic voters of where the US is as a country and where it needs to go. He\\'s a politician. And so politics plays a role in his speech.\\nBut the question Obama asks about where the Republican Party of George W. Bush, Mitt Romney, John McCain and Ronald Reagan has gone is one I have heard lots of Republicans wonder about/lament since it became clear that Trump was going to be the GOP presidential nominee in 2016.\\nThat Republican Party was built on a few first principles: lower taxes, aggressive foreign policy -- particularly in regard to Russia -- and shrinking the debt we were leaving for future generations. It was also built on the idea of gentility, that there was a way people in public life can and should act.\\nOn most of those issues, Trump is the polar opposite of where the party was just a few short years ago. Yes, he is a believer in lowering taxes -- and passed a major tax-cut bill last year. But his ongoing skepticism about the threat posed by Russia is antithetical to the modern Republican Party. (Hell, Reagan ran an ad in which he portrayed Russia as an ominous bear wandering the woods!)\\nTrump ran a campaign in which he rarely -- if ever -- mentioned the country\\'s looming debt problems. (He did, however, promise to eliminate the national debt in eight years.) And he pushed the tax cut bill through, which is projected to add more than $2.3 trillion to the deficit over the next decade.\\nReagan said famously that the 11th Commandment was to not speak ill of other Republicans. Trump\\'s 2016 campaign was rooted in his willingness to -- and effectiveness at -- bullying the more traditional candidates in the race. There was \"Low Energy\" Jeb Bush. And \"Lyin\\' \" Ted Cruz. And on and on.\\nTrump -- from his policies to his tone -- ran expressly against Republican orthodoxy in 2016. He offered himself up as the antidote to oleaginous politicians who said one thing on the campaign trail and then did something else once they got to Washington. Trump\\'s argument during the primary campaign was that the GOP was rotting from the top down and only by chopping off its head could you hope to save the rest of the body politic.\\nGiven that, no one should be surprised at the way Trump has acted as President. We knew exactly what we were getting when Trump won -- and he has been that person from the moment he took the office. (In truth, he couldn\\'t possibly be anyone else.)\\nWhat surprised lots of people -- and this is what Obama is getting at in his speech -- is how the broader Republican Party reacted to Trump. The resistance to Trump -- from not just Sens. McCain and Jeff Flake, but also Romney and Sen. Ted Cruz -- that was active and vibrant during the campaign suddenly melted away. It was as if, having seen their ship of state taken over by pirates, Republican put on an eye patch, swigged some grog and happily joined the crew.\\nThe reason was -- and is -- some combination of realpolitik and fear. Republicans looked at the bodies strewn in Trump\\'s wake during the 2016 presidential primary fight and didn\\'t want to watch their own political careers sacrificed on a quixotic charge against Mount Trump. And the likes of Senate Majority Leader Mitch McConnell and House Speaker Paul Ryan saw opportunity in the chaos: Trump, bereft of any real belief system or policy agenda, could be molded to move long-standing priorities of the party -- from judges to a tax cut.\\nThat Faustian bargain wasn\\'t worth it, argued Obama -- noting that what it meant to be a Republican has now been lost. \"It shouldn\\'t be Democratic or Republican to say that we don\\'t target groups of people because of what they look like or how they pray,\" Obama said. \"We are supposed to stand up to discrimination and we are sure as heck to stand up clearly and unequivocally to Nazi sympathizers.\"\\nObama\\'s speech highlights just how much -- and how fast -- the Republican Party has changed even since he beat Romney to win a second term in 2012. Trump\\'s hostile takeover of the Republican Party has not only put many long-term stalwarts of conservatism on the outside looking in -- Ryan is retiring, the national security establishment within the party is ignored and taunted -- but also has fundamentally transformed what it means to be a Republican.\\nOver and over during the 2018 primary season, Republican candidates ran and won on a simple message: I\\'m just like Donald Trump. In Florida, for example, Ron DeSantis ran ads showing him teaching his kids how to \"build that wall\" and reading to them from \"The Art of the Deal.\" He won a Trump endorsement -- and the governor\\'s primary.\\nThe Republican Party has, in the main, been replaced by the Trump party. And the beliefs of those two \"parties\" just aren\\'t the same.\\n\"This is not normal,\" Obama said on Friday. \"These are extraordinary times.\"\\nHe\\'s got that right.</ns1:content>\\n    <ns1:time>7-Sep-18</ns1:time>\\n    <ns1:author>Chris Cillizza</ns1:author>\\n  </rdf:Description>\\n  <rdf:Description rdf:about=\"http://example.org/article/Article_10\">\\n    <ns1:time>25-Aug-16</ns1:time>\\n    <ns1:title>Killed great-grandfather \\'had passion for motorcycles\\'</ns1:title>\\n    <ns1:author>Unknown</ns1:author>\\n    <ns1:category>8</ns1:category>\\n    <ns1:content>The family of a great-grandfather who died after a crash have spoken of his life-long passion for motorbikes.\\nEric Winn, 72, died in hospital after his Suzuki motorbike and a Mazda collided on a minor road in Woodland, Bishop Auckland, on Wednesday morning.\\nThe retired factory worker, from Stanley, was flown to James Cook Hospital in Middlesbrough where he was pronounced dead shortly after arrival.\\nHis family said he was a \"devoted motorcyclist of more then 56 years\".\\nThey added: \"Bikes were his sporting interest and offered him the opportunity to explore our region, and beyond.\\n\"He was a loving husband to Connie, who he had supported through her own medical issues over the last three years.\"\\nDurham Police said the driver of the car was shaken but unhurt in the crash.</ns1:content>\\n    <ns1:newspaper>BBC News</ns1:newspaper>\\n  </rdf:Description>\\n  <rdf:Description rdf:about=\"http://example.org/article/Article_17\">\\n    <ns1:title>Four Nations: Ireland earn 4-3 shootout win over England to finish third</ns1:title>\\n    <ns1:author>Unknown</ns1:author>\\n    <ns1:time>4-Nov-18</ns1:time>\\n    <ns1:category>10</ns1:category>\\n    <ns1:newspaper>BBC News</ns1:newspaper>\\n    <ns1:content>Ireland finished third in the Four Nations with a 4-3 penalty shootout victory over England in Valencia.\\nIrish goalkeeper David Fitzgerald made two saves in the shootout as Eugene Magee, Alan Sothern, Shane O\\'Donoghue and Daragh Walsh scored from the spot.\\nThe match finished 2-2 with England twice taking the lead through Zachary Wallace and Luke Taylor, with Magee and Sean Murray hitting the equalisers.\\nAlexander Cox\\'s side had lost 5-2 to the Netherlands on Saturday.\\nWith little to separate the sides in the first half, the best chance fell to England\\'s James Gall, who took advantage of Conor Harte slipping but his shot was forced wide.\\nThe game came to life with two goals inside the first six minutes of the second half, with Wallace notching at the back post from a Barry Middleton cross.\\nBut Ireland were soon back on level terms when Magee\\'s shot deflected in after a superb pass from Michael Robson.\\nEngland took the lead against the run of play in the 49th minute from a penalty corner drag by Luke Taylor, though there was a question mark over whether the ball had left the circle on the push out.\\nMurray equalised again for Ireland in the 56th minute with a close-range shot following a great run and pass by Shane O\\'Donoghue.\\nA last-gasp penalty corner drag from O\\'Donoghue was well saved from George Pinner to keep the score at 2-2 and send the game into a shootout.\\nMartin, Zachary Wallace and Adam Dixon were on target for England while Magee, Sothern, O\\'Donoghue converted for Ireland, but it was Daragh Walsh who netted the winning penalty.</ns1:content>\\n  </rdf:Description>\\n  <rdf:Description rdf:about=\"http://example.org/article/Article_15\">\\n    <ns1:category>10</ns1:category>\\n    <ns1:content>(CNN)\"What is hockey?\"\\nPierre-Edouard Bellemare, at 16 years old, had to answer that question. Not existentially, but literally to the police officer in France who had stopped him.\\nUnaware of the sport, the officer had pulled him aside, chastised him for carrying a weapon in public and then expressed incredulity when told it was an instrument of sport.\\n\"Our sport magazine we had when I was a kid,\" Bellemare says, \"I remember it was always one time a year, a sentence at the end, the last page, that team won the cup. That was it. So not really a popular sport.\"\\nFrance, a country better known perhaps for its soccer, cycling and basketball, didn\\'t place a high priority on hockey and the sport was foreign to Bellemare until a sudden inspiration to take it up struck his sister.\\n\"My big sister ... somehow she wanted to start hockey. Why? I have no idea why, where she heard of it, but so my big brother and I were like, \\'if she plays hockey, we want to also.\\'\"\\nFinancial limitations prevented the trio from truly diving into the sport at first, but a coach recognized the talent that Bellemare and his brother had and invited them back the next week to put them through training.\\n\"We came back, and we did a bunch of drills that put us on our asses, like weird drills,\" he laughs.\\n\"But we had a blast, and after that, the coach went to my mom and was like, \\'hockey or figure skating, choose one, but they shouldn\\'t go and play soccer.\\'\\n\"For me, I was always a kid who wanted to do something different.\"\\nA Canadian or American, he notes, might have turned their sights on the NHL, but for a fledgling player in hockey-depleted France, his main goal became the Olympics.\\n\"I could never see the NHL [games]; there was no internet, no cable, it was purely the Olympics and you had to fight to see the games.\"\\nUndeterred from his dream, but realistic about the prospects of playing professionally, Bellemare earned an education alongside his pursuit of a hockey career, a backup plan in case, in his words, he \"broke his leg one day.\"\\n\"When I was 21, I got my degrees, and it was a decision to make if I stay at the university or if I go to Sweden.\\n\"It was really close that I stopped hockey to go to school because, I mean, how much can you live out of hockey? You\\'re French right? And you hear that your entire life.\\n\"That\\'s when I realized hockey is a job and you work, and not just working at the rink, it\\'s the way you eat, the way you drink.\\n\"That\\'s when I realized, alright, this is going to be something I\\'m going to do for a living.\"\\nSince those early days of running wild on the ice with his siblings, Bellemare has achieved incredible accomplishments: getting signed by the Philadelphia Flyers after a stint in Sweden, playing in the Stanley Cup Finals as part of the Vegas Golden Knights and representing his native France at multiple World Championships.\\nBellemare\\'s unlikely hockey journey is far from complete -- another goal still awaits.\\n\"I still haven\\'t played in the Olympics,\" he said. \"And it\\'s still my biggest dream technically to be able to represent my nation.\"</ns1:content>\\n    <ns1:author>Perry Kostidakis</ns1:author>\\n    <ns1:title>What is hockey?\\' Pierre-Edouard Bellemare\\'s unlikely journey to the NHL</ns1:title>\\n    <ns1:newspaper>CNN News</ns1:newspaper>\\n    <ns1:time>30-Oct-18</ns1:time>\\n  </rdf:Description>\\n  <rdf:Description rdf:about=\"http://example.org/article/Article_16\">\\n    <ns1:newspaper>BBC News</ns1:newspaper>\\n    <ns1:title>Four Nations: Ireland in back-to-back Dutch defeats</ns1:title>\\n    <ns1:category>10</ns1:category>\\n    <ns1:author>Unknown</ns1:author>\\n    <ns1:content>Ireland will finish their Four Nations campaign with a fourth place play-off against England after a heavy 5-2 defeat by the Netherlands in Valencia.\\nMink van der Weerden, was once again Ireland\\'s chief tormentor as he scored a hat-trick to send the Dutch through to Sunday\\'s final against Spain.\\nMitch Darling and Alan Sothern gave Ireland an early two-goal lead before the top seeds fought back.\\nTerrance Pieters and Jereon Hertzberger were the other Dutch goal scorers.\\nDarling\\'s diving goal put Ireland ahead in the 13th minute and Sothern extended their lead in the opening minute of the second quarter.\\nVan der Weerden, who scored twice for the Dutch in their 7-1 win in the group stages, sparked the fight-back just before half time with a powerful drag flick and the penalty corner specialist scored two more in the third quarter to push his side into the lead.\\nChris Cargo\\'s final-qaurter yellow card proved costly as Pieters and Hertzberger both scored in the final three minutes while Ireland were down to 10 men.\\nThe Netherlands will now play the tournament hosts in Sunday\\'s final while Ireland and England will meet in a repeat of their opening match of the week.</ns1:content>\\n    <ns1:time>3-Nov-18</ns1:time>\\n  </rdf:Description>\\n  <rdf:Description rdf:about=\"http://example.org/article/Article_3\">\\n    <ns1:title>Kodak sale of flexographic packaging business</ns1:title>\\n    <ns1:time>12-Nov-18</ns1:time>\\n    <ns1:newspaper>CNN News</ns1:newspaper>\\n    <ns1:content>Eastman Kodak Co.\\'s shares KODK, +18.45% soared 13% in premarket trade Monday, after the company said it has reached a deal to sell its Flexographic Packaging division to Montagu Private Equity LLP for $390 million in proceeds. The business will be run as a new standalone company on closing and will develop, manufacture and sell flexographic product, including its flagship Kodak Flexcel NX System to the packing print market. Flexography is a printing process that uses a flexible relief plate, similar to a letterpress that can be used on most materials. The deal is expected to close in the first half of 2019. Kodak is planning to use the proceeds to reduce debt. Kodak said it will continue to serve the print industry by focusing on enterprise inkjet, workflow software and brand licensing. Shares have fallen 0.3% in 2018 through Friday, while the S&amp;P 500 SPX, -1.97% has gained 4%.</ns1:content>\\n    <ns1:category>6</ns1:category>\\n    <ns1:author>Ciara Linnane</ns1:author>\\n  </rdf:Description>\\n  <rdf:Description rdf:about=\"http://example.org/article/Article_5\">\\n    <ns1:author>Leo Kelion</ns1:author>\\n    <ns1:time>12-Nov-18</ns1:time>\\n    <ns1:category>6</ns1:category>\\n    <ns1:content>\"Flash sales\" publicising a Chinese smartphone company\\'s UK launch have sparked a backlash on social media.\\nXiaomi advertised two of its new handsets for $1 each last week as part of a \"crazy deals\" promotion.\\nBut it has emerged that each flash sale involved only two or three phones and Xiaomi had set its website to say: \"Sold out,\" as soon as the sale opened.\\nThe UK\\'s ads watchdog said it had received a complaint and was now deciding whether to investigate.\\nXiaomi said it hoped customers would not be discouraged from taking part in future campaigns.</ns1:content>\\n    <ns1:newspaper>BBC News</ns1:newspaper>\\n    <ns1:title>Xiaomi criticised for UK smartphone $1 flash sale</ns1:title>\\n  </rdf:Description>\\n  <rdf:Description rdf:about=\"http://example.org/article/Article_0\">\\n    <ns1:title>Windows 10 release</ns1:title>\\n    <ns1:time>12-Nov-18</ns1:time>\\n    <ns1:author>Unknown</ns1:author>\\n    <ns1:newspaper>BBC News</ns1:newspaper>\\n    <ns1:content>The much delayed Windows 10 October 2018 update may be hitting our PCs as soon as tomorrow, which is this month\\'s Patch Tuesday.\\nThe rumour is via website rg-adguard.net, who has a tool for downloading Windows 10 ISOs.  They have noticed activity on Microsoft\\'s servers which suggest Microsoft is preparing to release the software update.</ns1:content>\\n    <ns1:category>2</ns1:category>\\n  </rdf:Description>\\n  <rdf:Description rdf:about=\"http://example.org/article/Article_13\">\\n    <ns1:author>Unknown</ns1:author>\\n    <ns1:category>9</ns1:category>\\n    <ns1:title>Robinson Cano: $240m baseball star banned for 80 games for failed drugs test</ns1:title>\\n    <ns1:content>Baseball star Robinson Cano has been banned for 80 games after testing positive for the banned diuretic Furosemide.\\nThe Seattle Mariners second baseman, one of baseball\\'s highest paid players, has accepted the punishment, his team said.\\nThe 35-year-old, who is halfway through a 10-year $240 million contract, said he took the drug on a visit to his native Dominican Republic.\\n\"He made a mistake,\" the Mariners said.\\nCano is an eight-time MLB All-Star with 305 career home runs and more than 2,400 hits.\\nHe won the 2009 World Series with the New York Yankees.\\n\"We were disappointed to learn today that Robinson had violated the terms of Major League Baseball\\'s Joint Drug Prevention and Treatment Program,\" the Mariners said. \"Our organisation fully supports the programme.\\n\"He has explained to us what happened, accepted the punishment and has apologised to the fans, the organisation and his teammates. We will support Robinson as he works through this challenge.\"\\nDiuretics can be used as a masking agent to hide the presence of performance-enhancing drugs or to assist rapid weight loss.\\n\"While I did not realise at the time that I was given a medication that was banned, I obviously now wish that I had been more careful,\" Cano said in the statement.\\n\"I would never do anything to cheat the rules of the game that I love.\"</ns1:content>\\n    <ns1:time>15-May-18</ns1:time>\\n    <ns1:newspaper>BBC News</ns1:newspaper>\\n  </rdf:Description>\\n  <rdf:Description rdf:about=\"http://example.org/article/Article_19\">\\n    <ns1:content>Washington (CNN)The percentage of Christian voters who cast ballots this year was down compared to other recent midterms, while the percentage of voters who identify as religiously unaffiliated was up.\\nThis year\\'s election was the first midterm in more than a decade that Christians other than Catholics -- Protestants and \"other Christians\" -- made up less than half of all voters, according to exit poll data analyzed by Pew.\\nIn 2006, 55% of Americans who voted in US House races were Protestant or other Christian. This year, that figure has fallen to 47%. Another 26% identified as Catholic.\\nIn the same time period, the percentage of religiously unaffiliated voters -- voters who identify as atheist, agnostic, or as not having a religion -- has risen from 11% to 17%.\\nThis trend mirrors the rise of religiously unaffiliated in the country. The number of Americans who identified as not having a religion rose to 55.8 million in 2015, an increase of more than 19 million in eight years, Pew data found. It also has an effect at the ballot box.\\nProtestants and other Christians have voted Republican in midterms more than other religious groups over the past 12 years, Pew\\'s survey shows, and that trend continued in 2018. According to CNN\\'s exit poll, 56% of Protestants and other Christians voted Republican in House races. Among the other religious groups polled -- Catholic, Jewish, other and no religion -- at least half voted for Democrats. The 2018 exit poll found 42% of Protestants and other Christians voted for Democrats.\\nVoters with \"no religion\" voted 70% for Democrats and 28% for Republicans.\\nBoth Democrats and Republicans have been their percentage of religiously unaffiliated party members rise over the years, but Democrats have seen a larger increase, according to Pew. They made up 13% of Republicans and Republican leaners in 2017, compared to 33% of Democrats and Democratic leaners.\\nAbout 70% of Americans identify as Christian, including Catholics, Protestants, and members of the Church of Jesus Christ of Latter-day Saints, also known as Mormon. The largest Christian group in the US is evangelicals, who made up about 25% of the population.</ns1:content>\\n    <ns1:author>Hunter Schwarz</ns1:author>\\n    <ns1:title>How the religious makeup of the electorate changed in 2018</ns1:title>\\n    <ns1:newspaper>CNN News</ns1:newspaper>\\n    <ns1:time>8-Nov-18</ns1:time>\\n    <ns1:category>15</ns1:category>\\n  </rdf:Description>\\n  <rdf:Description rdf:about=\"http://example.org/article/Article_26\">\\n    <ns1:newspaper>CNN News</ns1:newspaper>\\n    <ns1:title>Barrage of rockets launched at Israel following botched Gaza operation</ns1:title>\\n    <ns1:time>13-Nov-18</ns1:time>\\n    <ns1:content>Sderot, Israel (CNN)A barrage of more than 300 rockets was launched from Gaza toward Israel on Monday, the Israeli army said, hours after a botched Israeli operation in Gaza left a Hamas commander and an Israeli soldier dead.\\nEleven people in Israel were injured by the rocket fire, prompting retaliatory ground and airstrikes by the Israeli military that left at least three Palestinians in Gaza dead, the Palestinian health ministry said.\\nOne man in Israel was seriously wounded after a bus close to the Gaza fence was hit by an anti-tank missile, according to ZAKA, a volunteer emergency response service. Ten other people were hurt when rockets landed in the Israeli town of Sderot, according to Israeli emergency services.\\nIsraeli TV showed video of multiple rocket launches from the coastal enclave, which has been controlled by the militant group Hamas for more than a decade.\\nThe Israeli army said about 60 rockets were intercepted by the Israel Defense Force\\'s Iron Dome aerial defense system, with many other rockets falling on open ground. Sirens continued to sound in Israeli communities close to the Gaza fence on Monday evening, indicating further incoming rocket fire.\\nThe Israeli military said it had struck more than 20 targets in Gaza from the ground and the air over the last couple of hours.\\nOne of those targets was the al-Aqsa TV channel, which is run by Hamas. Israel destroyed al-Aqsa\\'s main building in a strike late Monday night after carrying out a \"door knock,\" CNN producers said. A door knock is a nonexplosive device designed as a warning to those inside to evacuate.\\nIt was unclear whether there were any casualties in the airstrike, and, a short time later, al-Aqsa was broadcasting from a different location.\\nHamas had warned that attacking the channel would be a violation of international law. Hamas\\' Government Media Center said the channel\\'s destruction \"requires a clear response from all international institutions that are interested in the freedom of speech.\"\\nIsrael has long accused the channel of spreading misinformation and inciting Palestinians to attack Israelis.\\nThe violence comes a day after an Israeli special forces operation in Gaza ended in an exchange of fire with militants from Hamas\\' armed wing, the Qassam Brigades. One Israeli soldier and seven Palestinians were killed, among them a senior Hamas military commander.\\nThe Israeli army would not give details of the operation, but IDF spokesman Ronen Manelis defended it in an interview in Israeli Radio.\\n\"We are talking about an operation that was well-planned right down to the smallest of details. It is the sort of thing that takes place every night, and in most instances remains under the media\\'s radar,\" Manelis said.\\nOn this occasion, the soldiers had found themselves in a \"very complicated situation,\" Manelis added.\\nThe IDF identified the dead Israeli soldier only as Lt. Col. M. Another Israeli officer was wounded.\\nHamas identified its commander killed as Nour Baraka of the Qassam Brigades.\\nHamas issued a warning to Israel on Monday that if the IDF responded with what Hamas called \"excessive aggression\" after Monday\\'s rocket attacks from Gaza, the response from Hamas would be to \"increase the depth and intensity\" of its shelling of Israel.\\nThe statement from the Qassam Brigades made clear that Hamas sees Monday\\'s rocket attacks on Israel as a response to the IDF operation inside Gaza on Sunday evening, which the statement described as a \"heinous crime.\"\\nSo far, Monday\\'s rocket attacks have all been short-range, with the farthest hitting the town of Ashkelon about 6 miles (10 kilometers) away from Gaza.\\nBy threatening to \"increase the depth\" of its attacks, Hamas was signaling that it could launch rockets towards Tel Aviv, about 43 miles (70 kilometers) away, or Jerusalem, almost 50 miles (80 kilometers) away, which would be seen by Israel as a significant escalation.\\nIsraeli Prime Minister Benjamin Netanyahu met Monday with his Defense Minister Avigdor Liberman and other senior officials at the Ministry of Defense headquarters in Tel Aviv in the wake of the escalation of violence in and around Gaza.\\nCalling the escalation \"EXTREMELY dangerous and reckless\" in a Twitter post on Monday, United Nations Special Coordinator for the Middle East Peace Process Nickolay Mladenov said the UN was working with Egypt to try to achieve a cessation of hostilities. Mladenov called on both Israeli forces and militants in Gaza to show restraint.\\nDuring previous escalations over the past few months, the UN and Egypt have often stepped in to put in place short-term ceasefires between Israel and Gaza.\\nOren Liebermann and Michael Schwartz reported from Sderot. Ibrahim Dahman and Ameera Harouda reported from Gaza City. Andrew Carey, Amir Tal and Abeer Salman reported from Jerusalem. Eliza Mackintosh wrote from New York.</ns1:content>\\n    <ns1:author>Oren Liebermann, Andrew Carey, Ibrahim Dahman, Eliza Mackintosh</ns1:author>\\n    <ns1:category>17</ns1:category>\\n  </rdf:Description>\\n  <rdf:Description rdf:about=\"http://example.org/article/Article_29\">\\n    <ns1:title>Political frenemies: Readers react to poll about party divisions among friends</ns1:title>\\n    <ns1:author>Saba Hamedy</ns1:author>\\n    <ns1:category>18</ns1:category>\\n    <ns1:content>Washington (CNN)Reporter\\'s note: These reactions were gathered by email from readers asked to comment in CNN\\'s \"The Point\" newsletter with Chris Cillizza.\\nA new survey from the Pew Research Center released on Thursday shows a majority of both Republicans and Democrats say they have \"just a few\" or no friends in the opposing party.\\nBut when asked by CNN, some readers said they prefer to skip talking about politics to avoid arguments about politics. So how do those few people balance being friends with someone from the other side of the aisle? Some, it seems, choose to stick their heads in the sand.\\n\"I have several friends with different political views,\" Raymond B. Firehock, of Virginia, told CNN in an email. \"We remain friends by not discussing politics. ... I find Republicans (here meaning those who support or tolerate Trump) to be so delusional as to be dangerous, and so impervious to the demands of reality as to be clinically insane. In the words of Philip K. Dick: \\'reality is that which when you stop believing in it, doesn\\'t go away.\"\\nFirehock is not alone.\\n\"Yes, I do have friends of a different political bent than me,\" Kim Hemphill told CNN in an email. \"Why? Usually because I was friends with them long before we ever even discussed our political leanings and I\\'m not about to reject them as friends now just because they don\\'t agree with my politic philosophy. I will say though that I avoid talking politics with those friends as much as possible now. Why spoil the relationship?\"\\nThe Pew survey found almost two in three Democrats (64%) and more than half of Republicans (55%) say they have \"just a few\" close friends, or \"none,\" who are Republicans or Democrats, respectively. \"Republicans and Democrats both say their friend networks and predominantly made up of people who are like-minded politically,\" the report says.\\nBut some, like Archit Kalra, prefer being friends with people of diverse opinions.\\n\"I choose to have friends from different sections of the political spectrum as I am intrigued by how various individuals with contrasting political affiliations express their ideas and what their beliefs are,\" the Florida resident said in an email to CNN. \"By mingling with people from different political parties, I gain a plethora of knowledge about their views on certain issues and am given the opportunity to debate with them on these issues.\"\\nOthers, like Lucy Horton, of Pennsylvania, are selective about who they share their political beliefs with.\\n\"We have some acquaintances whose beliefs are not known,\" Horton wrote in an email. \"We might go out to dinner, but that can be a superficial situation. With our close friends, we share a set of beliefs, which make us comfortable and relaxed. Having to hold one\\'s tongue is not conducive to a great social experience. My husband and I have deep convictions which go to the core of who we are, so sharing a set of beliefs is key component in our close friendships. I imagine this is true of most people.\"\\nAs for relatives? Horton said: \"That\\'s always the wild card.\"\\nCNN\\'s Ryan Struyk contributed to this report.</ns1:content>\\n    <ns1:newspaper>CNN News</ns1:newspaper>\\n    <ns1:time>6-Oct-17</ns1:time>\\n  </rdf:Description>\\n  <rdf:Description rdf:about=\"http://example.org/article/Article_12\">\\n    <ns1:author>Unknown</ns1:author>\\n    <ns1:title>Welington Castillo: Chicago White Sox catcher banned for 80 games over failed drugs test</ns1:title>\\n    <ns1:category>9</ns1:category>\\n    <ns1:content>Welington Castillo has become the second Major League Baseball player in just over a week to be banned for 80 games because of a positive drugs test.\\nThe Chicago White Sox catcher, 31, was found to have taken the banned performance-enhancing substance Erythropoietin (EPO).\\nDominican Castillo will be eligible to return in late August.\\nSeattle Mariners star Robinson Cano got the same ban last week after testing positive for the diuretic Furosemide.\\n\"The positive test resulted from an extremely poor decision that I, and I alone, made,\" Castillo said.\\n\"I take full responsibility for my conduct. I have let many people down, including my family, my team-mates, the White Sox organisation and its fans and from my heart I apologise.\"\\nCastillo is in his ninth major league campaign, having joined the Chicago Cubs in 2010.\\nHe also played for Seattle, Arizona and Baltimore before signing a two-year deal with the White Sox in December.\\nThe White Sox are last in the American League Central division and have the second-worst record in Major League Baseball at 15-31.</ns1:content>\\n    <ns1:newspaper>BBC News</ns1:newspaper>\\n    <ns1:time>24-May-18</ns1:time>\\n  </rdf:Description>\\n  <rdf:Description rdf:about=\"http://example.org/article/Article_8\">\\n    <ns1:title>Meet the new, profitable, Tesla</ns1:title>\\n    <ns1:category>7</ns1:category>\\n    <ns1:author>Chris Isidore</ns1:author>\\n    <ns1:content>New York (CNN Business)Over the last 10 years Tesla CEO Elon Musk has been promising Wall Street that his electric car company would eventually make money.\\nWednesday he finally made good on that promise. Shares closed up 9% Thursday after the company posted its best quarter ever the previous evening.\\nThe big question now is whether the company can remain profitable.\\nTesla\\'s strong report showed that overall manufacturing costs for each vehicle declined by 30%. The number hours it takes to build each car fell too.\\nThat was enough for skeptical Tesla analyst Garrett Nelson to change his tune.\\n\"The results look to be sustainable going forward,\" the CFRA Research analyst said.\\nNelson upgraded his recommendation on the stock after the earnings report. He said he is now confident that Telsa will be able to continue to reduce its costs.\\nTesla\\'s (TSLA) stock had lost about a third of its value since hitting a record high of $385 a year ago.\\nThe stock has been dogged by concerns that the company couldn\\'t hit production targets, was burning through too much cash and was facing looming debt payments.\\nMusk promised investors for months that the company would be profitable in the second half of 2018, but Wall Street had become very skeptical.\\n\"We had our doubts,\" Nelson said. \"This is a company that has a long history of overpromising and under delivering.\"\\nTesla\\'s profitability comes just in the nick of time because $1.7 billion in debt is due by November of next year.\\nThe company that was burning through funds reported that its cash reserves increased by $731 million during the quarter.\\nMusk told analysts that going forward, his company will be adding to its cash reserves instead of burning through money to boost production.\\n\"I said before that we must prove that Tesla can be sustainably profitable,\" he told analysts Wednesday. \"This quarter was an important step towards that and I\\'m incredibly excited about what lies ahead.\"\\nGene Munster, a leading tech analyst with Loup Ventures, said its good to see the focus return to Tesla\\'s business and not on Musk\\'s erratic behavior.\\nIn August, Musk tweeted a plan to take the company private, only to drop the plan less than three weeks later. The Securities and Exchange Commission fined him $20 million and required him to give up the chairman post because of a false statement that he had \"funding secured\" for such a move when he did not.\\nMusk also drank alcohol and smoked pot on a podcast, maligned a man who helped in the rescue of a Thai soccer team trapped in a cave, and lambasted analysts on a conference call.\\nThe behavior spooked many investors, and Munster said he\\'s not sure the great quarter will be enough by itself to convince everyone that the company is a safe investment.\\n\"I think it was the important step they\\'ve taken, but we\\'re not out of the woods yet,\" Munster said.\\nMorgan Stanley auto analyst Adam Jonas, who still has a neutral rating on the stock, said that he and other investors will want to see Tesla repeat this performance in the fourth quarter and beyond before the stock can regain some of the ground it lost in the last year.\\nBut even one of Tesla\\'s harsher critics has said he expects that Tesla\\'s stock will now start to regain lost ground. John Thompson CEO of hedge fund Vilas Capital Management, said he has now closed his short positions which bet on a continued decline in the price of the stock.\\n\"My estimates of their demise have been greatly exaggerated,\" he said. \"In the long run it doesn\\'t change anything. But in the short run they\\'ve pulled the rabbit out the hat.\"</ns1:content>\\n    <ns1:newspaper>CNN News</ns1:newspaper>\\n    <ns1:time>26-Oct-18</ns1:time>\\n  </rdf:Description>\\n  <rdf:Description rdf:about=\"http://example.org/article/Article_22\">\\n    <ns1:newspaper>CNN News</ns1:newspaper>\\n    <ns1:title>11-year-old fatally shot grandmother then himself, grandfather tells police</ns1:title>\\n    <ns1:content>(CNN)An 11-year-old boy shot and killed his grandmother before turning the gun on himself Saturday, the boy\\'s grandfather told police in Arizona.\\nThe Litchfield Park man told detectives that he and his 65-year-old wife \"asked their grandson to clean his room and pick up after himself throughout the day, as he was being stubborn about it,\" Maricopa County Sheriff\\'s Office spokesman Joaquin Enriquez said in a statement Sunday.\\nThe couple then sat down on their living room couch to watch television, the grandfather told investigators.\\n\"While doing so, the grandson came up behind them and shot (the grandmother) in the back of the head, with a handgun which belonged to the grandfather,\" Enriquez said.\\nThe man told police that he ran after his grandson, but then returned to help his wife. He told detectives he heard another gunshot seconds later and saw his grandson take a few steps before collapsing from a self-inflicted wound.\\nThe grandfather told sheriff\\'s office investigators that he retrieved his gun and then called 911.\\nHe told detectives that he and his wife had full custody of their grandson, the Maricopa County Sheriff\\'s Office said.\\n\\'Nice family\\'\\n\"In the preliminary stages of this investigation there had been no previous signs that the grandson might harm someone or himself and there was no cause for concern prior to this event,\" Enriquez said. \"This is open ongoing investigation.\"\\nNeighbors told CNN affiliate KTVK that the family had been friendly.\\n\"Nice family. I knew the kid. I mean, he would ride his bicycle around, play around the neighborhood,\" Walter Venerable said. \"It really hasn\\'t set in just yet. I mean this is a nice neighborhood, it\\'s really quiet -- as you can see -- it\\'s just a tragic, tragic thing.\"\\nAnother neighbor, Danny Dillon told KTVK that nearby residents had stood outside and prayed.\\n\"It\\'s just hard. You can\\'t get your mind around it, you just can\\'t,\" he said. \"You have that neighborly connection but your heart just wishes that you had more and you could\\'ve done more, you could\\'ve seen something or said something.\"</ns1:content>\\n    <ns1:time>November 6 2018</ns1:time>\\n    <ns1:category>16</ns1:category>\\n    <ns1:author>Susannah Cullinane, Chuck Johnston</ns1:author>\\n  </rdf:Description>\\n  <rdf:Description rdf:about=\"http://example.org/article/Article_21\">\\n    <ns1:content>(CNN)en the thunder of gunfire broke through the revelry of a country music dance hall packed with young people kicking back on \"college night,\" Thousand Oaks, California, added its name to a dark roster: The site of the 307th mass shooting in the U.S. this year.\\nThe Borderline Bar &amp; Grill was packed as patrons danced, watched a Lakers\\' game or played pool. It was country college night, and people swayed to the beat as music blared through speakers.\\nSuddenly, a man wearing a black trench coat and glasses approached the bar entrance and shot the security guard.\\nInside the bar, some people thought it was fireworks or sound effects from the music, and kept dancing, witnesses said.\\nWithin seconds, witnesses said, the gunman burst into the bar with a Glock .45-caliber handgun and shot someone at the cash register. People dropped to the ground and hid under pool tables and bar stools. Some piled atop one another while others slammed bar stools against windows to break them.\\nThose who got out ran, the rapid gunfire echoing around them in the dark.\\n\"They ran out of back doors, they broke windows, they went through windows, they hid up in the attic, they hid in the bathroom,\" Ventura County Sheriff Geoff Dean said.\\nBy the time the gun went silent, 12 people were dead, including sheriff\\'s Sgt. Ron Helus.\\nThousand Oaks, California, described as one of the nation\\'s safest cities, was now on the long list of places affected by a mass shooting.\\nWith every gunshot, they shivered\\nThe bar is a popular meeting spot among students from nearby universities, some of whom don cowboy hats and boots on theme nights such as Wednesday\\'s. When the gunfire erupted shortly after 11 p.m., it was packed with young people, including a group celebrating a birthday.\\nSunny Leon was at the back of the dance floor, and initially thought it was fireworks or part of the song. \"It sounded really weird,\" she said.\\nWhen the sounds grew louder and closer, people started screaming. She dropped to the ground and crawled closer to the bar.\\n\"I remember when I was on the ground, seeing a girl getting trampled,\" she said. \"Because I was against the wall, I was OK. But she was getting trampled.\"\\nTristan Appleby said he watched everything unfold from across the room. He saw a man dressed in black holding a gun with a flashlight and repeatedly shooting people laying on the ground.\\n\"Luckily, he didn\\'t come my way,\" Appleby said. \"I was across the room behind a pool table hiding underneath with my friends.\"\\nAppleby said with every shot, the people lying underneath him shivered and squirmed. He kept his eye on the gunman, and when he paused to reload, Appleby whispered to others that it was time to rush to the exit.\\n\"I said, \\'We go,\\' and we ran,\" he said. \"I don\\'t know how I survived because at any moment, I could have been shot.\"\\nShe followed her friend\\'s orders and lived\\nSarah Rose Deson was at the club for her friend\\'s birthday. When the gunman burst in, her friend, Cody Coffman, yelled for her to get down.\\n\"I fell to the floor and hid behind him and just tucked myself in his back,\" she said. There was \"a bunch of sparks and smoke everywhere,\" she said. Coffman soon told her it was time to get out.\\n\"I don\\'t even remember in this blur, but I ran for my life,\" Deson said.\\nShe got out through the front entrance -- the same one the shooter had stormed through moments earlier. She tumbled down in the parking lot, got up and kept running until she got to a nearby gas station.\\nShe later learned Coffman, 22, had been killed.\\n\"He\\'s one of the reasons that I\\'m here right now,\" she said. \"I didn\\'t know what to do. I just followed him, I dropped down and I hid with him. I know he was put in my life for a reason. He\\'ll always be my hero, and now he\\'s my angel.\"\\nDeputies found a scene \\'like hell\\'\\nWhen reports of the shooting started coming in to law enforcement about 11:20 p.m., Helus, the sheriff\\'s sergeant, was talking to his wife.\\nHe told her, \"\\'Hey, I have to handle a call. I love you. I\\'ll talk to you later,\\'\" Dean said.\\nWithin two minutes, he was on the scene. The gunman was still firing.\\nHelus and a highway patrol officer rushed into the bar and exchanged gunfire with the shooter, Dean said.\\nHelus was shot several times before an officer pulled him out and waited for reinforcements, he said.\\nPolice waited close to 15 minutes, until the shots died down, and regrouped with more officers, Dean said. They went into the bar and found the shooter -- Ian David Long, 28, a former US Marine, according to police -- had fatally shot himself next to the bar entrance.\\nThe scene was \"like hell\" when deputies arrived, Dean said. Police found patrons hiding in the attic. Some were so terrified, they asked officers to confirm they weren\\'t the gunman, he said.\\nOutside the bar, frantic parents waited for word of their children. And survivors of the latest mass shooting in the US huddled together, tearfully embracing amid police cars\\' flashing lights.\\nCNN\\'s David Allan and Jason Carroll contributed to this report.</ns1:content>\\n    <ns1:author>Faith Karimi</ns1:author>\\n    <ns1:title>How a night out turned into a night of horror at a bar in California</ns1:title>\\n    <ns1:category>16</ns1:category>\\n    <ns1:time>12-Nov-18</ns1:time>\\n    <ns1:newspaper>CNN News</ns1:newspaper>\\n  </rdf:Description>\\n  <rdf:Description rdf:about=\"http://example.org/article/Article_4\">\\n    <ns1:content>Hackers appear to have compromised and published private messages from at least 81,000 Facebook users\\' accounts.\\nThe perpetrators told the BBC Russian Service that they had details from a total of 120 million accounts, which they were attempting to sell, although there are reasons to be sceptical about that figure.\\nFacebook said its security had not been compromised.\\nAnd the data had probably been obtained through malicious browser extensions.</ns1:content>\\n    <ns1:time>2-Nov-18</ns1:time>\\n    <ns1:category>6</ns1:category>\\n    <ns1:newspaper>BBC News</ns1:newspaper>\\n    <ns1:title>Private messages from 81,000 hacked Facebook accounts for sale</ns1:title>\\n    <ns1:author>Andrei Zakharov</ns1:author>\\n  </rdf:Description>\\n  <rdf:Description rdf:about=\"http://example.org/article/Article_18\">\\n    <ns1:author>Unknown</ns1:author>\\n    <ns1:time>12-Nov-18</ns1:time>\\n    <ns1:newspaper>CNN News</ns1:newspaper>\\n    <ns1:content>(CNN)Here\\'s a look at Lent, a season of prayer and penance in the Christian church and a period of preparation for the Easter season.\\nFacts:\\nMarch 6-April 18, 2019 - Lent (Western church)\\nAsh Wednesday marks the first day of Lent in Western churches.\\nThe word Lent comes from the word Old English word lencten, meaning spring.\\nIn the Western church, Lent begins on Ash Wednesday, six and a half weeks before Easter, and ends on Holy Saturday.\\nIn the Eastern church, Lent begins on the Monday of the seventh week before Easter and ends on the Friday before Palm Sunday.\\nFasting and prayer are done in remembrance and reflection of Jesus Christ\\'s fasting in the wilderness.\\nLent lasts 40 days. Sundays are not counted.\\nThe observance of Lent dates back to the 4th century.\\n5th-9th centuries - Strict fasting during Lent is customary. Meat and fish are forbidden, but one meal a day is allowed.\\nFasting still continues but is less strict now in the Western churches.\\nMany people give up something during Lent, such as TV or other pleasurable activities.\\nEngaging in acts of charity is another custom during Lent.</ns1:content>\\n    <ns1:title>Lent Fast Facts</ns1:title>\\n    <ns1:category>15</ns1:category>\\n  </rdf:Description>\\n  <rdf:Description rdf:about=\"http://example.org/article/Article_23\">\\n    <ns1:author>By Rob Frehse, Steve Almasy</ns1:author>\\n    <ns1:title>Police kill gunman who wounded four at municipal building in Pennsylvania</ns1:title>\\n    <ns1:newspaper>CNN News</ns1:newspaper>\\n    <ns1:content>(CNN)A gunman who opened fire Wednesday at a municipal building in a small Pennsylvania town was shot dead by a police officer responding to the incident in which four people were wounded, state police said.\\nThe gunman entered the Masontown Borough Municipal Center around 2 p.m. and began firing, Lt. Steve Dowlin of the Pennsylvania State Police told reporters.\\nThe four victims included a sergeant from the Masontown police department. Their injuries are not life-threatening, Dowlin said.\\nThe suspect had a restraining order against him related to a choking case that was to be heard Wednesday afternoon, Fayette County District Attorney Richard Bower said.\\nThe suspect had been charged with strangulation, aggravated assault, terroristic threats and simple assault as a result of a domestic matter several weeks ago, Bower added.\\nBower would not identify the man, saying his next of kin had yet to be notified of his death.\\nThe shooting occurred outside District Magistrate Daniel Shimshock\\'s office, authorities said.\\nShooter looked into courtroom, an attorney says\\nEric Randolph, an attorney who was in the courtroom, told CNN affiliate WTAE that he heard one pop and wondered what it was. Then he heard several more pops.\\nThe door flew open and people ran in yelling, \"Shooter, shooter.\"\\nSeconds later a man with a gun entered the courtroom and swept his arm around until he pointed a gun at Randolph, the attorney said.\\n\"It was the most intense, frightening sensation I\\'ve ever had in my life,\" he said.\\nRandolph said he put his head in his hands and when he looked back up the shooter was gone.\\nDoor shot out\\nVideo recorded by a helicopter for WTAE showed that one of the two glass front doors of the Masontown Borough Municipal Center had been shot out.\\nAmy Johns, a spokeswoman for West Virginia University Ruby Memorial Hospital, said it had three patients from the shooting.\\nThey are a 47-year-old man, a 35-year-old man and a 39-year-old woman. All of them are in fair condition, she said.\\nA spokesman for Uniontown Hospital said it received one person.\\n\"The patient was treated and stabilized before being transferred to a Pittsburgh hospital,\" Josh Krysak said.\\nMasontown is in southern Pennsylvania, about 55 miles from Pittsburgh and 20 miles north of Morgantown, West Virginia. The town has about 3,300 residents.\\nCNN\\'s Kwegyirba Croffie contributed to this report.</ns1:content>\\n    <ns1:time>19-Sep-18</ns1:time>\\n    <ns1:category>16</ns1:category>\\n  </rdf:Description>\\n  <rdf:Description rdf:about=\"http://example.org/article/Article_11\">\\n    <ns1:title>10 best motorcycle roads in the United States</ns1:title>\\n    <ns1:author>Carla King</ns1:author>\\n    <ns1:time>12-Jun-12</ns1:time>\\n    <ns1:category>8</ns1:category>\\n    <ns1:newspaper>CNN News</ns1:newspaper>\\n    <ns1:content>(Lonely Planet) A great road is a great road, but if you\\'re riding a motorcycle, you\\'re looking for something special: twisties, vistas, turnouts, that perfect stretch of smooth tarmac, and biker-friendly stops that make getting there most of the fun.\\nHere are Lonely Planet\\'s 10 best roads across America for an unforgettable motorcycle journey:\\n1. Pacific Coast Highway (Hwy 1): 1700 miles from Astoria, Oregon, to San Juan Capistrano, CaliforniaThis undisputed champion of road trips presents beaches, cliffs, redwood forests, sleepy seaside towns, hot tub B&amp;Bs, and world-class dining along a ribbon of winding, undulating road that (between RVs) can provide thrilling sport riding and contented cruising. Stop at the frequent turnouts, and don\\'t miss wild Olympic Peninsula, rustic Big Sur, Hearst Castle, bikini-clad Malibu, or biker-friendly Seattle, San Francisco, and San Diego.\\n2. Appalachian Mountains: 770 miles from Front Royal, Virginia, to Deal\\'s Gap, North CarolinaThis four-in-one magic mountain ride begins with Skyline Drive in Virginia, a 105-mile run along the ridge of the Shenandoah National Park, conveniently connected with the Blue Ridge Parkway for 469 miles of smooth roads and sweeping blacktop. Ride east to Tellico Plains along the Cherohala Skyway (Hwy 28) descending into Tennessee backcountry. Loop back via Hwys 360 and 72 to Deal\\'s Gap, and take on the internationally famous 11 mile Tail of the Dragon and whip through those 318 curves for some bragging rights.\\n3. River Road, (FM 170): 120 miles from Terlingua to Candelaria, Big Bend, Texas\\nFarm to Market 170 is all smooth heavenly pavement along the Rio Grande through the Big Bend\\'s Chihuahuan Desert ecosystem with its mountains, canyons, badlands, and stunted forests, and even grandma\\'s Buick can handle the 17 mile off-road loop through the Valley of the Gods. But if you\\'ve got a dual-sport, you\\'re going to be in heaven. Once it reopens (progressing well at the time of writing), you\\'ll be able to ride on a boat over the Rio Grande at the Boquillas Crossing for a short jaunt for lunch on the Mexican side of the border.\\n4. Going to the Sun Road: 50 miles in Glacier National Park, MontanaBefore this two-hour, 50-mile ride over Logan Pass was completed, it took visitors several days to get through the park, which speaks of its height and contortions. Watch out for mountain goats and bighorn sheep, and pull over at the Jackson Glacier Overlook to take in the most spectacular scenery in the park.\\n5. Beartooth Highway, (US 212): 68 Miles in Yellowstone National Park, WyomingSquiggle along for a couple of hours over the highest highway in the Northern Rockies as it twists and turns its way up to 10,947 feet at Beartooth Pass in Wyoming. Stop to take in views of glacier-laden peaks, alpine plateaus dotted with lakes, waterfalls, and lush forests in one of the most rugged areas in the lower 48 states.\\n6. Highway 12: 124 miles between Bryce Canyon National Park and Capitol Reef National Park, UtahTake a psychedelic sunset ride into fantastical sandstone rock formations, canyons, deep blue lakes, and pine forests and all the curves you might expect. Swish along to the Grand Staircase-Escalante National Monument, Boulder Mountain, and Red Canyon in Dixie National Forest.\\n7. Coastal Highway 1: 170 miles from Kittery to Bucksport, MaineDetours, not twisties, along Maine\\'s 3478 miles of coastline is the point here. The oldest highway on the east coast is dotted with over 60 lighthouses, countless cute towns, antique shops, lobster shacks, and almost 50 peninsulas to explore. The highway connects with many other scenic routes, including a ferry ride to Nova Scotia.\\n8. Overseas Highway (Hwy 1), Florida, 100 miles from Key Largo to Key WestPut your sun screen on and cruise out onto a narrow stretch of road made of bridges atop a living reef in the turquoise Straits of Florida sandwiched between the Atlantic and the Gulf of Mexico. Join the margarita-saturated tourists in tropical paradise and enjoy the biker-friendly atmosphere. Salt air, sea food, and slow speed get you onto island time in no time flat.\\n9. Route 66: 2200 miles from Chicago to Santa MonicaOn just about everybody\\'s bucket list is Route 66. Ride all 2200 miles of this history lesson smothered in kitsch, or just grab a slice or two, like the pies you\\'ll find in endless supply at the many biker-friendly stops between Chicago and Santa Monica.\\n10. The Great River Road (Hwy 61): 2,552 miles from Itasca State Park, Minnesota to Jackson, LouisianaGRR 61 is a single route created in 1938 to highlight the 10 states bordering the great Mississippi River from its headwaters in Minnesota to its termination in Louisiana\\'s Cajun Country. Local riders from all 10 states flock to \\'their\" section of the road, whether it\\'s lined with meadows, cypress swamps, thick forests, limestone cliffs, or wildlife refuges. Industrial areas are easily avoided.\\nCarla King is an adventure travel writer who specializes in riding cranky indigenous motorcycles around the world. She is author of the Motorcycle Misadventures series of books and live internet dispatches from the road. Wherever she is, you can always find her at CarlaKing.com.\\nOriginally published as \"The USA\\'s 10 best motorcycle roads\" 2012 Lonely Planet. All rights reserved.</ns1:content>\\n  </rdf:Description>\\n  <rdf:Description rdf:about=\"http://example.org/article/Article_1\">\\n    <ns1:category>2</ns1:category>\\n    <ns1:newspaper>BBC News</ns1:newspaper>\\n    <ns1:title>Microsoft ends retail sales of Windows 7 and 8</ns1:title>\\n    <ns1:time>3-Nov-14</ns1:time>\\n    <ns1:author>Unknown</ns1:author>\\n    <ns1:content>Microsoft has officially stopped selling retail copies of some versions of Windows 7 and 8.\\nThe date to stop selling the software was set some time ago and should help Microsoft move people on to more recent versions of its operating system.\\nSeparately, statistics suggest people are finally moving away from some very old versions of Windows.\\nThe next version of Windows, called Windows 10, is due to be released in late 2015.\\nOld code\\nFrom 31 October, consumers could no longer buy copies of the Home Basic, Home Premium and Ultimate versions of Windows 7. Now, Windows 8 is also no longer available. The change affects both copies bought in shops or loaded on PCs and laptops.\\nThe current version of Windows, 8.1, will be the default version offered on PCs.\\nThe change will take time to feed through into the market, as many PC makers have large stocks of older versions of Windows and will continue to sell PCs running the software.\\nThose keen to get a computer running Windows 7 will be able to \"downgrade\" from 8.1 to Windows 7 Professional but relatively few PC firms offer this option.\\nGordon Kelly, writing in Forbes, said the policy revealed \"Microsoft\\'s determination to distance itself from the original form of Windows 8\" despite it being released just over two years ago.\\nThe original version of Windows 8 did not prove popular because it did away with some familiar elements of the desktop version of the operating system.\\nBy contrast, he said, Windows 7 has been available since late 2009 and is still very popular among users. About 53% of Windows users are on the various editions of Version 7 of Windows, he said. The more recently released Windows 8 has only grabbed a 6% market share and has already been surpassed by 8.1, said Mr Kelly.\\nThe change will also clear the path for the arrival of Windows 10, he added.\\nSeparately, market analysis reveals that the numbers of people using the venerable Windows XP operating system has suddenly seen a sharp decline. Data from Netmarketshare suggests that in October this year its share dropped from almost 24% to just over 17%. It is not yet clear what was behind the fall.</ns1:content>\\n  </rdf:Description>\\n  <rdf:Description rdf:about=\"http://example.org/article/Article_14\">\\n    <ns1:newspaper>BBC News</ns1:newspaper>\\n    <ns1:author>Haruka Tsuboi</ns1:author>\\n    <ns1:content>The hype surrounding baseball sensation Shohei Ohtani, arguably one of Japan\\'s most promising young athletes for generations, has been building for years.\\nLast week saw his first big test in the North American Major League (MLB) and he more than lived up to it.\\nBefore he even went to the Los Angeles Angels, Ohtani had been called \"the greatest thing to happen to baseball in a century\" and a \"modern day Babe Ruth\".\\nThe headlines coming out of the US following a game on Sunday night show that even the US media are beginning to come on board, with talk of an \"unreal\" start, an \"insane\" achievement and some conjecture that \"Shohei Ohtani is very clearly not from this planet\".\\nOhtani is a rare example in baseball of a top class all-rounder. Able to both bat and pitch, he\\'s called a two-wayer.\\nSo what has he actually achieved? Well, it was more than Babe Ruth did in his first two weeks, that\\'s for sure - but here are some highlights:\\nOhtani is only the third player in history to get two pitching wins and three home runs in the first 10 games for his team\\nPitching his second game, he forced 12 strikeouts, equalling an American League record for a pitcher in one of his first two games\\nHe is only the third player ever to hit a home run in three consecutive games and pitch a game with more than 10 strikeouts in the same season. One of the others was Babe Ruth\\nJapan has the second biggest baseball league outside the US, so it is no surprise that it has produced a player of this calibre. Ohtani\\'s family background also counts.\\nAccording to one report that tracked the nascent career of the young athlete, his father, Toru, was an avid player and encouraged his children to play catch when he\\'d return home from the Mitsubishi plant where he worked.\\nIn his high school in northern Iwate prefecture, Ohtani threw the fastest pitch ever recorded by a Japanese high school pitcher, at 160 km/h (99 mph).\\nWhen Japanese horror meets baseball\\nHe initially wanted to enter the MLB directly from high school rather play in Japan\\'s professional league. But Hokkaido Nippon-Ham Fighters won out in the end, after lengthy negotiations.\\nTheir final presentation to the young player was called: \"Shohei Ohtani: The Way to Dream\" and set out the plan to make him a two-wayer.\\nHe had his fair share of record-setting in Japan, becoming in 2014 the first player to both remove 10 batters and record 10 or more home runs in a season. Nobody has broken that record.\\nNow the player, seen in Japan as a quiet but effective presence on the pitch, is proving his mettle on American soil.\\nIf US sports commentators have been left rubbing their eyes in disbelief - after all Ohtani had not performed well in spring training - the Japanese public has also been euphoric.\\nThe well-known Japanese manga artist Tsunomaru, tweeted: \"No, No Ohtani. My editor will not accept such a great story. It should be more realistic.\"\\nAnother Twitter user said \"we are witnessing a kind of myth\", while another said the \"MLB has been given a harsh lesson by Ohtani\".\\nThe Japanese media have been no less enthusiastic, calling his first two weeks in the Major League an example of \"shockingly perfect pitching\" and noting how US media had been left stunned.\\nBoth sides of the Pacific are watching to see if he can do more.</ns1:content>\\n    <ns1:title>Japan\\'s baseball star Shohei Ohtani draws Babe Ruth comparisons</ns1:title>\\n    <ns1:time>9-Apr-18</ns1:time>\\n    <ns1:category>9</ns1:category>\\n  </rdf:Description>\\n  <rdf:Description rdf:about=\"http://example.org/article/Article_24\">\\n    <ns1:author>Gabriel Chaim, Nick Paton Walsh, Salma Abdelaziz, Waffa Munayyer</ns1:author>\\n    <ns1:title>Syrian Kurds resume push to rid ISIS from last pockets of Syria</ns1:title>\\n    <ns1:time>13-Nov-18</ns1:time>\\n    <ns1:content>Sousa, Syria (CNN)Syrian Kurdish forces are resuming the final phase of operations against ISIS, as the terrorist group is pushed back into its last remaining slivers of territory.\\nThe resumption comes as CNN releases remarkable and rare frontline footage of the recent intense fight against ISIS, filmed by Brazilian photographer Gabriel Chaim.\\nThe latest Kurdish push against ISIS follows a lengthy and contentious stand-off with Turkish forces. Turkey, a NATO member, considers the Syrian Kurds -- the US coalition\\'s main ally in the fight against ISIS -- a terrorist group.\\nClashes between the Turkish military and the Syrian Kurds -- also known as the SDF when allied with Syrian Arab fighters against ISIS -- have intermittently plagued and delayed the final operations against ISIS. The most recent suspension occurred November 1, but operations restarted Sunday, the SDF said in a statement.\\nThe SDF said operations resumed after \"positive calls from our allies to de-escalate and focus the efforts on defeating ISIS, as it would contribute to the stabilization of the area and the benefit of all parties.\" The US has long been mediating between Ankara and the SDF to lessen tension to the point where the SDF can focus on ISIS.\\nThe past months of the operations, aiming to deny ISIS their last small towns and swathes of inhospitable desert along the Iraqi border and at the far eastern end of the Euphrates river valley in Syria, have been a slower and tougher fight than many expected. The main holdout fighters are thought to be die-hard foreigners and ISIS leadership, taking a last stand.\\nPhotographer Chaim joined the intense fight for the town of Sousa in late October, a period when the SDF fought tooth and nail to take its streets from ISIS. On October 23, four car bombs targeted SDF fighters, though the SDF said three attacks were stopped and the driver of the fourth was captured.\\nChaim saw the heavy use of mortars by ISIS to try to push the SDF back, and the intense close-range use of artillery and airstrikes to flush ISIS out of urban positions. At one point in the footage, an Apache attack helicopter hovers over an ISIS target before its cannons destroy it.\\nHe also witnessed the often young and poorly equipped nature of the militia leading this globally important fight. One apparently teenage fighter appears disorientated as he receives treatment following an explosion. Most medical care is done by the light of cellphones and involves just cleaning wounds with saline solution and applying rudimentary dressings.\\nOn October 28, shortly after Chaim left the frontlines, many of the advances were reversed when ISIS took advantage of a sandstorm and counter-attacked, killing dozens of SDF fighters. The fight remains intense, despite the broad perception that ISIS have been defeated in the area.\\nChaim also witnessed the difficulties the SDF face when they capture civilians fleeing ISIS-held areas. It is hard to weigh the immediate needs of the people against the possibility that they are ISIS sympathizers.\\nAs one fighter says: \"The biggest battle is going to be freeing the people from the ISIS way of thinking. They\\'ve been dragged here by ISIS from their former capital, Raqqa, but they still think ISIS will come back one day and give them a caliphate again.\"\\nGabriel Chaim reported from Sousa, Syria. Nick Paton Walsh and Salma Abdelaziz wrote from London and Waffa Munayyer reported from Atlanta.</ns1:content>\\n    <ns1:newspaper>CNN News</ns1:newspaper>\\n    <ns1:category>17</ns1:category>\\n  </rdf:Description>\\n  <rdf:Description rdf:about=\"http://example.org/article/Article_27\">\\n    <ns1:content>(CNN)When Donald Trump ran for president, one of the core pillars of his pitch to the voting public was this: Political correctness is a cancer eating away at the body politic.\\n\"We have to straighten out our country, we have to make our country great again, and we need energy and enthusiasm,\" Trump said during an appearance on \"Meet the Press\" in August 2015. \"And this political correctness is just absolutely killing us as a country. You can\\'t say anything. Anything you say today, they\\'ll find a reason why it\\'s not good.\"\\nPeople responded -- big time. The idea that liberals and/or the elites had made it so that no one could say what they thought, for fear of being labeled intolerant or un-enlightened, was a powerful one in the very communities that Trump was appealing to: Whites watching the society and culture they had grown up with change faster and in ways that, in some cases, made them deeply uncomfortable. (Exit polls in 2016 showed Trump got 57% of the white vote, 8% of the black vote and 28% of the Hispanic vote).\\nLike much of Trump\\'s appeal, there was a kernel of truth in it. Speech -- on places like college campuses, for example -- had been curtailed over recent years by usually liberal groups insisting offense and demanding \"trigger warnings\" in classes and quads. There was a frustration among many that having views that diverged from what liberals had decided was acceptable were being shouted down.\\nThe problem with Trump\\'s assault on political correctness is that he took it so far that he clearly emboldened not only those lurking in the shadows to bring their hate speech into the light of day, but also lowered the overall bar for what is considered acceptable discourse among politicians and other leaders in the country.\\nThe first piece of that equation -- the rise of hate speech -- has drawn most of the attention publicly because, well, that\\'s what these purveyors of intolerance want. From the murder of 11 Jews at a synagogue in Pittsburgh by a man who voiced anti-Semitic views in online forums to the white supremacist marches in Charlottesville, Virginia, that led to the death of a counter-protester named Heather Heyer, we\\'ve seen these abhorrent views on display more and more -- and often with disastrous consequences.\\nThe Anti-Defamation League has said that incidents of public anti-Semitism -- bomb threats, vandalism etc. -- surged by 57% in 2017. There were a total of 1,986 anti-Semitic incidents reported in the US in 2017; in 2016 that number was 1,267.\\nA study by the Center for Hate &amp; Extremism at the University of California San Bernardino showed that in 2017 hate crimes reported to police in America\\'s 10 largest cities rose 12.5%. It was the the 4th consecutive year that number has increased, and it marked the highest total of hate crimes in more than a decade. (That\\'s a striking finding, given that the study also found a drop in overall crime in these same areas.)\\n\"We are determined to take our country back,\" said former KKK grand wizard David Duke in 2017. \"We are going to fulfill the promises of Donald Trump. That\\'s what we believed in. That\\'s why we voted for Donald Trump, because he said he\\'s going to take our country back.\"\\n(Trump initially claimed he didn\\'t know who Duke was during the 2016 campaign and therefore could not disavow him. He later said he did, in fact, disavow Duke\\'s stated support of his candidacy.)\\nThe second piece of what Trump\\'s war on political correctness has wrought gets less attention but may matter just as much to the long-term health and sustainability of our democracy: The way in which he has drastically dragged political dialogue into the gutter.\\nIn the last week, we\\'ve seen House Majority Leader Kevin McCarthy tweet (then delete) this: \"We cannot allow Soros, Steyer, and Bloomberg to BUY this election! Get out and vote Republican November 6th. #MAGA\" (Soros, Steyer and Bloomberg are all wealthy Jewish Americans.)\\nWe\\'ve seen Iowa Republican Rep. Steve King talk to a far-right Austrian party -- telling them that \"Western civilization is on the decline\" and asking: \"What does this diversity bring that we don\\'t already have?\"\\nEarlier this year, the founders of the Women\\'s March on Washington faced scrutiny for a failure to distance themselves from the Nation of Islam\\'s Louis Farrakhan, a well documented anti-Semite who recently compared Jews to termites.\\nAside from the obvious appeals by politicians and other leaders to anti-Semitic sentiments, there is a whole other class of speech that has turned incivility into some sort of rallying cry for their respective party bases.\\nTrump has called those who opposed Brett Kavanaugh\\'s ascension to the Supreme Court \"evil.\" He repeatedly attacks the mainstream media as \"the enemy of the people.\" During the 2016 campaign, he turned bullying and name-calling of his opponents into a political strategy -- embracing incivility as a way of sticking it to the status quo.\\nUnfortunately, Democrats have followed suit -- most notably with former Attorney General Eric Holder telling an audience in Georgia of Democrats\\' political opponents, \"when they go low, we kick them.\"\\nHillary Clinton, too, has dabbled in that sort of fight-fire-with-fire rhetorical approach, telling CNN\\'s Christiane Amanpour:\\n\"You cannot be civil with a political party that wants to destroy what you stand for, what you care about. That\\'s why I believe, if we are fortunate enough to win back the House and or the Senate, that\\'s when civility can start again. But until then, the only thing that the Republicans seem to recognize and respect is strength.\"\\nTrump\\'s success has created a divide among Democrats that the 2020 campaign will suss out. On one side are those pushing the need to return to civility and politics as practiced before Trump. On the other are the likes of Holder and Michael Avenatti, who insist that the only way to beat Trump is to out-Trump him.\\nIt\\'s important to remember here that all of these incidents and comments are not created equal. While Republicans seize on Holder\\'s kick them when they are down moment, it\\'s absolutely wrong to see that on the same level of Trump blaming both sides for the violence in Charlottesville or proudly proclaiming that he is a nationalist to a cheering throng of supporters.\\nBut taken as a whole, they represent an erosion in what standards of speech and, more basically, how we treat and regard one another. Not all of this Donald Trump\\'s fault. The rise of social media -- and the weak policing of hate speech on those platforms -- has allowed people with intolerant views to connect with others who see world in a similarly twisted way, and to amplify those views.\\nThat said, there is no question that Trump opened a Pandora\\'s box when he began his assault on political correctness. And that, because it worked (and works) for him politically, he will continue to help lower the standards of political dialogue and provide further cover for the rise of hate speech in the mainstream.\\nIn short -- and sadly -- things aren\\'t likely to get much better anytime soon.</ns1:content>\\n    <ns1:title>The dangerous consequences of Trump\\'s all-out assault on political correctness</ns1:title>\\n    <ns1:author>Chris Cillizza</ns1:author>\\n    <ns1:newspaper>CNN News</ns1:newspaper>\\n    <ns1:category>18</ns1:category>\\n    <ns1:time>30-Oct-18</ns1:time>\\n  </rdf:Description>\\n  <rdf:Description rdf:about=\"http://example.org/article/Article_6\">\\n    <ns1:content>Tesla has named an Australian executive as its new chairman after Elon Musk was forced to give up the role.\\nRobyn Denholm, the finance chief of Australian telecoms firm Telstra, takes over from the electric car maker\\'s founder, who remains chief executive.\\nMr Musk agreed to step down as chair last month to resolve claims of fraud brought by US financial regulators. \\nThe settlement requires Tesla to install an independent chairman, among other penalties.\\nThe announcement scotches reports that James Murdoch was the frontrunner for the job.\\nTesla has endured a difficult few months, following comments Mr Musk made on social media in early August suggesting he had \"funding secured\" for a deal to take Tesla private.</ns1:content>\\n    <ns1:title>Tesla names Robyn Denholm as chair to replace Elon Musk</ns1:title>\\n    <ns1:time>8-Nov-18</ns1:time>\\n    <ns1:category>7</ns1:category>\\n    <ns1:author>Unknown</ns1:author>\\n    <ns1:newspaper>BBC News</ns1:newspaper>\\n  </rdf:Description>\\n  <rdf:Description rdf:about=\"http://example.org/article/Article_25\">\\n    <ns1:category>17</ns1:category>\\n    <ns1:time>5-Nov-18</ns1:time>\\n    <ns1:author>Shirzad Bozorgmehr, Tamara Qiblawi</ns1:author>\\n    <ns1:content>Tehran, Iran (CNN)Iranian President Hassan Rouhani vowed to defy US sanctions as penalties targeting the country\\'s oil-and-gas sector went into effect on Monday.\\nThe most biting round of sanctions since US President Donald Trump pulled out of the landmark 2015 deal to curtail Iran\\'s nuclear program came into force Monday. The move targets Iran\\'s oil-and-gas, shipbuilding, shipping and banking industries.\\nIran will \"proudly break the unjust sanctions,\" Rouhani said in public remarks during a cabinet meeting Monday. \"We must make the Americans understand in clear language that they cannot deal with us with force, pressure and sanctions.\"\\nLast week, US Secretary of State Mike Pompeo announced that eight \"jurisdictions\" would receive temporary waivers from energy-related sanctions. Some of these are believed to be some of the largest recipients of Iranian oil exports, potentially curbing the effects of the sanctions.\\nJapan, South Korea and India are widely expected to be given exemptions.\\nPompeo said countries are getting waivers \"only because they have demonstrated significant reductions in their crude oil, and cooperation on many other fronts,\" but Rouhani hailed the exemptions as a \"victory.\"\\n\"The fact that the US has exempted eight countries from the sanctions after they threatened to bring Iran oil exports to zero, isn\\'t this a victory for us? And isn\\'t this a retreat for the United States?\" said Rouhani on Monday.\\n\"The Islamic Republic of Iran can sell its oil and will sell its oil even if the eight countries had not been exempted from the sanctions,\" he added.\\nMeanwhile, foreign ministry spokesman Bahram Qassemi said Monday that Iran had devised policies to \"nullify the sanctions.\"\\n\"Trump\\'s policies will not work. We will pass this stage very soon,\" said Qassemi, calling the sanctions \"an addiction of the United States.\"\\nMonday\\'s sanctions are the second round of reimposed penalties since Trump pulled out of the nuclear deal in May. In August, a round of sanctions targeted Iran\\'s aviation and automotive industries.\\nThe US withdrawal from the pact spurred an exodus of international companies from Iran, including European giants Total and Airbus. The value of Iran\\'s rial plummeted by around 70%, and inflation has spiraled.\\nAs Iranians braced for the new round of sanctions, Tehran\\'s streets have been charged with anger and despair. Government-organized demonstrations in the center of the capital have struck a defiant tone against Trump\\'s policies.\\nPeople privately worry that there appears to be no end in sight, fearing that sanctions may cause shortages of food and medicine, as well increasing youth unemployment, which is currently estimated to be around 40%.\\nChina, which is a signatory to the nuclear agreement, said it \"regrets the decision\" in a daily briefing at the Foreign Affairs Ministry.\\nMinistry of Foreign Affairs spokesperson Hu Chunying went on to criticize the unilateral sanctions and \"long arm jurisdiction.\"\\n\"Iran has strictly fulfilled its obligations in the nuclear area in accordance with the Comprehensive Plan so far,\" said Chunying, referring to the Joint Comprehensive Plan of Action, the Iran nuclear deal.\\n\"The International Atomic Energy Agency has confirmed it for 12 consecutive times. China appreciates the efforts of Iran,\" he added. The US State Department has also certified several times that Iran was sticking to its end of the deal -- halting nuclear enrichment -- in exchange for sanctions relief.</ns1:content>\\n    <ns1:newspaper>CNN News</ns1:newspaper>\\n    <ns1:title>Iran\\'s president vows to defy Trump sanctions</ns1:title>\\n  </rdf:Description>\\n  <rdf:Description rdf:about=\"http://example.org/article/Article_7\">\\n    <ns1:content>A fall in new car sales has fuelled a slow down in borrowing by consumers, the Bank of England said.\\nIts data showed that the annual growth rate in consumer credit slowed to 7.7% in the year to September. This is down from 8.2% in August - and the weakest pace since June 2015. \\nThe amount of borrowing in September fell to $800m, in part because of the fall in demand for car finance.\\nNew car sales fell 20.5% in September, data has shown.\\nThe Society of Motor Manufacturers and Traders\\' figures published earlier this month showed sales of petrol and diesel cars fell, while those of hybrids and plug-in electric rose by just 3.9%.</ns1:content>\\n    <ns1:newspaper>BBC News</ns1:newspaper>\\n    <ns1:time>29-Oct-18</ns1:time>\\n    <ns1:category>7</ns1:category>\\n    <ns1:title>Car sales drop leaves borrowing growth rate at three-year low</ns1:title>\\n    <ns1:author>Unknown</ns1:author>\\n  </rdf:Description>\\n  <rdf:Description rdf:about=\"http://example.org/article/Article_20\">\\n    <ns1:time>12-Aug-18</ns1:time>\\n    <ns1:author>Unknown</ns1:author>\\n    <ns1:title>Christian camp leader John Smyth suspected of abuse dies</ns1:title>\\n    <ns1:category>15</ns1:category>\\n    <ns1:newspaper>BBC News</ns1:newspaper>\\n    <ns1:content>A leading barrister suspected of physically abusing boys who attended Christian summer camps has died.\\nJohn Smyth QC, 77, had been wanted for questioning over abuse claims concerning boys at Winchester College during the 1970s and 1980s.\\nIn a statement his family told BBC News the cause of death appeared to be a sudden heart attack following a heart procedure last week.\\nThey asked to be \"left alone\" to grieve in private.\\nMr Smyth was previously a senior member of Christian charity the Iwerne Trust and died at his home in Cape Town, South Africa on Saturday.\\nVictim advocate, Andrew Graystone, said Hampshire police informed victims the CPS had asked them to summon Mr Smyth back to the UK for formal questioning with a view to possible charges last week.\\nThe CPS said it was \"not in a position to comment at this time\".\\nMr Smyth also previously worked as a barrister representing the moralising campaigner Mary Whitehouse and ran camps in Dorset for young evangelical Christians during the 1970s and 1980s.\\nHe and his wife Anne were excommunicated by Church-on-Main, in Cape Town last year.\\nOfficials said he had been \"evasive, combative, non-compliant and generally unwilling to work with us\" when the abuse allegations surfaced.\\nReports of his alleged physical abuse of 22 boys were revealed in an investigation by Channel 4 News in February 2017.\\nThe investigation came after a report by the Iwerne Trust from 1982, which was not made public until 2016.\\nIt found Mr Smyth identified pupils from leading public schools like Winchester College and took them to his home near Winchester in Hampshire, where he carried out lashings with a garden cane in his shed.\\nIt said eight of the boys received a total of 14,000 lashes, while two more received 8,000 strokes between them over three years.\\nThe Iwerne Trust called the practice \"horrific\" but the claims were not reported to police until 2013 - more than 30 years later.\\n\\'No justice\\'\\nMr Smyth refused to comment on the allegations, which were reported to have happened while Archbishop of Canterbury, Justin Welby, worked at some of the camps as a young man in the 1970s.\\nHe said he knew nothing of the abuse until it was reported to police.\\nThe Bishop of Guildford, Andrew Watson, has also said he was abused by Mr Smyth.\\nMr Graystone said a number of alleged victims expressed their sympathy for his family in their loss.\\nHe added: \"They are, however, angry that the police and the Church of England have failed to respond to their disclosures for the past six years. As a direct result they will see no justice, and more importantly they will not get answers to their crucial questions about why this was allowed to happen.\"\\nA spokeswoman for Hampshire Constabulary said: \"We are in the process of speaking with the victims of the non-recent abuse allegations, to update them on the news that we have heard around the suspect\\'s death.\\n\"Until those conversations have taken place, and until we have spoken with the CPS and the suspect\\'s solicitor, it would be inappropriate for us to comment further.\"</ns1:content>\\n  </rdf:Description>\\n  <rdf:Description rdf:about=\"http://example.org/article/Article_9\">\\n    <ns1:category>8</ns1:category>\\n    <ns1:author>Unknown</ns1:author>\\n    <ns1:content>John McGuinness has continued to impress on his Isle of Man TT comeback at the Festival of Motorcycling.\\nDespite missing two years with injuries suffered in 2016\\'s North West 200, the Morecambe racer, 46, again topped the Senior Classic TT times at 106.585mph.\\nRiders gained some much-needed track time after three days of poor weather led to several cancelled sessions.\\nMeanwhile, local racer Dan Sayle recorded the fastest lap of the evening in the Lightweight class at 109.406mph.\\nSeveral other Classic TT racers including Charles Rhys Hardisty, Jamie Coward, Ian Lougher and Maria Costello also recorded 100mph laps on the night.\\nThe Festival of Motorcycling incorporates both the Classic TT and Manx Grand Prix events.\\nManx Grand Prix competitors\\' practice followed the TT sessions but was cut short due to rain with Dave Lumsden quickest at 107.56mph.\\nPractice will continue during Friday ahead of Saturday\\'s opening Classic TT races.</ns1:content>\\n    <ns1:title>Festival of Motorcycling: John McGuinness impresses on TT return</ns1:title>\\n    <ns1:newspaper>BBC News</ns1:newspaper>\\n    <ns1:time>24-Aug-18</ns1:time>\\n  </rdf:Description>\\n  <rdf:Description rdf:about=\"http://example.org/article/Article_2\">\\n    <ns1:newspaper>BBC News</ns1:newspaper>\\n    <ns1:time>9-Oct-17</ns1:time>\\n    <ns1:content>Microsoft appears to have abandoned its smartphone operating system ambitions.\\nThe company\\'s Windows 10 chief has tweeted that developing new features and hardware for the Mobile version of the OS was no longer a \"focus\".\\nJoe Belfiore added that he had also switched to Android himself.\\nWindows 10 Mobile tried to attract users by letting them run the same \"universal apps\" on both their PCs and handsets, but the concept failed to catch on.\\nThe OS accounted for just 0.03% of the global market - based on smartphone shipments - between April and June, according to research company IDC.\\nThe market intelligence provider said the news had been a long time coming.\\n\"There wasn\\'t a wide range of devices running Windows 10 Mobile, so it wasn\\'t attractive to retailers or operators,\" said IDC\\'s Francisco Jeronimo.\\n\"And from a consumer perspective, the operating system didn\\'t provide as good an experience as Android or iOS.\"\\nMr Belfiore began a series of tweets on Sunday by discussing the recent launch of a test version of Microsoft\\'s Edge web browser for Android and iOS - the latest in a series of releases of its core software for rival mobile platforms.\\nHe then went on to respond to questions about whether there was any point sticking with Windows 10 Mobile.\\nHe said that while Microsoft would support the \"many companies\" that had adopted the platform, he had switched to Android for the diversity of its apps and hardware.\\n\"Of course we\\'ll continue to support the platform... bug fixes, security updates, et cetera,\" he said.\\n\"But building new features or hardware is not the focus.\"\\nMr Belfiore posted Microsoft had tried \"very hard\" to incentivise other companies to release universal apps - even writing their software for them in some cases - but the number of users had been too low for most to bother.\\nThe announcement comes a week after HP had said it no longer planned to release further Windows 10 Mobile handsets, and a fortnight after Microsoft co-founder Bill Gates disclosed that he had already made the switch to Android.\\nHowever, some manufacturers - including the UK\\'s Wileyfox and Germany\\'s TrekStor - had unveiled new models powered by Windows 10 Mobile as recently as last month.\\n\"Most Microsoft applications are now available and supported on other mobile operating systems,\" said Mr Jeronimo.\\n\"After Satya Nadella took over [as chief executive], that clearly became the strategy - and after that happened what incentive was there to buy a Windows-powered phone?\"\\nHowever, Microsoft may not have given up on powering smartphones altogether.\\nEarlier this year, Windows Central reported the company was working on a new version of Windows 10 - codenamed Andromeda - that would run on all types of computer and make it possible for third-party apps to adapt without having to code a special \"universal\" version.\\nIt said the OS was due for release next year, but suggested the code would not be offered as an upgrade to existing Windows 10 Mobile devices.\\nA spokeswoman for Microsoft was unable to provide further comment.</ns1:content>\\n    <ns1:author>Leo Kelion</ns1:author>\\n    <ns1:title>Microsoft gives up on Windows 10 Mobile</ns1:title>\\n    <ns1:category>2</ns1:category>\\n  </rdf:Description>\\n</rdf:RDF>\\n'"
      ]
     },
     "execution_count": 46,
     "metadata": {},
     "output_type": "execute_result"
    }
   ],
   "source": [
    "from rdflib import Graph\n",
    "\n",
    "g = Graph()\n",
    "\n",
    "for i in range(df_news30.shape[0]):\n",
    "    g.add((Article[i], FOAF.category, category[i] ))\n",
    "    g.add((Article[i], FOAF.title, title[i] ))\n",
    "    g.add((Article[i], FOAF.author, author[i] ))\n",
    "    g.add((Article[i], FOAF.newspaper, newspaper[i] ))\n",
    "    g.add((Article[i], FOAF.time, time[i] ))\n",
    "    g.add((Article[i], FOAF.content, content[i] ))\n",
    "    \n",
    "g.serialize()"
   ]
  },
  {
   "cell_type": "markdown",
   "metadata": {},
   "source": [
    "#### 3.1.2. Handling Special Characters"
   ]
  },
  {
   "cell_type": "code",
   "execution_count": 47,
   "metadata": {},
   "outputs": [
    {
     "data": {
      "text/plain": [
       "'<?xml version=\"1.0\" encoding=\"UTF-8\"?><rdf:RDF   xmlns:ns1=\"http://xmlns.com/foaf/0.1/\"   xmlns:rdf=\"http://www.w3.org/1999/02/22-rdf-syntax-ns#\">  <rdf:Description rdf:about=\"http://example.org/article/Article_28\">    <ns1:newspaper>CNN News</ns1:newspaper>    <ns1:category>18</ns1:category>    <ns1:title>Barack Obama asked the question everyone\\\\\\'s been wondering about the Republican Party</ns1:title>    <ns1:content>(CNN)\"What happened to the Republican Party?\"That\\\\\\'s the question former President Barack Obama asked in a speech at the University of Illinois on Friday, taking direct aim at not only the presidency of Donald Trump but also at the broader Republican Party\\\\\\'s capitulation to him.It\\\\\\'s easy to dismiss Obama\\\\\\'s speech on Friday as nothing more than a disgruntled politician settling scores in an effort to motivate his side to turn out in the coming midterm elections. \"Barack Obama had 8 years to complete his hope &amp; change in America, and the only change agent has been President Trump,\" said White House director of strategic communications Mercedes Schlapp within moments of Obama concluding his speech.And sure, that is, in part, what Obama is doing here. He is setting the stakes and reminding Democratic voters of where the US is as a country and where it needs to go. He\\\\\\'s a politician. And so politics plays a role in his speech.But the question Obama asks about where the Republican Party of George W. Bush, Mitt Romney, John McCain and Ronald Reagan has gone is one I have heard lots of Republicans wonder about/lament since it became clear that Trump was going to be the GOP presidential nominee in 2016.That Republican Party was built on a few first principles: lower taxes, aggressive foreign policy -- particularly in regard to Russia -- and shrinking the debt we were leaving for future generations. It was also built on the idea of gentility, that there was a way people in public life can and should act.On most of those issues, Trump is the polar opposite of where the party was just a few short years ago. Yes, he is a believer in lowering taxes -- and passed a major tax-cut bill last year. But his ongoing skepticism about the threat posed by Russia is antithetical to the modern Republican Party. (Hell, Reagan ran an ad in which he portrayed Russia as an ominous bear wandering the woods!)Trump ran a campaign in which he rarely -- if ever -- mentioned the country\\\\\\'s looming debt problems. (He did, however, promise to eliminate the national debt in eight years.) And he pushed the tax cut bill through, which is projected to add more than $2.3 trillion to the deficit over the next decade.Reagan said famously that the 11th Commandment was to not speak ill of other Republicans. Trump\\\\\\'s 2016 campaign was rooted in his willingness to -- and effectiveness at -- bullying the more traditional candidates in the race. There was \"Low Energy\" Jeb Bush. And \"Lyin\\\\\\' \" Ted Cruz. And on and on.Trump -- from his policies to his tone -- ran expressly against Republican orthodoxy in 2016. He offered himself up as the antidote to oleaginous politicians who said one thing on the campaign trail and then did something else once they got to Washington. Trump\\\\\\'s argument during the primary campaign was that the GOP was rotting from the top down and only by chopping off its head could you hope to save the rest of the body politic.Given that, no one should be surprised at the way Trump has acted as President. We knew exactly what we were getting when Trump won -- and he has been that person from the moment he took the office. (In truth, he couldn\\\\\\'t possibly be anyone else.)What surprised lots of people -- and this is what Obama is getting at in his speech -- is how the broader Republican Party reacted to Trump. The resistance to Trump -- from not just Sens. McCain and Jeff Flake, but also Romney and Sen. Ted Cruz -- that was active and vibrant during the campaign suddenly melted away. It was as if, having seen their ship of state taken over by pirates, Republican put on an eye patch, swigged some grog and happily joined the crew.The reason was -- and is -- some combination of realpolitik and fear. Republicans looked at the bodies strewn in Trump\\\\\\'s wake during the 2016 presidential primary fight and didn\\\\\\'t want to watch their own political careers sacrificed on a quixotic charge against Mount Trump. And the likes of Senate Majority Leader Mitch McConnell and House Speaker Paul Ryan saw opportunity in the chaos: Trump, bereft of any real belief system or policy agenda, could be molded to move long-standing priorities of the party -- from judges to a tax cut.That Faustian bargain wasn\\\\\\'t worth it, argued Obama -- noting that what it meant to be a Republican has now been lost. \"It shouldn\\\\\\'t be Democratic or Republican to say that we don\\\\\\'t target groups of people because of what they look like or how they pray,\" Obama said. \"We are supposed to stand up to discrimination and we are sure as heck to stand up clearly and unequivocally to Nazi sympathizers.\"Obama\\\\\\'s speech highlights just how much -- and how fast -- the Republican Party has changed even since he beat Romney to win a second term in 2012. Trump\\\\\\'s hostile takeover of the Republican Party has not only put many long-term stalwarts of conservatism on the outside looking in -- Ryan is retiring, the national security establishment within the party is ignored and taunted -- but also has fundamentally transformed what it means to be a Republican.Over and over during the 2018 primary season, Republican candidates ran and won on a simple message: I\\\\\\'m just like Donald Trump. In Florida, for example, Ron DeSantis ran ads showing him teaching his kids how to \"build that wall\" and reading to them from \"The Art of the Deal.\" He won a Trump endorsement -- and the governor\\\\\\'s primary.The Republican Party has, in the main, been replaced by the Trump party. And the beliefs of those two \"parties\" just aren\\\\\\'t the same.\"This is not normal,\" Obama said on Friday. \"These are extraordinary times.\"He\\\\\\'s got that right.</ns1:content>    <ns1:time>7-Sep-18</ns1:time>    <ns1:author>Chris Cillizza</ns1:author>  </rdf:Description>  <rdf:Description rdf:about=\"http://example.org/article/Article_10\">    <ns1:time>25-Aug-16</ns1:time>    <ns1:title>Killed great-grandfather \\\\\\'had passion for motorcycles\\\\\\'</ns1:title>    <ns1:author>Unknown</ns1:author>    <ns1:category>8</ns1:category>    <ns1:content>The family of a great-grandfather who died after a crash have spoken of his life-long passion for motorbikes.Eric Winn, 72, died in hospital after his Suzuki motorbike and a Mazda collided on a minor road in Woodland, Bishop Auckland, on Wednesday morning.The retired factory worker, from Stanley, was flown to James Cook Hospital in Middlesbrough where he was pronounced dead shortly after arrival.His family said he was a \"devoted motorcyclist of more then 56 years\".They added: \"Bikes were his sporting interest and offered him the opportunity to explore our region, and beyond.\"He was a loving husband to Connie, who he had supported through her own medical issues over the last three years.\"Durham Police said the driver of the car was shaken but unhurt in the crash.</ns1:content>    <ns1:newspaper>BBC News</ns1:newspaper>  </rdf:Description>  <rdf:Description rdf:about=\"http://example.org/article/Article_17\">    <ns1:title>Four Nations: Ireland earn 4-3 shootout win over England to finish third</ns1:title>    <ns1:author>Unknown</ns1:author>    <ns1:time>4-Nov-18</ns1:time>    <ns1:category>10</ns1:category>    <ns1:newspaper>BBC News</ns1:newspaper>    <ns1:content>Ireland finished third in the Four Nations with a 4-3 penalty shootout victory over England in Valencia.Irish goalkeeper David Fitzgerald made two saves in the shootout as Eugene Magee, Alan Sothern, Shane O\\\\\\'Donoghue and Daragh Walsh scored from the spot.The match finished 2-2 with England twice taking the lead through Zachary Wallace and Luke Taylor, with Magee and Sean Murray hitting the equalisers.Alexander Cox\\\\\\'s side had lost 5-2 to the Netherlands on Saturday.With little to separate the sides in the first half, the best chance fell to England\\\\\\'s James Gall, who took advantage of Conor Harte slipping but his shot was forced wide.The game came to life with two goals inside the first six minutes of the second half, with Wallace notching at the back post from a Barry Middleton cross.But Ireland were soon back on level terms when Magee\\\\\\'s shot deflected in after a superb pass from Michael Robson.England took the lead against the run of play in the 49th minute from a penalty corner drag by Luke Taylor, though there was a question mark over whether the ball had left the circle on the push out.Murray equalised again for Ireland in the 56th minute with a close-range shot following a great run and pass by Shane O\\\\\\'Donoghue.A last-gasp penalty corner drag from O\\\\\\'Donoghue was well saved from George Pinner to keep the score at 2-2 and send the game into a shootout.Martin, Zachary Wallace and Adam Dixon were on target for England while Magee, Sothern, O\\\\\\'Donoghue converted for Ireland, but it was Daragh Walsh who netted the winning penalty.</ns1:content>  </rdf:Description>  <rdf:Description rdf:about=\"http://example.org/article/Article_15\">    <ns1:category>10</ns1:category>    <ns1:content>(CNN)\"What is hockey?\"Pierre-Edouard Bellemare, at 16 years old, had to answer that question. Not existentially, but literally to the police officer in France who had stopped him.Unaware of the sport, the officer had pulled him aside, chastised him for carrying a weapon in public and then expressed incredulity when told it was an instrument of sport.\"Our sport magazine we had when I was a kid,\" Bellemare says, \"I remember it was always one time a year, a sentence at the end, the last page, that team won the cup. That was it. So not really a popular sport.\"France, a country better known perhaps for its soccer, cycling and basketball, didn\\\\\\'t place a high priority on hockey and the sport was foreign to Bellemare until a sudden inspiration to take it up struck his sister.\"My big sister ... somehow she wanted to start hockey. Why? I have no idea why, where she heard of it, but so my big brother and I were like, \\\\\\'if she plays hockey, we want to also.\\\\\\'\"Financial limitations prevented the trio from truly diving into the sport at first, but a coach recognized the talent that Bellemare and his brother had and invited them back the next week to put them through training.\"We came back, and we did a bunch of drills that put us on our asses, like weird drills,\" he laughs.\"But we had a blast, and after that, the coach went to my mom and was like, \\\\\\'hockey or figure skating, choose one, but they shouldn\\\\\\'t go and play soccer.\\\\\\'\"For me, I was always a kid who wanted to do something different.\"A Canadian or American, he notes, might have turned their sights on the NHL, but for a fledgling player in hockey-depleted France, his main goal became the Olympics.\"I could never see the NHL [games]; there was no internet, no cable, it was purely the Olympics and you had to fight to see the games.\"Undeterred from his dream, but realistic about the prospects of playing professionally, Bellemare earned an education alongside his pursuit of a hockey career, a backup plan in case, in his words, he \"broke his leg one day.\"\"When I was 21, I got my degrees, and it was a decision to make if I stay at the university or if I go to Sweden.\"It was really close that I stopped hockey to go to school because, I mean, how much can you live out of hockey? You\\\\\\'re French right? And you hear that your entire life.\"That\\\\\\'s when I realized hockey is a job and you work, and not just working at the rink, it\\\\\\'s the way you eat, the way you drink.\"That\\\\\\'s when I realized, alright, this is going to be something I\\\\\\'m going to do for a living.\"Since those early days of running wild on the ice with his siblings, Bellemare has achieved incredible accomplishments: getting signed by the Philadelphia Flyers after a stint in Sweden, playing in the Stanley Cup Finals as part of the Vegas Golden Knights and representing his native France at multiple World Championships.Bellemare\\\\\\'s unlikely hockey journey is far from complete -- another goal still awaits.\"I still haven\\\\\\'t played in the Olympics,\" he said. \"And it\\\\\\'s still my biggest dream technically to be able to represent my nation.\"</ns1:content>    <ns1:author>Perry Kostidakis</ns1:author>    <ns1:title>What is hockey?\\\\\\' Pierre-Edouard Bellemare\\\\\\'s unlikely journey to the NHL</ns1:title>    <ns1:newspaper>CNN News</ns1:newspaper>    <ns1:time>30-Oct-18</ns1:time>  </rdf:Description>  <rdf:Description rdf:about=\"http://example.org/article/Article_16\">    <ns1:newspaper>BBC News</ns1:newspaper>    <ns1:title>Four Nations: Ireland in back-to-back Dutch defeats</ns1:title>    <ns1:category>10</ns1:category>    <ns1:author>Unknown</ns1:author>    <ns1:content>Ireland will finish their Four Nations campaign with a fourth place play-off against England after a heavy 5-2 defeat by the Netherlands in Valencia.Mink van der Weerden, was once again Ireland\\\\\\'s chief tormentor as he scored a hat-trick to send the Dutch through to Sunday\\\\\\'s final against Spain.Mitch Darling and Alan Sothern gave Ireland an early two-goal lead before the top seeds fought back.Terrance Pieters and Jereon Hertzberger were the other Dutch goal scorers.Darling\\\\\\'s diving goal put Ireland ahead in the 13th minute and Sothern extended their lead in the opening minute of the second quarter.Van der Weerden, who scored twice for the Dutch in their 7-1 win in the group stages, sparked the fight-back just before half time with a powerful drag flick and the penalty corner specialist scored two more in the third quarter to push his side into the lead.Chris Cargo\\\\\\'s final-qaurter yellow card proved costly as Pieters and Hertzberger both scored in the final three minutes while Ireland were down to 10 men.The Netherlands will now play the tournament hosts in Sunday\\\\\\'s final while Ireland and England will meet in a repeat of their opening match of the week.</ns1:content>    <ns1:time>3-Nov-18</ns1:time>  </rdf:Description>  <rdf:Description rdf:about=\"http://example.org/article/Article_3\">    <ns1:title>Kodak sale of flexographic packaging business</ns1:title>    <ns1:time>12-Nov-18</ns1:time>    <ns1:newspaper>CNN News</ns1:newspaper>    <ns1:content>Eastman Kodak Co.\\\\\\'s shares KODK, +18.45% soared 13% in premarket trade Monday, after the company said it has reached a deal to sell its Flexographic Packaging division to Montagu Private Equity LLP for $390 million in proceeds. The business will be run as a new standalone company on closing and will develop, manufacture and sell flexographic product, including its flagship Kodak Flexcel NX System to the packing print market. Flexography is a printing process that uses a flexible relief plate, similar to a letterpress that can be used on most materials. The deal is expected to close in the first half of 2019. Kodak is planning to use the proceeds to reduce debt. Kodak said it will continue to serve the print industry by focusing on enterprise inkjet, workflow software and brand licensing. Shares have fallen 0.3% in 2018 through Friday, while the S&amp;P 500 SPX, -1.97% has gained 4%.</ns1:content>    <ns1:category>6</ns1:category>    <ns1:author>Ciara Linnane</ns1:author>  </rdf:Description>  <rdf:Description rdf:about=\"http://example.org/article/Article_5\">    <ns1:author>Leo Kelion</ns1:author>    <ns1:time>12-Nov-18</ns1:time>    <ns1:category>6</ns1:category>    <ns1:content>\"Flash sales\" publicising a Chinese smartphone company\\\\\\'s UK launch have sparked a backlash on social media.Xiaomi advertised two of its new handsets for $1 each last week as part of a \"crazy deals\" promotion.But it has emerged that each flash sale involved only two or three phones and Xiaomi had set its website to say: \"Sold out,\" as soon as the sale opened.The UK\\\\\\'s ads watchdog said it had received a complaint and was now deciding whether to investigate.Xiaomi said it hoped customers would not be discouraged from taking part in future campaigns.</ns1:content>    <ns1:newspaper>BBC News</ns1:newspaper>    <ns1:title>Xiaomi criticised for UK smartphone $1 flash sale</ns1:title>  </rdf:Description>  <rdf:Description rdf:about=\"http://example.org/article/Article_0\">    <ns1:title>Windows 10 release</ns1:title>    <ns1:time>12-Nov-18</ns1:time>    <ns1:author>Unknown</ns1:author>    <ns1:newspaper>BBC News</ns1:newspaper>    <ns1:content>The much delayed Windows 10 October 2018 update may be hitting our PCs as soon as tomorrow, which is this month\\\\\\'s Patch Tuesday.The rumour is via website rg-adguard.net, who has a tool for downloading Windows 10 ISOs.  They have noticed activity on Microsoft\\\\\\'s servers which suggest Microsoft is preparing to release the software update.</ns1:content>    <ns1:category>2</ns1:category>  </rdf:Description>  <rdf:Description rdf:about=\"http://example.org/article/Article_13\">    <ns1:author>Unknown</ns1:author>    <ns1:category>9</ns1:category>    <ns1:title>Robinson Cano: $240m baseball star banned for 80 games for failed drugs test</ns1:title>    <ns1:content>Baseball star Robinson Cano has been banned for 80 games after testing positive for the banned diuretic Furosemide.The Seattle Mariners second baseman, one of baseball\\\\\\'s highest paid players, has accepted the punishment, his team said.The 35-year-old, who is halfway through a 10-year $240 million contract, said he took the drug on a visit to his native Dominican Republic.\"He made a mistake,\" the Mariners said.Cano is an eight-time MLB All-Star with 305 career home runs and more than 2,400 hits.He won the 2009 World Series with the New York Yankees.\"We were disappointed to learn today that Robinson had violated the terms of Major League Baseball\\\\\\'s Joint Drug Prevention and Treatment Program,\" the Mariners said. \"Our organisation fully supports the programme.\"He has explained to us what happened, accepted the punishment and has apologised to the fans, the organisation and his teammates. We will support Robinson as he works through this challenge.\"Diuretics can be used as a masking agent to hide the presence of performance-enhancing drugs or to assist rapid weight loss.\"While I did not realise at the time that I was given a medication that was banned, I obviously now wish that I had been more careful,\" Cano said in the statement.\"I would never do anything to cheat the rules of the game that I love.\"</ns1:content>    <ns1:time>15-May-18</ns1:time>    <ns1:newspaper>BBC News</ns1:newspaper>  </rdf:Description>  <rdf:Description rdf:about=\"http://example.org/article/Article_19\">    <ns1:content>Washington (CNN)The percentage of Christian voters who cast ballots this year was down compared to other recent midterms, while the percentage of voters who identify as religiously unaffiliated was up.This year\\\\\\'s election was the first midterm in more than a decade that Christians other than Catholics -- Protestants and \"other Christians\" -- made up less than half of all voters, according to exit poll data analyzed by Pew.In 2006, 55% of Americans who voted in US House races were Protestant or other Christian. This year, that figure has fallen to 47%. Another 26% identified as Catholic.In the same time period, the percentage of religiously unaffiliated voters -- voters who identify as atheist, agnostic, or as not having a religion -- has risen from 11% to 17%.This trend mirrors the rise of religiously unaffiliated in the country. The number of Americans who identified as not having a religion rose to 55.8 million in 2015, an increase of more than 19 million in eight years, Pew data found. It also has an effect at the ballot box.Protestants and other Christians have voted Republican in midterms more than other religious groups over the past 12 years, Pew\\\\\\'s survey shows, and that trend continued in 2018. According to CNN\\\\\\'s exit poll, 56% of Protestants and other Christians voted Republican in House races. Among the other religious groups polled -- Catholic, Jewish, other and no religion -- at least half voted for Democrats. The 2018 exit poll found 42% of Protestants and other Christians voted for Democrats.Voters with \"no religion\" voted 70% for Democrats and 28% for Republicans.Both Democrats and Republicans have been their percentage of religiously unaffiliated party members rise over the years, but Democrats have seen a larger increase, according to Pew. They made up 13% of Republicans and Republican leaners in 2017, compared to 33% of Democrats and Democratic leaners.About 70% of Americans identify as Christian, including Catholics, Protestants, and members of the Church of Jesus Christ of Latter-day Saints, also known as Mormon. The largest Christian group in the US is evangelicals, who made up about 25% of the population.</ns1:content>    <ns1:author>Hunter Schwarz</ns1:author>    <ns1:title>How the religious makeup of the electorate changed in 2018</ns1:title>    <ns1:newspaper>CNN News</ns1:newspaper>    <ns1:time>8-Nov-18</ns1:time>    <ns1:category>15</ns1:category>  </rdf:Description>  <rdf:Description rdf:about=\"http://example.org/article/Article_26\">    <ns1:newspaper>CNN News</ns1:newspaper>    <ns1:title>Barrage of rockets launched at Israel following botched Gaza operation</ns1:title>    <ns1:time>13-Nov-18</ns1:time>    <ns1:content>Sderot, Israel (CNN)A barrage of more than 300 rockets was launched from Gaza toward Israel on Monday, the Israeli army said, hours after a botched Israeli operation in Gaza left a Hamas commander and an Israeli soldier dead.Eleven people in Israel were injured by the rocket fire, prompting retaliatory ground and airstrikes by the Israeli military that left at least three Palestinians in Gaza dead, the Palestinian health ministry said.One man in Israel was seriously wounded after a bus close to the Gaza fence was hit by an anti-tank missile, according to ZAKA, a volunteer emergency response service. Ten other people were hurt when rockets landed in the Israeli town of Sderot, according to Israeli emergency services.Israeli TV showed video of multiple rocket launches from the coastal enclave, which has been controlled by the militant group Hamas for more than a decade.The Israeli army said about 60 rockets were intercepted by the Israel Defense Force\\\\\\'s Iron Dome aerial defense system, with many other rockets falling on open ground. Sirens continued to sound in Israeli communities close to the Gaza fence on Monday evening, indicating further incoming rocket fire.The Israeli military said it had struck more than 20 targets in Gaza from the ground and the air over the last couple of hours.One of those targets was the al-Aqsa TV channel, which is run by Hamas. Israel destroyed al-Aqsa\\\\\\'s main building in a strike late Monday night after carrying out a \"door knock,\" CNN producers said. A door knock is a nonexplosive device designed as a warning to those inside to evacuate.It was unclear whether there were any casualties in the airstrike, and, a short time later, al-Aqsa was broadcasting from a different location.Hamas had warned that attacking the channel would be a violation of international law. Hamas\\\\\\' Government Media Center said the channel\\\\\\'s destruction \"requires a clear response from all international institutions that are interested in the freedom of speech.\"Israel has long accused the channel of spreading misinformation and inciting Palestinians to attack Israelis.The violence comes a day after an Israeli special forces operation in Gaza ended in an exchange of fire with militants from Hamas\\\\\\' armed wing, the Qassam Brigades. One Israeli soldier and seven Palestinians were killed, among them a senior Hamas military commander.The Israeli army would not give details of the operation, but IDF spokesman Ronen Manelis defended it in an interview in Israeli Radio.\"We are talking about an operation that was well-planned right down to the smallest of details. It is the sort of thing that takes place every night, and in most instances remains under the media\\\\\\'s radar,\" Manelis said.On this occasion, the soldiers had found themselves in a \"very complicated situation,\" Manelis added.The IDF identified the dead Israeli soldier only as Lt. Col. M. Another Israeli officer was wounded.Hamas identified its commander killed as Nour Baraka of the Qassam Brigades.Hamas issued a warning to Israel on Monday that if the IDF responded with what Hamas called \"excessive aggression\" after Monday\\\\\\'s rocket attacks from Gaza, the response from Hamas would be to \"increase the depth and intensity\" of its shelling of Israel.The statement from the Qassam Brigades made clear that Hamas sees Monday\\\\\\'s rocket attacks on Israel as a response to the IDF operation inside Gaza on Sunday evening, which the statement described as a \"heinous crime.\"So far, Monday\\\\\\'s rocket attacks have all been short-range, with the farthest hitting the town of Ashkelon about 6 miles (10 kilometers) away from Gaza.By threatening to \"increase the depth\" of its attacks, Hamas was signaling that it could launch rockets towards Tel Aviv, about 43 miles (70 kilometers) away, or Jerusalem, almost 50 miles (80 kilometers) away, which would be seen by Israel as a significant escalation.Israeli Prime Minister Benjamin Netanyahu met Monday with his Defense Minister Avigdor Liberman and other senior officials at the Ministry of Defense headquarters in Tel Aviv in the wake of the escalation of violence in and around Gaza.Calling the escalation \"EXTREMELY dangerous and reckless\" in a Twitter post on Monday, United Nations Special Coordinator for the Middle East Peace Process Nickolay Mladenov said the UN was working with Egypt to try to achieve a cessation of hostilities. Mladenov called on both Israeli forces and militants in Gaza to show restraint.During previous escalations over the past few months, the UN and Egypt have often stepped in to put in place short-term ceasefires between Israel and Gaza.Oren Liebermann and Michael Schwartz reported from Sderot. Ibrahim Dahman and Ameera Harouda reported from Gaza City. Andrew Carey, Amir Tal and Abeer Salman reported from Jerusalem. Eliza Mackintosh wrote from New York.</ns1:content>    <ns1:author>Oren Liebermann, Andrew Carey, Ibrahim Dahman, Eliza Mackintosh</ns1:author>    <ns1:category>17</ns1:category>  </rdf:Description>  <rdf:Description rdf:about=\"http://example.org/article/Article_29\">    <ns1:title>Political frenemies: Readers react to poll about party divisions among friends</ns1:title>    <ns1:author>Saba Hamedy</ns1:author>    <ns1:category>18</ns1:category>    <ns1:content>Washington (CNN)Reporter\\\\\\'s note: These reactions were gathered by email from readers asked to comment in CNN\\\\\\'s \"The Point\" newsletter with Chris Cillizza.A new survey from the Pew Research Center released on Thursday shows a majority of both Republicans and Democrats say they have \"just a few\" or no friends in the opposing party.But when asked by CNN, some readers said they prefer to skip talking about politics to avoid arguments about politics. So how do those few people balance being friends with someone from the other side of the aisle? Some, it seems, choose to stick their heads in the sand.\"I have several friends with different political views,\" Raymond B. Firehock, of Virginia, told CNN in an email. \"We remain friends by not discussing politics. ... I find Republicans (here meaning those who support or tolerate Trump) to be so delusional as to be dangerous, and so impervious to the demands of reality as to be clinically insane. In the words of Philip K. Dick: \\\\\\'reality is that which when you stop believing in it, doesn\\\\\\'t go away.\"Firehock is not alone.\"Yes, I do have friends of a different political bent than me,\" Kim Hemphill told CNN in an email. \"Why? Usually because I was friends with them long before we ever even discussed our political leanings and I\\\\\\'m not about to reject them as friends now just because they don\\\\\\'t agree with my politic philosophy. I will say though that I avoid talking politics with those friends as much as possible now. Why spoil the relationship?\"The Pew survey found almost two in three Democrats (64%) and more than half of Republicans (55%) say they have \"just a few\" close friends, or \"none,\" who are Republicans or Democrats, respectively. \"Republicans and Democrats both say their friend networks and predominantly made up of people who are like-minded politically,\" the report says.But some, like Archit Kalra, prefer being friends with people of diverse opinions.\"I choose to have friends from different sections of the political spectrum as I am intrigued by how various individuals with contrasting political affiliations express their ideas and what their beliefs are,\" the Florida resident said in an email to CNN. \"By mingling with people from different political parties, I gain a plethora of knowledge about their views on certain issues and am given the opportunity to debate with them on these issues.\"Others, like Lucy Horton, of Pennsylvania, are selective about who they share their political beliefs with.\"We have some acquaintances whose beliefs are not known,\" Horton wrote in an email. \"We might go out to dinner, but that can be a superficial situation. With our close friends, we share a set of beliefs, which make us comfortable and relaxed. Having to hold one\\\\\\'s tongue is not conducive to a great social experience. My husband and I have deep convictions which go to the core of who we are, so sharing a set of beliefs is key component in our close friendships. I imagine this is true of most people.\"As for relatives? Horton said: \"That\\\\\\'s always the wild card.\"CNN\\\\\\'s Ryan Struyk contributed to this report.</ns1:content>    <ns1:newspaper>CNN News</ns1:newspaper>    <ns1:time>6-Oct-17</ns1:time>  </rdf:Description>  <rdf:Description rdf:about=\"http://example.org/article/Article_12\">    <ns1:author>Unknown</ns1:author>    <ns1:title>Welington Castillo: Chicago White Sox catcher banned for 80 games over failed drugs test</ns1:title>    <ns1:category>9</ns1:category>    <ns1:content>Welington Castillo has become the second Major League Baseball player in just over a week to be banned for 80 games because of a positive drugs test.The Chicago White Sox catcher, 31, was found to have taken the banned performance-enhancing substance Erythropoietin (EPO).Dominican Castillo will be eligible to return in late August.Seattle Mariners star Robinson Cano got the same ban last week after testing positive for the diuretic Furosemide.\"The positive test resulted from an extremely poor decision that I, and I alone, made,\" Castillo said.\"I take full responsibility for my conduct. I have let many people down, including my family, my team-mates, the White Sox organisation and its fans and from my heart I apologise.\"Castillo is in his ninth major league campaign, having joined the Chicago Cubs in 2010.He also played for Seattle, Arizona and Baltimore before signing a two-year deal with the White Sox in December.The White Sox are last in the American League Central division and have the second-worst record in Major League Baseball at 15-31.</ns1:content>    <ns1:newspaper>BBC News</ns1:newspaper>    <ns1:time>24-May-18</ns1:time>  </rdf:Description>  <rdf:Description rdf:about=\"http://example.org/article/Article_8\">    <ns1:title>Meet the new, profitable, Tesla</ns1:title>    <ns1:category>7</ns1:category>    <ns1:author>Chris Isidore</ns1:author>    <ns1:content>New York (CNN Business)Over the last 10 years Tesla CEO Elon Musk has been promising Wall Street that his electric car company would eventually make money.Wednesday he finally made good on that promise. Shares closed up 9% Thursday after the company posted its best quarter ever the previous evening.The big question now is whether the company can remain profitable.Tesla\\\\\\'s strong report showed that overall manufacturing costs for each vehicle declined by 30%. The number hours it takes to build each car fell too.That was enough for skeptical Tesla analyst Garrett Nelson to change his tune.\"The results look to be sustainable going forward,\" the CFRA Research analyst said.Nelson upgraded his recommendation on the stock after the earnings report. He said he is now confident that Telsa will be able to continue to reduce its costs.Tesla\\\\\\'s (TSLA) stock had lost about a third of its value since hitting a record high of $385 a year ago.The stock has been dogged by concerns that the company couldn\\\\\\'t hit production targets, was burning through too much cash and was facing looming debt payments.Musk promised investors for months that the company would be profitable in the second half of 2018, but Wall Street had become very skeptical.\"We had our doubts,\" Nelson said. \"This is a company that has a long history of overpromising and under delivering.\"Tesla\\\\\\'s profitability comes just in the nick of time because $1.7 billion in debt is due by November of next year.The company that was burning through funds reported that its cash reserves increased by $731 million during the quarter.Musk told analysts that going forward, his company will be adding to its cash reserves instead of burning through money to boost production.\"I said before that we must prove that Tesla can be sustainably profitable,\" he told analysts Wednesday. \"This quarter was an important step towards that and I\\\\\\'m incredibly excited about what lies ahead.\"Gene Munster, a leading tech analyst with Loup Ventures, said its good to see the focus return to Tesla\\\\\\'s business and not on Musk\\\\\\'s erratic behavior.In August, Musk tweeted a plan to take the company private, only to drop the plan less than three weeks later. The Securities and Exchange Commission fined him $20 million and required him to give up the chairman post because of a false statement that he had \"funding secured\" for such a move when he did not.Musk also drank alcohol and smoked pot on a podcast, maligned a man who helped in the rescue of a Thai soccer team trapped in a cave, and lambasted analysts on a conference call.The behavior spooked many investors, and Munster said he\\\\\\'s not sure the great quarter will be enough by itself to convince everyone that the company is a safe investment.\"I think it was the important step they\\\\\\'ve taken, but we\\\\\\'re not out of the woods yet,\" Munster said.Morgan Stanley auto analyst Adam Jonas, who still has a neutral rating on the stock, said that he and other investors will want to see Tesla repeat this performance in the fourth quarter and beyond before the stock can regain some of the ground it lost in the last year.But even one of Tesla\\\\\\'s harsher critics has said he expects that Tesla\\\\\\'s stock will now start to regain lost ground. John Thompson CEO of hedge fund Vilas Capital Management, said he has now closed his short positions which bet on a continued decline in the price of the stock.\"My estimates of their demise have been greatly exaggerated,\" he said. \"In the long run it doesn\\\\\\'t change anything. But in the short run they\\\\\\'ve pulled the rabbit out the hat.\"</ns1:content>    <ns1:newspaper>CNN News</ns1:newspaper>    <ns1:time>26-Oct-18</ns1:time>  </rdf:Description>  <rdf:Description rdf:about=\"http://example.org/article/Article_22\">    <ns1:newspaper>CNN News</ns1:newspaper>    <ns1:title>11-year-old fatally shot grandmother then himself, grandfather tells police</ns1:title>    <ns1:content>(CNN)An 11-year-old boy shot and killed his grandmother before turning the gun on himself Saturday, the boy\\\\\\'s grandfather told police in Arizona.The Litchfield Park man told detectives that he and his 65-year-old wife \"asked their grandson to clean his room and pick up after himself throughout the day, as he was being stubborn about it,\" Maricopa County Sheriff\\\\\\'s Office spokesman Joaquin Enriquez said in a statement Sunday.The couple then sat down on their living room couch to watch television, the grandfather told investigators.\"While doing so, the grandson came up behind them and shot (the grandmother) in the back of the head, with a handgun which belonged to the grandfather,\" Enriquez said.The man told police that he ran after his grandson, but then returned to help his wife. He told detectives he heard another gunshot seconds later and saw his grandson take a few steps before collapsing from a self-inflicted wound.The grandfather told sheriff\\\\\\'s office investigators that he retrieved his gun and then called 911.He told detectives that he and his wife had full custody of their grandson, the Maricopa County Sheriff\\\\\\'s Office said.\\\\\\'Nice family\\\\\\'\"In the preliminary stages of this investigation there had been no previous signs that the grandson might harm someone or himself and there was no cause for concern prior to this event,\" Enriquez said. \"This is open ongoing investigation.\"Neighbors told CNN affiliate KTVK that the family had been friendly.\"Nice family. I knew the kid. I mean, he would ride his bicycle around, play around the neighborhood,\" Walter Venerable said. \"It really hasn\\\\\\'t set in just yet. I mean this is a nice neighborhood, it\\\\\\'s really quiet -- as you can see -- it\\\\\\'s just a tragic, tragic thing.\"Another neighbor, Danny Dillon told KTVK that nearby residents had stood outside and prayed.\"It\\\\\\'s just hard. You can\\\\\\'t get your mind around it, you just can\\\\\\'t,\" he said. \"You have that neighborly connection but your heart just wishes that you had more and you could\\\\\\'ve done more, you could\\\\\\'ve seen something or said something.\"</ns1:content>    <ns1:time>November 6 2018</ns1:time>    <ns1:category>16</ns1:category>    <ns1:author>Susannah Cullinane, Chuck Johnston</ns1:author>  </rdf:Description>  <rdf:Description rdf:about=\"http://example.org/article/Article_21\">    <ns1:content>(CNN)en the thunder of gunfire broke through the revelry of a country music dance hall packed with young people kicking back on \"college night,\" Thousand Oaks, California, added its name to a dark roster: The site of the 307th mass shooting in the U.S. this year.The Borderline Bar &amp; Grill was packed as patrons danced, watched a Lakers\\\\\\' game or played pool. It was country college night, and people swayed to the beat as music blared through speakers.Suddenly, a man wearing a black trench coat and glasses approached the bar entrance and shot the security guard.Inside the bar, some people thought it was fireworks or sound effects from the music, and kept dancing, witnesses said.Within seconds, witnesses said, the gunman burst into the bar with a Glock .45-caliber handgun and shot someone at the cash register. People dropped to the ground and hid under pool tables and bar stools. Some piled atop one another while others slammed bar stools against windows to break them.Those who got out ran, the rapid gunfire echoing around them in the dark.\"They ran out of back doors, they broke windows, they went through windows, they hid up in the attic, they hid in the bathroom,\" Ventura County Sheriff Geoff Dean said.By the time the gun went silent, 12 people were dead, including sheriff\\\\\\'s Sgt. Ron Helus.Thousand Oaks, California, described as one of the nation\\\\\\'s safest cities, was now on the long list of places affected by a mass shooting.With every gunshot, they shiveredThe bar is a popular meeting spot among students from nearby universities, some of whom don cowboy hats and boots on theme nights such as Wednesday\\\\\\'s. When the gunfire erupted shortly after 11 p.m., it was packed with young people, including a group celebrating a birthday.Sunny Leon was at the back of the dance floor, and initially thought it was fireworks or part of the song. \"It sounded really weird,\" she said.When the sounds grew louder and closer, people started screaming. She dropped to the ground and crawled closer to the bar.\"I remember when I was on the ground, seeing a girl getting trampled,\" she said. \"Because I was against the wall, I was OK. But she was getting trampled.\"Tristan Appleby said he watched everything unfold from across the room. He saw a man dressed in black holding a gun with a flashlight and repeatedly shooting people laying on the ground.\"Luckily, he didn\\\\\\'t come my way,\" Appleby said. \"I was across the room behind a pool table hiding underneath with my friends.\"Appleby said with every shot, the people lying underneath him shivered and squirmed. He kept his eye on the gunman, and when he paused to reload, Appleby whispered to others that it was time to rush to the exit.\"I said, \\\\\\'We go,\\\\\\' and we ran,\" he said. \"I don\\\\\\'t know how I survived because at any moment, I could have been shot.\"She followed her friend\\\\\\'s orders and livedSarah Rose Deson was at the club for her friend\\\\\\'s birthday. When the gunman burst in, her friend, Cody Coffman, yelled for her to get down.\"I fell to the floor and hid behind him and just tucked myself in his back,\" she said. There was \"a bunch of sparks and smoke everywhere,\" she said. Coffman soon told her it was time to get out.\"I don\\\\\\'t even remember in this blur, but I ran for my life,\" Deson said.She got out through the front entrance -- the same one the shooter had stormed through moments earlier. She tumbled down in the parking lot, got up and kept running until she got to a nearby gas station.She later learned Coffman, 22, had been killed.\"He\\\\\\'s one of the reasons that I\\\\\\'m here right now,\" she said. \"I didn\\\\\\'t know what to do. I just followed him, I dropped down and I hid with him. I know he was put in my life for a reason. He\\\\\\'ll always be my hero, and now he\\\\\\'s my angel.\"Deputies found a scene \\\\\\'like hell\\\\\\'When reports of the shooting started coming in to law enforcement about 11:20 p.m., Helus, the sheriff\\\\\\'s sergeant, was talking to his wife.He told her, \"\\\\\\'Hey, I have to handle a call. I love you. I\\\\\\'ll talk to you later,\\\\\\'\" Dean said.Within two minutes, he was on the scene. The gunman was still firing.Helus and a highway patrol officer rushed into the bar and exchanged gunfire with the shooter, Dean said.Helus was shot several times before an officer pulled him out and waited for reinforcements, he said.Police waited close to 15 minutes, until the shots died down, and regrouped with more officers, Dean said. They went into the bar and found the shooter -- Ian David Long, 28, a former US Marine, according to police -- had fatally shot himself next to the bar entrance.The scene was \"like hell\" when deputies arrived, Dean said. Police found patrons hiding in the attic. Some were so terrified, they asked officers to confirm they weren\\\\\\'t the gunman, he said.Outside the bar, frantic parents waited for word of their children. And survivors of the latest mass shooting in the US huddled together, tearfully embracing amid police cars\\\\\\' flashing lights.CNN\\\\\\'s David Allan and Jason Carroll contributed to this report.</ns1:content>    <ns1:author>Faith Karimi</ns1:author>    <ns1:title>How a night out turned into a night of horror at a bar in California</ns1:title>    <ns1:category>16</ns1:category>    <ns1:time>12-Nov-18</ns1:time>    <ns1:newspaper>CNN News</ns1:newspaper>  </rdf:Description>  <rdf:Description rdf:about=\"http://example.org/article/Article_4\">    <ns1:content>Hackers appear to have compromised and published private messages from at least 81,000 Facebook users\\\\\\' accounts.The perpetrators told the BBC Russian Service that they had details from a total of 120 million accounts, which they were attempting to sell, although there are reasons to be sceptical about that figure.Facebook said its security had not been compromised.And the data had probably been obtained through malicious browser extensions.</ns1:content>    <ns1:time>2-Nov-18</ns1:time>    <ns1:category>6</ns1:category>    <ns1:newspaper>BBC News</ns1:newspaper>    <ns1:title>Private messages from 81,000 hacked Facebook accounts for sale</ns1:title>    <ns1:author>Andrei Zakharov</ns1:author>  </rdf:Description>  <rdf:Description rdf:about=\"http://example.org/article/Article_18\">    <ns1:author>Unknown</ns1:author>    <ns1:time>12-Nov-18</ns1:time>    <ns1:newspaper>CNN News</ns1:newspaper>    <ns1:content>(CNN)Here\\\\\\'s a look at Lent, a season of prayer and penance in the Christian church and a period of preparation for the Easter season.Facts:March 6-April 18, 2019 - Lent (Western church)Ash Wednesday marks the first day of Lent in Western churches.The word Lent comes from the word Old English word lencten, meaning spring.In the Western church, Lent begins on Ash Wednesday, six and a half weeks before Easter, and ends on Holy Saturday.In the Eastern church, Lent begins on the Monday of the seventh week before Easter and ends on the Friday before Palm Sunday.Fasting and prayer are done in remembrance and reflection of Jesus Christ\\\\\\'s fasting in the wilderness.Lent lasts 40 days. Sundays are not counted.The observance of Lent dates back to the 4th century.5th-9th centuries - Strict fasting during Lent is customary. Meat and fish are forbidden, but one meal a day is allowed.Fasting still continues but is less strict now in the Western churches.Many people give up something during Lent, such as TV or other pleasurable activities.Engaging in acts of charity is another custom during Lent.</ns1:content>    <ns1:title>Lent Fast Facts</ns1:title>    <ns1:category>15</ns1:category>  </rdf:Description>  <rdf:Description rdf:about=\"http://example.org/article/Article_23\">    <ns1:author>By Rob Frehse, Steve Almasy</ns1:author>    <ns1:title>Police kill gunman who wounded four at municipal building in Pennsylvania</ns1:title>    <ns1:newspaper>CNN News</ns1:newspaper>    <ns1:content>(CNN)A gunman who opened fire Wednesday at a municipal building in a small Pennsylvania town was shot dead by a police officer responding to the incident in which four people were wounded, state police said.The gunman entered the Masontown Borough Municipal Center around 2 p.m. and began firing, Lt. Steve Dowlin of the Pennsylvania State Police told reporters.The four victims included a sergeant from the Masontown police department. Their injuries are not life-threatening, Dowlin said.The suspect had a restraining order against him related to a choking case that was to be heard Wednesday afternoon, Fayette County District Attorney Richard Bower said.The suspect had been charged with strangulation, aggravated assault, terroristic threats and simple assault as a result of a domestic matter several weeks ago, Bower added.Bower would not identify the man, saying his next of kin had yet to be notified of his death.The shooting occurred outside District Magistrate Daniel Shimshock\\\\\\'s office, authorities said.Shooter looked into courtroom, an attorney saysEric Randolph, an attorney who was in the courtroom, told CNN affiliate WTAE that he heard one pop and wondered what it was. Then he heard several more pops.The door flew open and people ran in yelling, \"Shooter, shooter.\"Seconds later a man with a gun entered the courtroom and swept his arm around until he pointed a gun at Randolph, the attorney said.\"It was the most intense, frightening sensation I\\\\\\'ve ever had in my life,\" he said.Randolph said he put his head in his hands and when he looked back up the shooter was gone.Door shot outVideo recorded by a helicopter for WTAE showed that one of the two glass front doors of the Masontown Borough Municipal Center had been shot out.Amy Johns, a spokeswoman for West Virginia University Ruby Memorial Hospital, said it had three patients from the shooting.They are a 47-year-old man, a 35-year-old man and a 39-year-old woman. All of them are in fair condition, she said.A spokesman for Uniontown Hospital said it received one person.\"The patient was treated and stabilized before being transferred to a Pittsburgh hospital,\" Josh Krysak said.Masontown is in southern Pennsylvania, about 55 miles from Pittsburgh and 20 miles north of Morgantown, West Virginia. The town has about 3,300 residents.CNN\\\\\\'s Kwegyirba Croffie contributed to this report.</ns1:content>    <ns1:time>19-Sep-18</ns1:time>    <ns1:category>16</ns1:category>  </rdf:Description>  <rdf:Description rdf:about=\"http://example.org/article/Article_11\">    <ns1:title>10 best motorcycle roads in the United States</ns1:title>    <ns1:author>Carla King</ns1:author>    <ns1:time>12-Jun-12</ns1:time>    <ns1:category>8</ns1:category>    <ns1:newspaper>CNN News</ns1:newspaper>    <ns1:content>(Lonely Planet) A great road is a great road, but if you\\\\\\'re riding a motorcycle, you\\\\\\'re looking for something special: twisties, vistas, turnouts, that perfect stretch of smooth tarmac, and biker-friendly stops that make getting there most of the fun.Here are Lonely Planet\\\\\\'s 10 best roads across America for an unforgettable motorcycle journey:1. Pacific Coast Highway (Hwy 1): 1700 miles from Astoria, Oregon, to San Juan Capistrano, CaliforniaThis undisputed champion of road trips presents beaches, cliffs, redwood forests, sleepy seaside towns, hot tub B&amp;Bs, and world-class dining along a ribbon of winding, undulating road that (between RVs) can provide thrilling sport riding and contented cruising. Stop at the frequent turnouts, and don\\\\\\'t miss wild Olympic Peninsula, rustic Big Sur, Hearst Castle, bikini-clad Malibu, or biker-friendly Seattle, San Francisco, and San Diego.2. Appalachian Mountains: 770 miles from Front Royal, Virginia, to Deal\\\\\\'s Gap, North CarolinaThis four-in-one magic mountain ride begins with Skyline Drive in Virginia, a 105-mile run along the ridge of the Shenandoah National Park, conveniently connected with the Blue Ridge Parkway for 469 miles of smooth roads and sweeping blacktop. Ride east to Tellico Plains along the Cherohala Skyway (Hwy 28) descending into Tennessee backcountry. Loop back via Hwys 360 and 72 to Deal\\\\\\'s Gap, and take on the internationally famous 11 mile Tail of the Dragon and whip through those 318 curves for some bragging rights.3. River Road, (FM 170): 120 miles from Terlingua to Candelaria, Big Bend, TexasFarm to Market 170 is all smooth heavenly pavement along the Rio Grande through the Big Bend\\\\\\'s Chihuahuan Desert ecosystem with its mountains, canyons, badlands, and stunted forests, and even grandma\\\\\\'s Buick can handle the 17 mile off-road loop through the Valley of the Gods. But if you\\\\\\'ve got a dual-sport, you\\\\\\'re going to be in heaven. Once it reopens (progressing well at the time of writing), you\\\\\\'ll be able to ride on a boat over the Rio Grande at the Boquillas Crossing for a short jaunt for lunch on the Mexican side of the border.4. Going to the Sun Road: 50 miles in Glacier National Park, MontanaBefore this two-hour, 50-mile ride over Logan Pass was completed, it took visitors several days to get through the park, which speaks of its height and contortions. Watch out for mountain goats and bighorn sheep, and pull over at the Jackson Glacier Overlook to take in the most spectacular scenery in the park.5. Beartooth Highway, (US 212): 68 Miles in Yellowstone National Park, WyomingSquiggle along for a couple of hours over the highest highway in the Northern Rockies as it twists and turns its way up to 10,947 feet at Beartooth Pass in Wyoming. Stop to take in views of glacier-laden peaks, alpine plateaus dotted with lakes, waterfalls, and lush forests in one of the most rugged areas in the lower 48 states.6. Highway 12: 124 miles between Bryce Canyon National Park and Capitol Reef National Park, UtahTake a psychedelic sunset ride into fantastical sandstone rock formations, canyons, deep blue lakes, and pine forests and all the curves you might expect. Swish along to the Grand Staircase-Escalante National Monument, Boulder Mountain, and Red Canyon in Dixie National Forest.7. Coastal Highway 1: 170 miles from Kittery to Bucksport, MaineDetours, not twisties, along Maine\\\\\\'s 3478 miles of coastline is the point here. The oldest highway on the east coast is dotted with over 60 lighthouses, countless cute towns, antique shops, lobster shacks, and almost 50 peninsulas to explore. The highway connects with many other scenic routes, including a ferry ride to Nova Scotia.8. Overseas Highway (Hwy 1), Florida, 100 miles from Key Largo to Key WestPut your sun screen on and cruise out onto a narrow stretch of road made of bridges atop a living reef in the turquoise Straits of Florida sandwiched between the Atlantic and the Gulf of Mexico. Join the margarita-saturated tourists in tropical paradise and enjoy the biker-friendly atmosphere. Salt air, sea food, and slow speed get you onto island time in no time flat.9. Route 66: 2200 miles from Chicago to Santa MonicaOn just about everybody\\\\\\'s bucket list is Route 66. Ride all 2200 miles of this history lesson smothered in kitsch, or just grab a slice or two, like the pies you\\\\\\'ll find in endless supply at the many biker-friendly stops between Chicago and Santa Monica.10. The Great River Road (Hwy 61): 2,552 miles from Itasca State Park, Minnesota to Jackson, LouisianaGRR 61 is a single route created in 1938 to highlight the 10 states bordering the great Mississippi River from its headwaters in Minnesota to its termination in Louisiana\\\\\\'s Cajun Country. Local riders from all 10 states flock to \\\\\\'their\" section of the road, whether it\\\\\\'s lined with meadows, cypress swamps, thick forests, limestone cliffs, or wildlife refuges. Industrial areas are easily avoided.Carla King is an adventure travel writer who specializes in riding cranky indigenous motorcycles around the world. She is author of the Motorcycle Misadventures series of books and live internet dispatches from the road. Wherever she is, you can always find her at CarlaKing.com.Originally published as \"The USA\\\\\\'s 10 best motorcycle roads\" 2012 Lonely Planet. All rights reserved.</ns1:content>  </rdf:Description>  <rdf:Description rdf:about=\"http://example.org/article/Article_1\">    <ns1:category>2</ns1:category>    <ns1:newspaper>BBC News</ns1:newspaper>    <ns1:title>Microsoft ends retail sales of Windows 7 and 8</ns1:title>    <ns1:time>3-Nov-14</ns1:time>    <ns1:author>Unknown</ns1:author>    <ns1:content>Microsoft has officially stopped selling retail copies of some versions of Windows 7 and 8.The date to stop selling the software was set some time ago and should help Microsoft move people on to more recent versions of its operating system.Separately, statistics suggest people are finally moving away from some very old versions of Windows.The next version of Windows, called Windows 10, is due to be released in late 2015.Old codeFrom 31 October, consumers could no longer buy copies of the Home Basic, Home Premium and Ultimate versions of Windows 7. Now, Windows 8 is also no longer available. The change affects both copies bought in shops or loaded on PCs and laptops.The current version of Windows, 8.1, will be the default version offered on PCs.The change will take time to feed through into the market, as many PC makers have large stocks of older versions of Windows and will continue to sell PCs running the software.Those keen to get a computer running Windows 7 will be able to \"downgrade\" from 8.1 to Windows 7 Professional but relatively few PC firms offer this option.Gordon Kelly, writing in Forbes, said the policy revealed \"Microsoft\\\\\\'s determination to distance itself from the original form of Windows 8\" despite it being released just over two years ago.The original version of Windows 8 did not prove popular because it did away with some familiar elements of the desktop version of the operating system.By contrast, he said, Windows 7 has been available since late 2009 and is still very popular among users. About 53% of Windows users are on the various editions of Version 7 of Windows, he said. The more recently released Windows 8 has only grabbed a 6% market share and has already been surpassed by 8.1, said Mr Kelly.The change will also clear the path for the arrival of Windows 10, he added.Separately, market analysis reveals that the numbers of people using the venerable Windows XP operating system has suddenly seen a sharp decline. Data from Netmarketshare suggests that in October this year its share dropped from almost 24% to just over 17%. It is not yet clear what was behind the fall.</ns1:content>  </rdf:Description>  <rdf:Description rdf:about=\"http://example.org/article/Article_14\">    <ns1:newspaper>BBC News</ns1:newspaper>    <ns1:author>Haruka Tsuboi</ns1:author>    <ns1:content>The hype surrounding baseball sensation Shohei Ohtani, arguably one of Japan\\\\\\'s most promising young athletes for generations, has been building for years.Last week saw his first big test in the North American Major League (MLB) and he more than lived up to it.Before he even went to the Los Angeles Angels, Ohtani had been called \"the greatest thing to happen to baseball in a century\" and a \"modern day Babe Ruth\".The headlines coming out of the US following a game on Sunday night show that even the US media are beginning to come on board, with talk of an \"unreal\" start, an \"insane\" achievement and some conjecture that \"Shohei Ohtani is very clearly not from this planet\".Ohtani is a rare example in baseball of a top class all-rounder. Able to both bat and pitch, he\\\\\\'s called a two-wayer.So what has he actually achieved? Well, it was more than Babe Ruth did in his first two weeks, that\\\\\\'s for sure - but here are some highlights:Ohtani is only the third player in history to get two pitching wins and three home runs in the first 10 games for his teamPitching his second game, he forced 12 strikeouts, equalling an American League record for a pitcher in one of his first two gamesHe is only the third player ever to hit a home run in three consecutive games and pitch a game with more than 10 strikeouts in the same season. One of the others was Babe RuthJapan has the second biggest baseball league outside the US, so it is no surprise that it has produced a player of this calibre. Ohtani\\\\\\'s family background also counts.According to one report that tracked the nascent career of the young athlete, his father, Toru, was an avid player and encouraged his children to play catch when he\\\\\\'d return home from the Mitsubishi plant where he worked.In his high school in northern Iwate prefecture, Ohtani threw the fastest pitch ever recorded by a Japanese high school pitcher, at 160 km/h (99 mph).When Japanese horror meets baseballHe initially wanted to enter the MLB directly from high school rather play in Japan\\\\\\'s professional league. But Hokkaido Nippon-Ham Fighters won out in the end, after lengthy negotiations.Their final presentation to the young player was called: \"Shohei Ohtani: The Way to Dream\" and set out the plan to make him a two-wayer.He had his fair share of record-setting in Japan, becoming in 2014 the first player to both remove 10 batters and record 10 or more home runs in a season. Nobody has broken that record.Now the player, seen in Japan as a quiet but effective presence on the pitch, is proving his mettle on American soil.If US sports commentators have been left rubbing their eyes in disbelief - after all Ohtani had not performed well in spring training - the Japanese public has also been euphoric.The well-known Japanese manga artist Tsunomaru, tweeted: \"No, No Ohtani. My editor will not accept such a great story. It should be more realistic.\"Another Twitter user said \"we are witnessing a kind of myth\", while another said the \"MLB has been given a harsh lesson by Ohtani\".The Japanese media have been no less enthusiastic, calling his first two weeks in the Major League an example of \"shockingly perfect pitching\" and noting how US media had been left stunned.Both sides of the Pacific are watching to see if he can do more.</ns1:content>    <ns1:title>Japan\\\\\\'s baseball star Shohei Ohtani draws Babe Ruth comparisons</ns1:title>    <ns1:time>9-Apr-18</ns1:time>    <ns1:category>9</ns1:category>  </rdf:Description>  <rdf:Description rdf:about=\"http://example.org/article/Article_24\">    <ns1:author>Gabriel Chaim, Nick Paton Walsh, Salma Abdelaziz, Waffa Munayyer</ns1:author>    <ns1:title>Syrian Kurds resume push to rid ISIS from last pockets of Syria</ns1:title>    <ns1:time>13-Nov-18</ns1:time>    <ns1:content>Sousa, Syria (CNN)Syrian Kurdish forces are resuming the final phase of operations against ISIS, as the terrorist group is pushed back into its last remaining slivers of territory.The resumption comes as CNN releases remarkable and rare frontline footage of the recent intense fight against ISIS, filmed by Brazilian photographer Gabriel Chaim.The latest Kurdish push against ISIS follows a lengthy and contentious stand-off with Turkish forces. Turkey, a NATO member, considers the Syrian Kurds -- the US coalition\\\\\\'s main ally in the fight against ISIS -- a terrorist group.Clashes between the Turkish military and the Syrian Kurds -- also known as the SDF when allied with Syrian Arab fighters against ISIS -- have intermittently plagued and delayed the final operations against ISIS. The most recent suspension occurred November 1, but operations restarted Sunday, the SDF said in a statement.The SDF said operations resumed after \"positive calls from our allies to de-escalate and focus the efforts on defeating ISIS, as it would contribute to the stabilization of the area and the benefit of all parties.\" The US has long been mediating between Ankara and the SDF to lessen tension to the point where the SDF can focus on ISIS.The past months of the operations, aiming to deny ISIS their last small towns and swathes of inhospitable desert along the Iraqi border and at the far eastern end of the Euphrates river valley in Syria, have been a slower and tougher fight than many expected. The main holdout fighters are thought to be die-hard foreigners and ISIS leadership, taking a last stand.Photographer Chaim joined the intense fight for the town of Sousa in late October, a period when the SDF fought tooth and nail to take its streets from ISIS. On October 23, four car bombs targeted SDF fighters, though the SDF said three attacks were stopped and the driver of the fourth was captured.Chaim saw the heavy use of mortars by ISIS to try to push the SDF back, and the intense close-range use of artillery and airstrikes to flush ISIS out of urban positions. At one point in the footage, an Apache attack helicopter hovers over an ISIS target before its cannons destroy it.He also witnessed the often young and poorly equipped nature of the militia leading this globally important fight. One apparently teenage fighter appears disorientated as he receives treatment following an explosion. Most medical care is done by the light of cellphones and involves just cleaning wounds with saline solution and applying rudimentary dressings.On October 28, shortly after Chaim left the frontlines, many of the advances were reversed when ISIS took advantage of a sandstorm and counter-attacked, killing dozens of SDF fighters. The fight remains intense, despite the broad perception that ISIS have been defeated in the area.Chaim also witnessed the difficulties the SDF face when they capture civilians fleeing ISIS-held areas. It is hard to weigh the immediate needs of the people against the possibility that they are ISIS sympathizers.As one fighter says: \"The biggest battle is going to be freeing the people from the ISIS way of thinking. They\\\\\\'ve been dragged here by ISIS from their former capital, Raqqa, but they still think ISIS will come back one day and give them a caliphate again.\"Gabriel Chaim reported from Sousa, Syria. Nick Paton Walsh and Salma Abdelaziz wrote from London and Waffa Munayyer reported from Atlanta.</ns1:content>    <ns1:newspaper>CNN News</ns1:newspaper>    <ns1:category>17</ns1:category>  </rdf:Description>  <rdf:Description rdf:about=\"http://example.org/article/Article_27\">    <ns1:content>(CNN)When Donald Trump ran for president, one of the core pillars of his pitch to the voting public was this: Political correctness is a cancer eating away at the body politic.\"We have to straighten out our country, we have to make our country great again, and we need energy and enthusiasm,\" Trump said during an appearance on \"Meet the Press\" in August 2015. \"And this political correctness is just absolutely killing us as a country. You can\\\\\\'t say anything. Anything you say today, they\\\\\\'ll find a reason why it\\\\\\'s not good.\"People responded -- big time. The idea that liberals and/or the elites had made it so that no one could say what they thought, for fear of being labeled intolerant or un-enlightened, was a powerful one in the very communities that Trump was appealing to: Whites watching the society and culture they had grown up with change faster and in ways that, in some cases, made them deeply uncomfortable. (Exit polls in 2016 showed Trump got 57% of the white vote, 8% of the black vote and 28% of the Hispanic vote).Like much of Trump\\\\\\'s appeal, there was a kernel of truth in it. Speech -- on places like college campuses, for example -- had been curtailed over recent years by usually liberal groups insisting offense and demanding \"trigger warnings\" in classes and quads. There was a frustration among many that having views that diverged from what liberals had decided was acceptable were being shouted down.The problem with Trump\\\\\\'s assault on political correctness is that he took it so far that he clearly emboldened not only those lurking in the shadows to bring their hate speech into the light of day, but also lowered the overall bar for what is considered acceptable discourse among politicians and other leaders in the country.The first piece of that equation -- the rise of hate speech -- has drawn most of the attention publicly because, well, that\\\\\\'s what these purveyors of intolerance want. From the murder of 11 Jews at a synagogue in Pittsburgh by a man who voiced anti-Semitic views in online forums to the white supremacist marches in Charlottesville, Virginia, that led to the death of a counter-protester named Heather Heyer, we\\\\\\'ve seen these abhorrent views on display more and more -- and often with disastrous consequences.The Anti-Defamation League has said that incidents of public anti-Semitism -- bomb threats, vandalism etc. -- surged by 57% in 2017. There were a total of 1,986 anti-Semitic incidents reported in the US in 2017; in 2016 that number was 1,267.A study by the Center for Hate &amp; Extremism at the University of California San Bernardino showed that in 2017 hate crimes reported to police in America\\\\\\'s 10 largest cities rose 12.5%. It was the the 4th consecutive year that number has increased, and it marked the highest total of hate crimes in more than a decade. (That\\\\\\'s a striking finding, given that the study also found a drop in overall crime in these same areas.)\"We are determined to take our country back,\" said former KKK grand wizard David Duke in 2017. \"We are going to fulfill the promises of Donald Trump. That\\\\\\'s what we believed in. That\\\\\\'s why we voted for Donald Trump, because he said he\\\\\\'s going to take our country back.\"(Trump initially claimed he didn\\\\\\'t know who Duke was during the 2016 campaign and therefore could not disavow him. He later said he did, in fact, disavow Duke\\\\\\'s stated support of his candidacy.)The second piece of what Trump\\\\\\'s war on political correctness has wrought gets less attention but may matter just as much to the long-term health and sustainability of our democracy: The way in which he has drastically dragged political dialogue into the gutter.In the last week, we\\\\\\'ve seen House Majority Leader Kevin McCarthy tweet (then delete) this: \"We cannot allow Soros, Steyer, and Bloomberg to BUY this election! Get out and vote Republican November 6th. #MAGA\" (Soros, Steyer and Bloomberg are all wealthy Jewish Americans.)We\\\\\\'ve seen Iowa Republican Rep. Steve King talk to a far-right Austrian party -- telling them that \"Western civilization is on the decline\" and asking: \"What does this diversity bring that we don\\\\\\'t already have?\"Earlier this year, the founders of the Women\\\\\\'s March on Washington faced scrutiny for a failure to distance themselves from the Nation of Islam\\\\\\'s Louis Farrakhan, a well documented anti-Semite who recently compared Jews to termites.Aside from the obvious appeals by politicians and other leaders to anti-Semitic sentiments, there is a whole other class of speech that has turned incivility into some sort of rallying cry for their respective party bases.Trump has called those who opposed Brett Kavanaugh\\\\\\'s ascension to the Supreme Court \"evil.\" He repeatedly attacks the mainstream media as \"the enemy of the people.\" During the 2016 campaign, he turned bullying and name-calling of his opponents into a political strategy -- embracing incivility as a way of sticking it to the status quo.Unfortunately, Democrats have followed suit -- most notably with former Attorney General Eric Holder telling an audience in Georgia of Democrats\\\\\\' political opponents, \"when they go low, we kick them.\"Hillary Clinton, too, has dabbled in that sort of fight-fire-with-fire rhetorical approach, telling CNN\\\\\\'s Christiane Amanpour:\"You cannot be civil with a political party that wants to destroy what you stand for, what you care about. That\\\\\\'s why I believe, if we are fortunate enough to win back the House and or the Senate, that\\\\\\'s when civility can start again. But until then, the only thing that the Republicans seem to recognize and respect is strength.\"Trump\\\\\\'s success has created a divide among Democrats that the 2020 campaign will suss out. On one side are those pushing the need to return to civility and politics as practiced before Trump. On the other are the likes of Holder and Michael Avenatti, who insist that the only way to beat Trump is to out-Trump him.It\\\\\\'s important to remember here that all of these incidents and comments are not created equal. While Republicans seize on Holder\\\\\\'s kick them when they are down moment, it\\\\\\'s absolutely wrong to see that on the same level of Trump blaming both sides for the violence in Charlottesville or proudly proclaiming that he is a nationalist to a cheering throng of supporters.But taken as a whole, they represent an erosion in what standards of speech and, more basically, how we treat and regard one another. Not all of this Donald Trump\\\\\\'s fault. The rise of social media -- and the weak policing of hate speech on those platforms -- has allowed people with intolerant views to connect with others who see world in a similarly twisted way, and to amplify those views.That said, there is no question that Trump opened a Pandora\\\\\\'s box when he began his assault on political correctness. And that, because it worked (and works) for him politically, he will continue to help lower the standards of political dialogue and provide further cover for the rise of hate speech in the mainstream.In short -- and sadly -- things aren\\\\\\'t likely to get much better anytime soon.</ns1:content>    <ns1:title>The dangerous consequences of Trump\\\\\\'s all-out assault on political correctness</ns1:title>    <ns1:author>Chris Cillizza</ns1:author>    <ns1:newspaper>CNN News</ns1:newspaper>    <ns1:category>18</ns1:category>    <ns1:time>30-Oct-18</ns1:time>  </rdf:Description>  <rdf:Description rdf:about=\"http://example.org/article/Article_6\">    <ns1:content>Tesla has named an Australian executive as its new chairman after Elon Musk was forced to give up the role.Robyn Denholm, the finance chief of Australian telecoms firm Telstra, takes over from the electric car maker\\\\\\'s founder, who remains chief executive.Mr Musk agreed to step down as chair last month to resolve claims of fraud brought by US financial regulators. The settlement requires Tesla to install an independent chairman, among other penalties.The announcement scotches reports that James Murdoch was the frontrunner for the job.Tesla has endured a difficult few months, following comments Mr Musk made on social media in early August suggesting he had \"funding secured\" for a deal to take Tesla private.</ns1:content>    <ns1:title>Tesla names Robyn Denholm as chair to replace Elon Musk</ns1:title>    <ns1:time>8-Nov-18</ns1:time>    <ns1:category>7</ns1:category>    <ns1:author>Unknown</ns1:author>    <ns1:newspaper>BBC News</ns1:newspaper>  </rdf:Description>  <rdf:Description rdf:about=\"http://example.org/article/Article_25\">    <ns1:category>17</ns1:category>    <ns1:time>5-Nov-18</ns1:time>    <ns1:author>Shirzad Bozorgmehr, Tamara Qiblawi</ns1:author>    <ns1:content>Tehran, Iran (CNN)Iranian President Hassan Rouhani vowed to defy US sanctions as penalties targeting the country\\\\\\'s oil-and-gas sector went into effect on Monday.The most biting round of sanctions since US President Donald Trump pulled out of the landmark 2015 deal to curtail Iran\\\\\\'s nuclear program came into force Monday. The move targets Iran\\\\\\'s oil-and-gas, shipbuilding, shipping and banking industries.Iran will \"proudly break the unjust sanctions,\" Rouhani said in public remarks during a cabinet meeting Monday. \"We must make the Americans understand in clear language that they cannot deal with us with force, pressure and sanctions.\"Last week, US Secretary of State Mike Pompeo announced that eight \"jurisdictions\" would receive temporary waivers from energy-related sanctions. Some of these are believed to be some of the largest recipients of Iranian oil exports, potentially curbing the effects of the sanctions.Japan, South Korea and India are widely expected to be given exemptions.Pompeo said countries are getting waivers \"only because they have demonstrated significant reductions in their crude oil, and cooperation on many other fronts,\" but Rouhani hailed the exemptions as a \"victory.\"\"The fact that the US has exempted eight countries from the sanctions after they threatened to bring Iran oil exports to zero, isn\\\\\\'t this a victory for us? And isn\\\\\\'t this a retreat for the United States?\" said Rouhani on Monday.\"The Islamic Republic of Iran can sell its oil and will sell its oil even if the eight countries had not been exempted from the sanctions,\" he added.Meanwhile, foreign ministry spokesman Bahram Qassemi said Monday that Iran had devised policies to \"nullify the sanctions.\"\"Trump\\\\\\'s policies will not work. We will pass this stage very soon,\" said Qassemi, calling the sanctions \"an addiction of the United States.\"Monday\\\\\\'s sanctions are the second round of reimposed penalties since Trump pulled out of the nuclear deal in May. In August, a round of sanctions targeted Iran\\\\\\'s aviation and automotive industries.The US withdrawal from the pact spurred an exodus of international companies from Iran, including European giants Total and Airbus. The value of Iran\\\\\\'s rial plummeted by around 70%, and inflation has spiraled.As Iranians braced for the new round of sanctions, Tehran\\\\\\'s streets have been charged with anger and despair. Government-organized demonstrations in the center of the capital have struck a defiant tone against Trump\\\\\\'s policies.People privately worry that there appears to be no end in sight, fearing that sanctions may cause shortages of food and medicine, as well increasing youth unemployment, which is currently estimated to be around 40%.China, which is a signatory to the nuclear agreement, said it \"regrets the decision\" in a daily briefing at the Foreign Affairs Ministry.Ministry of Foreign Affairs spokesperson Hu Chunying went on to criticize the unilateral sanctions and \"long arm jurisdiction.\"\"Iran has strictly fulfilled its obligations in the nuclear area in accordance with the Comprehensive Plan so far,\" said Chunying, referring to the Joint Comprehensive Plan of Action, the Iran nuclear deal.\"The International Atomic Energy Agency has confirmed it for 12 consecutive times. China appreciates the efforts of Iran,\" he added. The US State Department has also certified several times that Iran was sticking to its end of the deal -- halting nuclear enrichment -- in exchange for sanctions relief.</ns1:content>    <ns1:newspaper>CNN News</ns1:newspaper>    <ns1:title>Iran\\\\\\'s president vows to defy Trump sanctions</ns1:title>  </rdf:Description>  <rdf:Description rdf:about=\"http://example.org/article/Article_7\">    <ns1:content>A fall in new car sales has fuelled a slow down in borrowing by consumers, the Bank of England said.Its data showed that the annual growth rate in consumer credit slowed to 7.7% in the year to September. This is down from 8.2% in August - and the weakest pace since June 2015. The amount of borrowing in September fell to $800m, in part because of the fall in demand for car finance.New car sales fell 20.5% in September, data has shown.The Society of Motor Manufacturers and Traders\\\\\\' figures published earlier this month showed sales of petrol and diesel cars fell, while those of hybrids and plug-in electric rose by just 3.9%.</ns1:content>    <ns1:newspaper>BBC News</ns1:newspaper>    <ns1:time>29-Oct-18</ns1:time>    <ns1:category>7</ns1:category>    <ns1:title>Car sales drop leaves borrowing growth rate at three-year low</ns1:title>    <ns1:author>Unknown</ns1:author>  </rdf:Description>  <rdf:Description rdf:about=\"http://example.org/article/Article_20\">    <ns1:time>12-Aug-18</ns1:time>    <ns1:author>Unknown</ns1:author>    <ns1:title>Christian camp leader John Smyth suspected of abuse dies</ns1:title>    <ns1:category>15</ns1:category>    <ns1:newspaper>BBC News</ns1:newspaper>    <ns1:content>A leading barrister suspected of physically abusing boys who attended Christian summer camps has died.John Smyth QC, 77, had been wanted for questioning over abuse claims concerning boys at Winchester College during the 1970s and 1980s.In a statement his family told BBC News the cause of death appeared to be a sudden heart attack following a heart procedure last week.They asked to be \"left alone\" to grieve in private.Mr Smyth was previously a senior member of Christian charity the Iwerne Trust and died at his home in Cape Town, South Africa on Saturday.Victim advocate, Andrew Graystone, said Hampshire police informed victims the CPS had asked them to summon Mr Smyth back to the UK for formal questioning with a view to possible charges last week.The CPS said it was \"not in a position to comment at this time\".Mr Smyth also previously worked as a barrister representing the moralising campaigner Mary Whitehouse and ran camps in Dorset for young evangelical Christians during the 1970s and 1980s.He and his wife Anne were excommunicated by Church-on-Main, in Cape Town last year.Officials said he had been \"evasive, combative, non-compliant and generally unwilling to work with us\" when the abuse allegations surfaced.Reports of his alleged physical abuse of 22 boys were revealed in an investigation by Channel 4 News in February 2017.The investigation came after a report by the Iwerne Trust from 1982, which was not made public until 2016.It found Mr Smyth identified pupils from leading public schools like Winchester College and took them to his home near Winchester in Hampshire, where he carried out lashings with a garden cane in his shed.It said eight of the boys received a total of 14,000 lashes, while two more received 8,000 strokes between them over three years.The Iwerne Trust called the practice \"horrific\" but the claims were not reported to police until 2013 - more than 30 years later.\\\\\\'No justice\\\\\\'Mr Smyth refused to comment on the allegations, which were reported to have happened while Archbishop of Canterbury, Justin Welby, worked at some of the camps as a young man in the 1970s.He said he knew nothing of the abuse until it was reported to police.The Bishop of Guildford, Andrew Watson, has also said he was abused by Mr Smyth.Mr Graystone said a number of alleged victims expressed their sympathy for his family in their loss.He added: \"They are, however, angry that the police and the Church of England have failed to respond to their disclosures for the past six years. As a direct result they will see no justice, and more importantly they will not get answers to their crucial questions about why this was allowed to happen.\"A spokeswoman for Hampshire Constabulary said: \"We are in the process of speaking with the victims of the non-recent abuse allegations, to update them on the news that we have heard around the suspect\\\\\\'s death.\"Until those conversations have taken place, and until we have spoken with the CPS and the suspect\\\\\\'s solicitor, it would be inappropriate for us to comment further.\"</ns1:content>  </rdf:Description>  <rdf:Description rdf:about=\"http://example.org/article/Article_9\">    <ns1:category>8</ns1:category>    <ns1:author>Unknown</ns1:author>    <ns1:content>John McGuinness has continued to impress on his Isle of Man TT comeback at the Festival of Motorcycling.Despite missing two years with injuries suffered in 2016\\\\\\'s North West 200, the Morecambe racer, 46, again topped the Senior Classic TT times at 106.585mph.Riders gained some much-needed track time after three days of poor weather led to several cancelled sessions.Meanwhile, local racer Dan Sayle recorded the fastest lap of the evening in the Lightweight class at 109.406mph.Several other Classic TT racers including Charles Rhys Hardisty, Jamie Coward, Ian Lougher and Maria Costello also recorded 100mph laps on the night.The Festival of Motorcycling incorporates both the Classic TT and Manx Grand Prix events.Manx Grand Prix competitors\\\\\\' practice followed the TT sessions but was cut short due to rain with Dave Lumsden quickest at 107.56mph.Practice will continue during Friday ahead of Saturday\\\\\\'s opening Classic TT races.</ns1:content>    <ns1:title>Festival of Motorcycling: John McGuinness impresses on TT return</ns1:title>    <ns1:newspaper>BBC News</ns1:newspaper>    <ns1:time>24-Aug-18</ns1:time>  </rdf:Description>  <rdf:Description rdf:about=\"http://example.org/article/Article_2\">    <ns1:newspaper>BBC News</ns1:newspaper>    <ns1:time>9-Oct-17</ns1:time>    <ns1:content>Microsoft appears to have abandoned its smartphone operating system ambitions.The company\\\\\\'s Windows 10 chief has tweeted that developing new features and hardware for the Mobile version of the OS was no longer a \"focus\".Joe Belfiore added that he had also switched to Android himself.Windows 10 Mobile tried to attract users by letting them run the same \"universal apps\" on both their PCs and handsets, but the concept failed to catch on.The OS accounted for just 0.03% of the global market - based on smartphone shipments - between April and June, according to research company IDC.The market intelligence provider said the news had been a long time coming.\"There wasn\\\\\\'t a wide range of devices running Windows 10 Mobile, so it wasn\\\\\\'t attractive to retailers or operators,\" said IDC\\\\\\'s Francisco Jeronimo.\"And from a consumer perspective, the operating system didn\\\\\\'t provide as good an experience as Android or iOS.\"Mr Belfiore began a series of tweets on Sunday by discussing the recent launch of a test version of Microsoft\\\\\\'s Edge web browser for Android and iOS - the latest in a series of releases of its core software for rival mobile platforms.He then went on to respond to questions about whether there was any point sticking with Windows 10 Mobile.He said that while Microsoft would support the \"many companies\" that had adopted the platform, he had switched to Android for the diversity of its apps and hardware.\"Of course we\\\\\\'ll continue to support the platform... bug fixes, security updates, et cetera,\" he said.\"But building new features or hardware is not the focus.\"Mr Belfiore posted Microsoft had tried \"very hard\" to incentivise other companies to release universal apps - even writing their software for them in some cases - but the number of users had been too low for most to bother.The announcement comes a week after HP had said it no longer planned to release further Windows 10 Mobile handsets, and a fortnight after Microsoft co-founder Bill Gates disclosed that he had already made the switch to Android.However, some manufacturers - including the UK\\\\\\'s Wileyfox and Germany\\\\\\'s TrekStor - had unveiled new models powered by Windows 10 Mobile as recently as last month.\"Most Microsoft applications are now available and supported on other mobile operating systems,\" said Mr Jeronimo.\"After Satya Nadella took over [as chief executive], that clearly became the strategy - and after that happened what incentive was there to buy a Windows-powered phone?\"However, Microsoft may not have given up on powering smartphones altogether.Earlier this year, Windows Central reported the company was working on a new version of Windows 10 - codenamed Andromeda - that would run on all types of computer and make it possible for third-party apps to adapt without having to code a special \"universal\" version.It said the OS was due for release next year, but suggested the code would not be offered as an upgrade to existing Windows 10 Mobile devices.A spokeswoman for Microsoft was unable to provide further comment.</ns1:content>    <ns1:author>Leo Kelion</ns1:author>    <ns1:title>Microsoft gives up on Windows 10 Mobile</ns1:title>    <ns1:category>2</ns1:category>  </rdf:Description></rdf:RDF>'"
      ]
     },
     "execution_count": 47,
     "metadata": {},
     "output_type": "execute_result"
    }
   ],
   "source": [
    "graph_output = str(g.serialize())\n",
    "graph_output = graph_output[2:-1]\n",
    "graph_output = graph_output.replace('\\\\n','')\n",
    "graph_output"
   ]
  },
  {
   "cell_type": "markdown",
   "metadata": {},
   "source": [
    "#### 3.1.3. Use Tools to Format and Validate RDF XML"
   ]
  },
  {
   "cell_type": "markdown",
   "metadata": {},
   "source": [
    "* XML Formatter: https://www.webtoolkitonline.com/xml-formatter.html\n",
    "* XML Validator: https://www.xmlvalidation.com/"
   ]
  },
  {
   "cell_type": "markdown",
   "metadata": {},
   "source": [
    "### 3.2. Save RDF Graph"
   ]
  },
  {
   "cell_type": "code",
   "execution_count": 48,
   "metadata": {},
   "outputs": [],
   "source": [
    "file = open('News30.rdf', 'w', encoding='utf-8')\n",
    "file.write(graph_output)\n",
    "file.close()"
   ]
  },
  {
   "cell_type": "markdown",
   "metadata": {},
   "source": [
    "### 3.3. SPARQL Query"
   ]
  },
  {
   "cell_type": "markdown",
   "metadata": {},
   "source": [
    "#### 3.3.1 Load RDF Document"
   ]
  },
  {
   "cell_type": "code",
   "execution_count": 49,
   "metadata": {},
   "outputs": [],
   "source": [
    "import rdflib"
   ]
  },
  {
   "cell_type": "code",
   "execution_count": 50,
   "metadata": {},
   "outputs": [],
   "source": [
    "g = rdflib.Graph()\n",
    "g.load(\"News30.rdf\")"
   ]
  },
  {
   "cell_type": "markdown",
   "metadata": {},
   "source": [
    "#### 3.3.2. Query RDF"
   ]
  },
  {
   "cell_type": "code",
   "execution_count": 51,
   "metadata": {},
   "outputs": [
    {
     "name": "stdout",
     "output_type": "stream",
     "text": [
      "http://example.org/article/Article_27 title: The dangerous consequences of Trump\\'s all-out assault on political correctness\n",
      "http://example.org/article/Article_28 title: Barack Obama asked the question everyone\\'s been wondering about the Republican Party\n",
      "http://example.org/article/Article_4 title: Private messages from 81,000 hacked Facebook accounts for sale\n",
      "http://example.org/article/Article_16 title: Four Nations: Ireland in back-to-back Dutch defeats\n",
      "http://example.org/article/Article_18 title: Lent Fast Facts\n",
      "http://example.org/article/Article_8 title: Meet the new, profitable, Tesla\n",
      "http://example.org/article/Article_22 title: 11-year-old fatally shot grandmother then himself, grandfather tells police\n",
      "http://example.org/article/Article_23 title: Police kill gunman who wounded four at municipal building in Pennsylvania\n",
      "http://example.org/article/Article_13 title: Robinson Cano: $240m baseball star banned for 80 games for failed drugs test\n",
      "http://example.org/article/Article_21 title: How a night out turned into a night of horror at a bar in California\n",
      "http://example.org/article/Article_6 title: Tesla names Robyn Denholm as chair to replace Elon Musk\n",
      "http://example.org/article/Article_17 title: Four Nations: Ireland earn 4-3 shootout win over England to finish third\n",
      "http://example.org/article/Article_0 title: Windows 10 release\n",
      "http://example.org/article/Article_24 title: Syrian Kurds resume push to rid ISIS from last pockets of Syria\n",
      "http://example.org/article/Article_10 title: Killed great-grandfather \\'had passion for motorcycles\\'\n",
      "http://example.org/article/Article_7 title: Car sales drop leaves borrowing growth rate at three-year low\n",
      "http://example.org/article/Article_15 title: What is hockey?\\' Pierre-Edouard Bellemare\\'s unlikely journey to the NHL\n",
      "http://example.org/article/Article_11 title: 10 best motorcycle roads in the United States\n",
      "http://example.org/article/Article_3 title: Kodak sale of flexographic packaging business\n",
      "http://example.org/article/Article_1 title: Microsoft ends retail sales of Windows 7 and 8\n",
      "http://example.org/article/Article_25 title: Iran\\'s president vows to defy Trump sanctions\n",
      "http://example.org/article/Article_14 title: Japan\\'s baseball star Shohei Ohtani draws Babe Ruth comparisons\n",
      "http://example.org/article/Article_26 title: Barrage of rockets launched at Israel following botched Gaza operation\n",
      "http://example.org/article/Article_2 title: Microsoft gives up on Windows 10 Mobile\n",
      "http://example.org/article/Article_19 title: How the religious makeup of the electorate changed in 2018\n",
      "http://example.org/article/Article_9 title: Festival of Motorcycling: John McGuinness impresses on TT return\n",
      "http://example.org/article/Article_29 title: Political frenemies: Readers react to poll about party divisions among friends\n",
      "http://example.org/article/Article_12 title: Welington Castillo: Chicago White Sox catcher banned for 80 games over failed drugs test\n",
      "http://example.org/article/Article_5 title: Xiaomi criticised for UK smartphone $1 flash sale\n",
      "http://example.org/article/Article_20 title: Christian camp leader John Smyth suspected of abuse dies\n"
     ]
    }
   ],
   "source": [
    "qres = g.query(\n",
    "    \"\"\"\n",
    "    SELECT ?a ?b\n",
    "    WHERE \n",
    "    {\n",
    "        ?a foaf:title ?b .\n",
    "    }\n",
    "    \"\"\",initNs = { \"foaf\": FOAF }\n",
    ")\n",
    "\n",
    "for row in qres:\n",
    "    print(\"%s title: %s\" % row)"
   ]
  },
  {
   "cell_type": "markdown",
   "metadata": {},
   "source": [
    "#### 3.3.3. Query RDF with PrepareQuery"
   ]
  },
  {
   "cell_type": "code",
   "execution_count": 52,
   "metadata": {},
   "outputs": [],
   "source": [
    "from rdflib.plugins.sparql import prepareQuery"
   ]
  },
  {
   "cell_type": "code",
   "execution_count": 53,
   "metadata": {},
   "outputs": [
    {
     "name": "stdout",
     "output_type": "stream",
     "text": [
      "http://example.org/article/Article_27 title: The dangerous consequences of Trump\\'s all-out assault on political correctness\n",
      "http://example.org/article/Article_28 title: Barack Obama asked the question everyone\\'s been wondering about the Republican Party\n",
      "http://example.org/article/Article_4 title: Private messages from 81,000 hacked Facebook accounts for sale\n",
      "http://example.org/article/Article_16 title: Four Nations: Ireland in back-to-back Dutch defeats\n",
      "http://example.org/article/Article_18 title: Lent Fast Facts\n",
      "http://example.org/article/Article_8 title: Meet the new, profitable, Tesla\n",
      "http://example.org/article/Article_22 title: 11-year-old fatally shot grandmother then himself, grandfather tells police\n",
      "http://example.org/article/Article_23 title: Police kill gunman who wounded four at municipal building in Pennsylvania\n",
      "http://example.org/article/Article_13 title: Robinson Cano: $240m baseball star banned for 80 games for failed drugs test\n",
      "http://example.org/article/Article_21 title: How a night out turned into a night of horror at a bar in California\n",
      "http://example.org/article/Article_6 title: Tesla names Robyn Denholm as chair to replace Elon Musk\n",
      "http://example.org/article/Article_17 title: Four Nations: Ireland earn 4-3 shootout win over England to finish third\n",
      "http://example.org/article/Article_0 title: Windows 10 release\n",
      "http://example.org/article/Article_24 title: Syrian Kurds resume push to rid ISIS from last pockets of Syria\n",
      "http://example.org/article/Article_10 title: Killed great-grandfather \\'had passion for motorcycles\\'\n",
      "http://example.org/article/Article_7 title: Car sales drop leaves borrowing growth rate at three-year low\n",
      "http://example.org/article/Article_15 title: What is hockey?\\' Pierre-Edouard Bellemare\\'s unlikely journey to the NHL\n",
      "http://example.org/article/Article_11 title: 10 best motorcycle roads in the United States\n",
      "http://example.org/article/Article_3 title: Kodak sale of flexographic packaging business\n",
      "http://example.org/article/Article_1 title: Microsoft ends retail sales of Windows 7 and 8\n",
      "http://example.org/article/Article_25 title: Iran\\'s president vows to defy Trump sanctions\n",
      "http://example.org/article/Article_14 title: Japan\\'s baseball star Shohei Ohtani draws Babe Ruth comparisons\n",
      "http://example.org/article/Article_26 title: Barrage of rockets launched at Israel following botched Gaza operation\n",
      "http://example.org/article/Article_2 title: Microsoft gives up on Windows 10 Mobile\n",
      "http://example.org/article/Article_19 title: How the religious makeup of the electorate changed in 2018\n",
      "http://example.org/article/Article_9 title: Festival of Motorcycling: John McGuinness impresses on TT return\n",
      "http://example.org/article/Article_29 title: Political frenemies: Readers react to poll about party divisions among friends\n",
      "http://example.org/article/Article_12 title: Welington Castillo: Chicago White Sox catcher banned for 80 games over failed drugs test\n",
      "http://example.org/article/Article_5 title: Xiaomi criticised for UK smartphone $1 flash sale\n",
      "http://example.org/article/Article_20 title: Christian camp leader John Smyth suspected of abuse dies\n"
     ]
    }
   ],
   "source": [
    "q = prepareQuery(\n",
    "    'SELECT ?a ?b WHERE { ?a foaf:title ?b . }',\n",
    "    initNs = { \"foaf\": FOAF })\n",
    "\n",
    "for row in g.query(q):\n",
    "        print(\"%s title: %s\" % row)"
   ]
  },
  {
   "cell_type": "markdown",
   "metadata": {},
   "source": [
    "---"
   ]
  },
  {
   "cell_type": "markdown",
   "metadata": {},
   "source": [
    "# -END-"
   ]
  }
 ],
 "metadata": {
  "kernelspec": {
   "display_name": "Python 3",
   "language": "python",
   "name": "python3"
  },
  "language_info": {
   "codemirror_mode": {
    "name": "ipython",
    "version": 3
   },
   "file_extension": ".py",
   "mimetype": "text/x-python",
   "name": "python",
   "nbconvert_exporter": "python",
   "pygments_lexer": "ipython3",
   "version": "3.6.8"
  },
  "toc": {
   "base_numbering": 1,
   "nav_menu": {},
   "number_sections": false,
   "sideBar": true,
   "skip_h1_title": false,
   "title_cell": "Table of Contents",
   "title_sidebar": "Contents",
   "toc_cell": false,
   "toc_position": {
    "height": "calc(100% - 180px)",
    "left": "10px",
    "top": "150px",
    "width": "288px"
   },
   "toc_section_display": true,
   "toc_window_display": true
  }
 },
 "nbformat": 4,
 "nbformat_minor": 2
}
